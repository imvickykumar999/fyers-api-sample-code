{
  "nbformat": 4,
  "nbformat_minor": 0,
  "metadata": {
    "colab": {
      "provenance": [],
      "authorship_tag": "ABX9TyNjzYXnJ3fK34qD6lXtzDml",
      "include_colab_link": true
    },
    "kernelspec": {
      "name": "python3",
      "display_name": "Python 3"
    },
    "language_info": {
      "name": "python"
    }
  },
  "cells": [
    {
      "cell_type": "markdown",
      "metadata": {
        "id": "view-in-github",
        "colab_type": "text"
      },
      "source": [
        "<a href=\"https://colab.research.google.com/github/imvickykumar999/fyers-api-sample-code/blob/sample_v2/fyers_trading_apis.ipynb\" target=\"_parent\"><img src=\"https://colab.research.google.com/assets/colab-badge.svg\" alt=\"Open In Colab\"/></a>"
      ]
    },
    {
      "cell_type": "markdown",
      "source": [
        "# **Running** [Sample_Test_trading_Data](https://github.com/imvickykumar999/fyers-api-sample-code)._py_"
      ],
      "metadata": {
        "id": "3CB4SFsNlS-5"
      }
    },
    {
      "cell_type": "code",
      "execution_count": 9,
      "metadata": {
        "colab": {
          "base_uri": "https://localhost:8080/"
        },
        "id": "d2NU-Gk_SkTP",
        "outputId": "4a5ddbe5-6bfc-4ede-f94c-2100cc3f48bc"
      },
      "outputs": [
        {
          "output_type": "stream",
          "name": "stdout",
          "text": [
            "Requirement already satisfied: fyers-apiv2 in /usr/local/lib/python3.10/dist-packages (2.0.9)\n",
            "Requirement already satisfied: requests==2.25.1 in /usr/local/lib/python3.10/dist-packages (from fyers-apiv2) (2.25.1)\n",
            "Requirement already satisfied: tornado==6.1 in /usr/local/lib/python3.10/dist-packages (from fyers-apiv2) (6.1)\n",
            "Requirement already satisfied: asyncio==3.4.3 in /usr/local/lib/python3.10/dist-packages (from fyers-apiv2) (3.4.3)\n",
            "Requirement already satisfied: websockets==8.1 in /usr/local/lib/python3.10/dist-packages (from fyers-apiv2) (8.1)\n",
            "Requirement already satisfied: websocket-client==1.2.1 in /usr/local/lib/python3.10/dist-packages (from fyers-apiv2) (1.2.1)\n",
            "Requirement already satisfied: chardet<5,>=3.0.2 in /usr/local/lib/python3.10/dist-packages (from requests==2.25.1->fyers-apiv2) (4.0.0)\n",
            "Requirement already satisfied: idna<3,>=2.5 in /usr/local/lib/python3.10/dist-packages (from requests==2.25.1->fyers-apiv2) (2.10)\n",
            "Requirement already satisfied: urllib3<1.27,>=1.21.1 in /usr/local/lib/python3.10/dist-packages (from requests==2.25.1->fyers-apiv2) (1.26.19)\n",
            "Requirement already satisfied: certifi>=2017.4.17 in /usr/local/lib/python3.10/dist-packages (from requests==2.25.1->fyers-apiv2) (2024.6.2)\n"
          ]
        }
      ],
      "source": [
        "!pip install fyers-apiv2"
      ]
    },
    {
      "cell_type": "code",
      "source": [
        "import fyers_api  # Use the correct package name\n",
        "\n",
        "help(fyers_api)  # Now this should work"
      ],
      "metadata": {
        "colab": {
          "base_uri": "https://localhost:8080/"
        },
        "id": "ICcnUtXDSn_j",
        "outputId": "59a70ccd-8e09-436e-90fe-1bc8aece81f1"
      },
      "execution_count": 10,
      "outputs": [
        {
          "output_type": "stream",
          "name": "stdout",
          "text": [
            "Help on package fyers_api:\n",
            "\n",
            "NAME\n",
            "    fyers_api\n",
            "\n",
            "PACKAGE CONTENTS\n",
            "    Websocket (package)\n",
            "    accessToken\n",
            "    config\n",
            "    fyersFormation\n",
            "    fyersLog\n",
            "    fyersModel\n",
            "    fyersService\n",
            "\n",
            "DATA\n",
            "    name = 'FyersApi'\n",
            "\n",
            "FILE\n",
            "    /usr/local/lib/python3.10/dist-packages/fyers_api/__init__.py\n",
            "\n",
            "\n"
          ]
        }
      ]
    },
    {
      "cell_type": "code",
      "source": [
        "redirect_uri = 'https://www.influencerhiring.com/'\n",
        "client_id = '2A6LCH4LF8-100'\n",
        "secret_key = 'AZQK26LO8W'\n",
        "FY_ID = 'YP11263'  # Your fyers ID\n",
        "\n",
        "# Replace with correct base32 encoded TOTP secret key\n",
        "TOTP_KEY = 'RAW3IWFQZUZSHBSIZO6JRHB2FUDR5UIC'\n",
        "PIN = '6545'  # User pin for fyers account"
      ],
      "metadata": {
        "id": "3_UC5NEfVTOW"
      },
      "execution_count": 5,
      "outputs": []
    },
    {
      "cell_type": "code",
      "source": [
        "!pip install pyotp"
      ],
      "metadata": {
        "colab": {
          "base_uri": "https://localhost:8080/"
        },
        "id": "YV4Tg7bAZS-Y",
        "outputId": "14fdddc7-db8f-4e7a-8951-c4d173b29723"
      },
      "execution_count": 11,
      "outputs": [
        {
          "output_type": "stream",
          "name": "stdout",
          "text": [
            "Requirement already satisfied: pyotp in /usr/local/lib/python3.10/dist-packages (2.9.0)\n"
          ]
        }
      ]
    },
    {
      "cell_type": "code",
      "source": [
        "from fyers_api import accessToken"
      ],
      "metadata": {
        "id": "wAiyHjKPYYHo"
      },
      "execution_count": 5,
      "outputs": []
    },
    {
      "cell_type": "code",
      "source": [
        "from fyers_api import fyersModel"
      ],
      "metadata": {
        "id": "M7j_k0eEUxPy"
      },
      "execution_count": 6,
      "outputs": []
    },
    {
      "cell_type": "code",
      "source": [
        "import webbrowser"
      ],
      "metadata": {
        "id": "Z_nDtc33im-q"
      },
      "execution_count": 7,
      "outputs": []
    },
    {
      "cell_type": "code",
      "source": [
        "redirect_uri = 'https://www.influencerhiring.com/'\n",
        "client_id = '2A6LCH4LF8-100'\n",
        "secret_key = 'AZQK26LO8W'                          ## app_secret key which you got after creating the app\n",
        "grant_type = \"authorization_code\"                  ## The grant_type always has to be \"authorization_code\"\n",
        "response_type = \"code\"                             ## The response_type always has to be \"code\"\n",
        "state = \"sample\""
      ],
      "metadata": {
        "id": "v4F5tcnYip_S"
      },
      "execution_count": 8,
      "outputs": []
    },
    {
      "cell_type": "code",
      "source": [
        "appSession = accessToken.SessionModel(client_id = client_id, redirect_uri = redirect_uri,response_type=response_type,state=state,secret_key=secret_key,grant_type=grant_type)\n",
        "appSession"
      ],
      "metadata": {
        "colab": {
          "base_uri": "https://localhost:8080/"
        },
        "id": "sPa-MAMki4DU",
        "outputId": "b9ff1614-3989-4759-9e17-7c5aba599673"
      },
      "execution_count": 12,
      "outputs": [
        {
          "output_type": "execute_result",
          "data": {
            "text/plain": [
              "<fyers_api.accessToken.SessionModel at 0x7d136df33ee0>"
            ]
          },
          "metadata": {},
          "execution_count": 12
        }
      ]
    },
    {
      "cell_type": "code",
      "source": [
        "generateTokenUrl = appSession.generate_authcode()\n",
        "generateTokenUrl"
      ],
      "metadata": {
        "colab": {
          "base_uri": "https://localhost:8080/",
          "height": 53
        },
        "id": "dNQ4tNH3jXks",
        "outputId": "af59b246-e6ab-477c-857d-793647ad01a3"
      },
      "execution_count": 13,
      "outputs": [
        {
          "output_type": "execute_result",
          "data": {
            "text/plain": [
              "'https://api.fyers.in/api/v2/generate-authcode?client_id=2A6LCH4LF8-100&redirect_uri=https%3A%2F%2Fwww.influencerhiring.com%2F&response_type=code&state=sample'"
            ],
            "application/vnd.google.colaboratory.intrinsic+json": {
              "type": "string"
            }
          },
          "metadata": {},
          "execution_count": 13
        }
      ]
    },
    {
      "cell_type": "code",
      "source": [
        "webbrowser.open(generateTokenUrl,new=1)"
      ],
      "metadata": {
        "colab": {
          "base_uri": "https://localhost:8080/"
        },
        "id": "NpeoIpCTjalW",
        "outputId": "9573dc66-fa31-4a71-ae4e-82797045aa23"
      },
      "execution_count": 14,
      "outputs": [
        {
          "output_type": "execute_result",
          "data": {
            "text/plain": [
              "False"
            ]
          },
          "metadata": {},
          "execution_count": 14
        }
      ]
    },
    {
      "cell_type": "code",
      "source": [
        "auth_code = \"Paste the auth_code generated from the first request\"\n",
        "appSession.set_token(auth_code)\n",
        "\n",
        "response = appSession.generate_token()\n",
        "response"
      ],
      "metadata": {
        "colab": {
          "base_uri": "https://localhost:8080/"
        },
        "id": "T5Ce1bsRjjFA",
        "outputId": "eb62aa96-ef3f-49fa-8d3d-c36e3a23d23d"
      },
      "execution_count": 15,
      "outputs": [
        {
          "output_type": "execute_result",
          "data": {
            "text/plain": [
              "{'s': 'error', 'code': -17, 'message': 'Could not authenticate the user'}"
            ]
          },
          "metadata": {},
          "execution_count": 15
        }
      ]
    },
    {
      "cell_type": "code",
      "source": [
        "try:\n",
        "    access_token = response[\"access_token\"]\n",
        "except Exception as e:\n",
        "    print(e,response)"
      ],
      "metadata": {
        "colab": {
          "base_uri": "https://localhost:8080/"
        },
        "id": "h-mJDdHelvq7",
        "outputId": "52772f3d-e9e4-454b-8737-34b37c7a143f"
      },
      "execution_count": 16,
      "outputs": [
        {
          "output_type": "stream",
          "name": "stdout",
          "text": [
            "'access_token' {'s': 'error', 'code': -17, 'message': 'Could not authenticate the user'}\n"
          ]
        }
      ]
    },
    {
      "cell_type": "code",
      "source": [
        "fyers = fyersModel.FyersModel(token=access_token,is_async=False,client_id=client_id,log_path=\"/home/downloads/\")\n",
        "fyers"
      ],
      "metadata": {
        "id": "9jN_8lpcl0sY"
      },
      "execution_count": null,
      "outputs": []
    },
    {
      "cell_type": "code",
      "source": [
        "\"\"\"\n",
        "1. User Apis : This includes (Profile,Funds,Holdings)\n",
        "\"\"\"\n",
        "\n",
        "print(fyers.get_profile())  ## This will provide us with the user related data\n",
        "\n",
        "print(fyers.funds())        ## This will provide us with the funds the user has\n",
        "\n",
        "print(fyers.holdings())    ## This will provide the available holdings the user has\n"
      ],
      "metadata": {
        "id": "9Hg7I-vAl43X"
      },
      "execution_count": null,
      "outputs": []
    },
    {
      "cell_type": "code",
      "source": [
        "\"\"\"\n",
        "2. Transaction Apis : This includes (Tradebook,Orderbook,Positions)\n",
        "\"\"\"\n",
        "\n",
        "print(fyers.tradebook())   ## This will provide all the trade related information\n",
        "\n",
        "print(fyers.orderbook())   ## This will provide the user with all the order realted information\n",
        "\n",
        "print(fyers.positions())   ## This will provide the user with all the positions the user has on his end\n"
      ],
      "metadata": {
        "id": "6mYpAog0l9xY"
      },
      "execution_count": null,
      "outputs": []
    },
    {
      "cell_type": "code",
      "source": [
        "\"\"\"\n",
        "3. Order Placement  : This Apis helps to place order.\n",
        "There are two ways to place order\n",
        "a. single order : wherein you can fire one order at a time\n",
        "b. multi order : this is used to place a basket of order but the basket size can max be 10 symbols\n",
        "\"\"\"\n",
        "\n",
        "## SINGLE ORDER\n",
        "\n",
        "data =  {\n",
        "      \"symbol\":\"NSE:ONGC-EQ\",\n",
        "      \"qty\":1,\n",
        "      \"type\":1,\n",
        "      \"side\":1,\n",
        "      \"productType\":\"INTRADAY\",\n",
        "      \"limitPrice\":0,\n",
        "      \"stopPrice\":0,\n",
        "      \"validity\":\"DAY\",\n",
        "      \"disclosedQty\":0,\n",
        "      \"offlineOrder\":\"False\",\n",
        "      \"stopLoss\":0,\n",
        "      \"takeProfit\":0\n",
        "    }                              ## This is a sample example to place a limit order you can make the further changes based on your requriements\n",
        "\n",
        "print(fyers.place_order(data))\n"
      ],
      "metadata": {
        "id": "nJyUupG8mAur"
      },
      "execution_count": null,
      "outputs": []
    },
    {
      "cell_type": "code",
      "source": [
        "## MULTI ORDER\n",
        "\n",
        "data = [{ \"symbol\":\"NSE:SBIN-EQ\",\n",
        "  \"qty\":1,\n",
        "  \"type\":1,\n",
        "  \"side\":1,\n",
        "  \"productType\":\"INTRADAY\",\n",
        "  \"limitPrice\":61050,\n",
        "  \"stopPrice\":0 ,\n",
        "  \"disclosedQty\":0,\n",
        "  \"validity\":\"DAY\",\n",
        "  \"offlineOrder\":\"False\",\n",
        "  \"stopLoss\":0,\n",
        "  \"takeProfit\":0\n",
        "},\n",
        "{\n",
        "  \"symbol\":\"NSE:HDFC-EQ\",\n",
        "  \"qty\":1,\n",
        "  \"type\":2,\n",
        "  \"side\":1,\n",
        "  \"productType\":\"INTRADAY\",\n",
        "  \"limitPrice\":0,\n",
        "  \"stopPrice\":0 ,\n",
        "  \"disclosedQty\":0,\n",
        "  \"validity\":\"DAY\",\n",
        "  \"offlineOrder\":\"False\",\n",
        "  \"stopLoss\":0,\n",
        "  \"takeProfit\":0\n",
        "}]                                                ### This takes input as a list containing multiple single order data into it and the execution of the orders goes in the same format as mentioned.\n",
        "\n",
        "print(fyers.place_basket_orders(data))\n"
      ],
      "metadata": {
        "id": "TCeS4L8ln5R0"
      },
      "execution_count": null,
      "outputs": []
    },
    {
      "cell_type": "code",
      "source": [
        "\"\"\"\n",
        "4. Other Transaction : This includes (modify_order,exit_position,cancel_order,convert_positions)\n",
        "\"\"\"\n",
        "\n",
        "## Modify_order request\n",
        "data = {\n",
        "          \"id\":7574657627567,\n",
        "          \"type\":1,\n",
        "          \"limitPrice\": 61049,\n",
        "          \"qty\":1\n",
        "      }\n",
        "\n",
        "print(fyers.modify_order(data))\n"
      ],
      "metadata": {
        "id": "LteAFeZcmG8X"
      },
      "execution_count": null,
      "outputs": []
    },
    {
      "cell_type": "code",
      "source": [
        "## Modify Multi Order\n",
        "\n",
        "data = [\n",
        "    { \"id\":8102710298291,\n",
        "  \"type\":1,\n",
        "  \"limitPrice\": 61049,\n",
        "  \"qty\":0\n",
        "},\n",
        "{\n",
        "  \"id\":8102710298292,\n",
        "  \"type\":1,\n",
        "  \"limitPrice\": 61049,\n",
        "  \"qty\":1\n",
        "}]\n",
        "\n",
        "print(fyers.modify_basket_orders(data))\n"
      ],
      "metadata": {
        "id": "ARHLiKcUmnTt"
      },
      "execution_count": null,
      "outputs": []
    },
    {
      "cell_type": "code",
      "source": [
        "### Cancel_order\n",
        "data = {\"id\":'808058117761'}\n",
        "print(fyers.cancel_order(data))"
      ],
      "metadata": {
        "id": "B5a9qHTbmqVf"
      },
      "execution_count": null,
      "outputs": []
    },
    {
      "cell_type": "code",
      "source": [
        "### cancel_multi_order\n",
        "data  =  [\n",
        "{\n",
        "   \"id\":'808058117761'\n",
        " },\n",
        " {\n",
        "   \"id\":'808058117762'\n",
        " }]\n",
        "\n",
        "print(fyers.cancel_basket_orders(data))\n"
      ],
      "metadata": {
        "id": "ijNaocRKmvrE"
      },
      "execution_count": null,
      "outputs": []
    },
    {
      "cell_type": "code",
      "source": [
        "### Exit Position\n",
        "data  = {\n",
        "     \"id\":\"NSE:SBIN-EQ-INTRADAY\"\n",
        "   }\n",
        "\n",
        "print(fyers.exit_positions(data))\n"
      ],
      "metadata": {
        "id": "Bl7sYhtemv49"
      },
      "execution_count": null,
      "outputs": []
    },
    {
      "cell_type": "code",
      "source": [
        "### Convert Position\n",
        "\n",
        "data = {\n",
        "     \"symbol\":\"MCX:SILVERMIC20NOVFUT\",\n",
        "     \"positionSide\":1,\n",
        "     \"convertQty\":1,\n",
        "     \"convertFrom\":\"INTRADAY\",\n",
        "     \"convertTo\":\"CNC\"\n",
        "   }\n",
        "\n",
        "print(fyers.convert_position(data))\n"
      ],
      "metadata": {
        "id": "9ofYE1cVmzXe"
      },
      "execution_count": null,
      "outputs": []
    },
    {
      "cell_type": "code",
      "source": [
        "\"\"\"\n",
        "DATA APIS : This includes following Apis(History,Quotes,MarketDepth)\n",
        "\"\"\"\n",
        "\n",
        "## Historical Data\n",
        "\n",
        "data = {\"symbol\":\"NSE:SBIN-EQ\",\"resolution\":\"D\",\"date_format\":\"0\",\"range_from\":\"1622097600\",\"range_to\":\"1622097685\",\"cont_flag\":\"1\"}\n",
        "\n",
        "print(fyers.history(data))\n"
      ],
      "metadata": {
        "id": "0y8HJEO5m13b"
      },
      "execution_count": null,
      "outputs": []
    },
    {
      "cell_type": "code",
      "source": [
        "## Quotes\n",
        "\n",
        "data = {\"symbols\":\"NSE:SBIN-EQ\"}\n",
        "print(fyers.quotes(data))\n"
      ],
      "metadata": {
        "id": "0S0ppHxGm9nD"
      },
      "execution_count": null,
      "outputs": []
    },
    {
      "cell_type": "code",
      "source": [
        "## Market Depth\n",
        "\n",
        "data = {\"symbol\":\"NSE:SBIN-EQ\",\"ohlcv_flag\":\"1\"}\n",
        "print(fyers.depth(data))"
      ],
      "metadata": {
        "id": "hLYKcdhqnA-U"
      },
      "execution_count": null,
      "outputs": []
    },
    {
      "cell_type": "code",
      "source": [],
      "metadata": {
        "id": "L6i5585xnDEj"
      },
      "execution_count": null,
      "outputs": []
    }
  ]
}