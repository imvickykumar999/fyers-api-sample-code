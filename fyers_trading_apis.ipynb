{
  "nbformat": 4,
  "nbformat_minor": 0,
  "metadata": {
    "colab": {
      "provenance": [],
      "authorship_tag": "ABX9TyOKYQu4vg1ie/0DPmqEw673",
      "include_colab_link": true
    },
    "kernelspec": {
      "name": "python3",
      "display_name": "Python 3"
    },
    "language_info": {
      "name": "python"
    }
  },
  "cells": [
    {
      "cell_type": "markdown",
      "metadata": {
        "id": "view-in-github",
        "colab_type": "text"
      },
      "source": [
        "<a href=\"https://colab.research.google.com/github/imvickykumar999/fyers-api-sample-code/blob/sample_v2/fyers_trading_apis.ipynb\" target=\"_parent\"><img src=\"https://colab.research.google.com/assets/colab-badge.svg\" alt=\"Open In Colab\"/></a>"
      ]
    },
    {
      "cell_type": "markdown",
      "source": [
        "# **Running** [Sample_Test_trading_Data](https://github.com/imvickykumar999/fyers-api-sample-code)._py_"
      ],
      "metadata": {
        "id": "3CB4SFsNlS-5"
      }
    },
    {
      "cell_type": "code",
      "execution_count": 9,
      "metadata": {
        "colab": {
          "base_uri": "https://localhost:8080/"
        },
        "id": "d2NU-Gk_SkTP",
        "outputId": "4a5ddbe5-6bfc-4ede-f94c-2100cc3f48bc"
      },
      "outputs": [
        {
          "output_type": "stream",
          "name": "stdout",
          "text": [
            "Requirement already satisfied: fyers-apiv2 in /usr/local/lib/python3.10/dist-packages (2.0.9)\n",
            "Requirement already satisfied: requests==2.25.1 in /usr/local/lib/python3.10/dist-packages (from fyers-apiv2) (2.25.1)\n",
            "Requirement already satisfied: tornado==6.1 in /usr/local/lib/python3.10/dist-packages (from fyers-apiv2) (6.1)\n",
            "Requirement already satisfied: asyncio==3.4.3 in /usr/local/lib/python3.10/dist-packages (from fyers-apiv2) (3.4.3)\n",
            "Requirement already satisfied: websockets==8.1 in /usr/local/lib/python3.10/dist-packages (from fyers-apiv2) (8.1)\n",
            "Requirement already satisfied: websocket-client==1.2.1 in /usr/local/lib/python3.10/dist-packages (from fyers-apiv2) (1.2.1)\n",
            "Requirement already satisfied: chardet<5,>=3.0.2 in /usr/local/lib/python3.10/dist-packages (from requests==2.25.1->fyers-apiv2) (4.0.0)\n",
            "Requirement already satisfied: idna<3,>=2.5 in /usr/local/lib/python3.10/dist-packages (from requests==2.25.1->fyers-apiv2) (2.10)\n",
            "Requirement already satisfied: urllib3<1.27,>=1.21.1 in /usr/local/lib/python3.10/dist-packages (from requests==2.25.1->fyers-apiv2) (1.26.19)\n",
            "Requirement already satisfied: certifi>=2017.4.17 in /usr/local/lib/python3.10/dist-packages (from requests==2.25.1->fyers-apiv2) (2024.6.2)\n"
          ]
        }
      ],
      "source": [
        "!pip install fyers-apiv2"
      ]
    },
    {
      "cell_type": "code",
      "source": [
        "import fyers_api  # Use the correct package name\n",
        "\n",
        "help(fyers_api)  # Now this should work"
      ],
      "metadata": {
        "colab": {
          "base_uri": "https://localhost:8080/"
        },
        "id": "ICcnUtXDSn_j",
        "outputId": "59a70ccd-8e09-436e-90fe-1bc8aece81f1"
      },
      "execution_count": 10,
      "outputs": [
        {
          "output_type": "stream",
          "name": "stdout",
          "text": [
            "Help on package fyers_api:\n",
            "\n",
            "NAME\n",
            "    fyers_api\n",
            "\n",
            "PACKAGE CONTENTS\n",
            "    Websocket (package)\n",
            "    accessToken\n",
            "    config\n",
            "    fyersFormation\n",
            "    fyersLog\n",
            "    fyersModel\n",
            "    fyersService\n",
            "\n",
            "DATA\n",
            "    name = 'FyersApi'\n",
            "\n",
            "FILE\n",
            "    /usr/local/lib/python3.10/dist-packages/fyers_api/__init__.py\n",
            "\n",
            "\n"
          ]
        }
      ]
    },
    {
      "cell_type": "markdown",
      "source": [
        "**Video** explains how users can authenticate their applications by generating auth codes, exchanging them for access tokens, and using these tokens to make secure API requests.\n",
        "\n",
        "---\n",
        "\n",
        "For the complete demonstration, you can view the video directly [here](https://assets.fyers.in/myapi-dashboard/docs/authentication_user_flow.webm)."
      ],
      "metadata": {
        "id": "2D6fExLDtayF"
      }
    },
    {
      "cell_type": "code",
      "source": [
        "redirect_uri = 'https://www.24x7bot.com/my-exchanges/fyers/'\n",
        "client_id = '2A6LCH4LF8-100'\n",
        "secret_key = 'AZQK26LO8W'\n",
        "FY_ID = 'YP11263'  # Your fyers ID\n",
        "\n",
        "# Replace with correct base32 encoded TOTP secret key\n",
        "TOTP_KEY = 'RAW3IWFQZUZSHBSIZO6JRHB2FUDR5UIC'\n",
        "PIN = '6545'  # User pin for fyers account"
      ],
      "metadata": {
        "id": "3_UC5NEfVTOW"
      },
      "execution_count": 69,
      "outputs": []
    },
    {
      "cell_type": "code",
      "source": [
        "!pip install pyotp"
      ],
      "metadata": {
        "colab": {
          "base_uri": "https://localhost:8080/"
        },
        "id": "YV4Tg7bAZS-Y",
        "outputId": "14fdddc7-db8f-4e7a-8951-c4d173b29723"
      },
      "execution_count": 11,
      "outputs": [
        {
          "output_type": "stream",
          "name": "stdout",
          "text": [
            "Requirement already satisfied: pyotp in /usr/local/lib/python3.10/dist-packages (2.9.0)\n"
          ]
        }
      ]
    },
    {
      "cell_type": "code",
      "source": [
        "from fyers_api import accessToken"
      ],
      "metadata": {
        "id": "wAiyHjKPYYHo"
      },
      "execution_count": 5,
      "outputs": []
    },
    {
      "cell_type": "code",
      "source": [
        "from fyers_api import fyersModel"
      ],
      "metadata": {
        "id": "M7j_k0eEUxPy"
      },
      "execution_count": 6,
      "outputs": []
    },
    {
      "cell_type": "code",
      "source": [
        "import webbrowser"
      ],
      "metadata": {
        "id": "Z_nDtc33im-q"
      },
      "execution_count": 7,
      "outputs": []
    },
    {
      "cell_type": "code",
      "source": [
        "redirect_uri = 'https://www.24x7bot.com/my-exchanges/fyers/'\n",
        "client_id = '2A6LCH4LF8-100'\n",
        "secret_key = 'AZQK26LO8W'                          ## app_secret key which you got after creating the app\n",
        "grant_type = \"authorization_code\"                  ## The grant_type always has to be \"authorization_code\"\n",
        "response_type = \"code\"                             ## The response_type always has to be \"code\"\n",
        "state = \"sample\""
      ],
      "metadata": {
        "id": "v4F5tcnYip_S"
      },
      "execution_count": 68,
      "outputs": []
    },
    {
      "cell_type": "code",
      "source": [
        "appSession = accessToken.SessionModel(client_id = client_id, redirect_uri = redirect_uri,response_type=response_type,state=state,secret_key=secret_key,grant_type=grant_type)\n",
        "appSession"
      ],
      "metadata": {
        "colab": {
          "base_uri": "https://localhost:8080/"
        },
        "id": "sPa-MAMki4DU",
        "outputId": "b9ff1614-3989-4759-9e17-7c5aba599673"
      },
      "execution_count": 12,
      "outputs": [
        {
          "output_type": "execute_result",
          "data": {
            "text/plain": [
              "<fyers_api.accessToken.SessionModel at 0x7d136df33ee0>"
            ]
          },
          "metadata": {},
          "execution_count": 12
        }
      ]
    },
    {
      "cell_type": "code",
      "source": [
        "generateTokenUrl = appSession.generate_authcode()\n",
        "generateTokenUrl"
      ],
      "metadata": {
        "colab": {
          "base_uri": "https://localhost:8080/",
          "height": 53
        },
        "id": "dNQ4tNH3jXks",
        "outputId": "af59b246-e6ab-477c-857d-793647ad01a3"
      },
      "execution_count": 13,
      "outputs": [
        {
          "output_type": "execute_result",
          "data": {
            "text/plain": [
              "'https://api.fyers.in/api/v2/generate-authcode?client_id=2A6LCH4LF8-100&redirect_uri=https%3A%2F%2Fwww.influencerhiring.com%2F&response_type=code&state=sample'"
            ],
            "application/vnd.google.colaboratory.intrinsic+json": {
              "type": "string"
            }
          },
          "metadata": {},
          "execution_count": 13
        }
      ]
    },
    {
      "cell_type": "code",
      "source": [
        "webbrowser.open(generateTokenUrl,new=1)"
      ],
      "metadata": {
        "colab": {
          "base_uri": "https://localhost:8080/"
        },
        "id": "NpeoIpCTjalW",
        "outputId": "9573dc66-fa31-4a71-ae4e-82797045aa23"
      },
      "execution_count": 14,
      "outputs": [
        {
          "output_type": "execute_result",
          "data": {
            "text/plain": [
              "False"
            ]
          },
          "metadata": {},
          "execution_count": 14
        }
      ]
    },
    {
      "cell_type": "code",
      "source": [
        "auth_code = \"Paste the auth_code generated from the first request\"\n",
        "appSession.set_token(auth_code)\n",
        "\n",
        "response = appSession.generate_token()\n",
        "response"
      ],
      "metadata": {
        "colab": {
          "base_uri": "https://localhost:8080/"
        },
        "id": "T5Ce1bsRjjFA",
        "outputId": "eb62aa96-ef3f-49fa-8d3d-c36e3a23d23d"
      },
      "execution_count": 15,
      "outputs": [
        {
          "output_type": "execute_result",
          "data": {
            "text/plain": [
              "{'s': 'error', 'code': -17, 'message': 'Could not authenticate the user'}"
            ]
          },
          "metadata": {},
          "execution_count": 15
        }
      ]
    },
    {
      "cell_type": "code",
      "source": [
        "try:\n",
        "    access_token = response[\"access_token\"]\n",
        "except Exception as e:\n",
        "    print(e,response)"
      ],
      "metadata": {
        "colab": {
          "base_uri": "https://localhost:8080/"
        },
        "id": "h-mJDdHelvq7",
        "outputId": "52772f3d-e9e4-454b-8737-34b37c7a143f"
      },
      "execution_count": 16,
      "outputs": [
        {
          "output_type": "stream",
          "name": "stdout",
          "text": [
            "'access_token' {'s': 'error', 'code': -17, 'message': 'Could not authenticate the user'}\n"
          ]
        }
      ]
    },
    {
      "cell_type": "code",
      "source": [
        "access_token = 'eyJ0eXAiOiJKV1QiLCJhbGciOiJIUzI1NiJ9.eyJpc3MiOiJhcGkuZnllcnMuaW4iLCJpYXQiOjE3MTkzMTIxMDAsImV4cCI6MTcxOTM2MTg0MCwibmJmIjoxNzE5MzEyMTAwLCJhdWQiOlsieDowIiwieDoxIiwieDoyIiwiZDoxIiwiZDoyIiwieDoxIiwieDowIl0sInN1YiI6ImFjY2Vzc190b2tlbiIsImF0X2hhc2giOiJnQUFBQUFCbWVwN2tpSWJwM2ZhX0NmMEtfOEd2RUlhQkdhUGFvOEo5SFBRQ2xQeWY5ZXZZRmF2Ykx2Rm5vTnFmRmQzM2N3NHBGdWxSUW9pR0FmUHZXUlVHRFVYVzJoYnpsaDJkZDRGWHFjTU1VdmE4N0JLSHBNVT0iLCJkaXNwbGF5X25hbWUiOiJQUklZQU5LQSBHVVBUQSIsIm9tcyI6IksxIiwiaHNtX2tleSI6IjdhYjY3OTI0NzQ5MDY0Y2E0MmEzOWExNmU0MmIxOTJmY2Q0NTlkZDhlNWU5MDZhMmQ5NzVkNTk4IiwiZnlfaWQiOiJZUDExMjYzIiwiYXBwVHlwZSI6MTAwLCJwb2FfZmxhZyI6Ik4ifQ.OXbJLCQMmr4s1Q5tGDWI7xMSJ1e8Mv9LWTInWjHf0q0'"
      ],
      "metadata": {
        "id": "3177AvC4-oUu"
      },
      "execution_count": 39,
      "outputs": []
    },
    {
      "cell_type": "code",
      "source": [
        "fyers = fyersModel.FyersModel(token=access_token,is_async=False,client_id=client_id,log_path=\"\")\n",
        "fyers"
      ],
      "metadata": {
        "colab": {
          "base_uri": "https://localhost:8080/"
        },
        "id": "9jN_8lpcl0sY",
        "outputId": "cd99ffc0-0be0-474f-d61b-cfbe5cb2a8d5"
      },
      "execution_count": 40,
      "outputs": [
        {
          "output_type": "execute_result",
          "data": {
            "text/plain": [
              "<fyers_apiv3.fyersModel.FyersModel at 0x7d136c523a30>"
            ]
          },
          "metadata": {},
          "execution_count": 40
        }
      ]
    },
    {
      "cell_type": "code",
      "source": [
        "\"\"\"\n",
        "1. User Apis : This includes (Profile,Funds,Holdings)\n",
        "\"\"\"\n",
        "\n",
        "print(fyers.get_profile())  ## This will provide us with the user related data\n",
        "\n",
        "print(fyers.funds())        ## This will provide us with the funds the user has\n",
        "\n",
        "print(fyers.holdings())    ## This will provide the available holdings the user has\n"
      ],
      "metadata": {
        "colab": {
          "base_uri": "https://localhost:8080/"
        },
        "id": "9Hg7I-vAl43X",
        "outputId": "d2298f9c-d4ae-42b3-b9e0-17adc447fe12"
      },
      "execution_count": 41,
      "outputs": [
        {
          "output_type": "stream",
          "name": "stdout",
          "text": [
            "{'s': 'ok', 'code': 200, 'message': '', 'data': {'fy_id': 'YP11263', 'name': 'PRIYANKA GUPTA', 'image': 'https://myaccount-docs-prod.fyers.in/Profile_Picture/wsCmpmBOb12Czqt2.jpeg', 'display_name': None, 'pin_change_date': '06-06-2024 15:39:48', 'email_id': 'gpriyanka0303@gmail.com', 'pwd_change_date': None, 'PAN': '---------', 'mobile_number': '6306835094', 'totp': True, 'pwd_to_expire': 90}}\n",
            "{'code': 200, 'message': '', 's': 'ok', 'fund_limit': [{'id': 1, 'title': 'Total Balance', 'equityAmount': 0, 'commodityAmount': 0}, {'id': 2, 'title': 'Utilized Amount', 'equityAmount': 0, 'commodityAmount': 0}, {'id': 3, 'title': 'Clear Balance', 'equityAmount': 0, 'commodityAmount': 0}, {'id': 4, 'title': 'Realized Profit and Loss', 'equityAmount': 0, 'commodityAmount': 0}, {'id': 5, 'title': 'Collaterals', 'equityAmount': 0, 'commodityAmount': 0}, {'id': 6, 'title': 'Fund Transfer', 'equityAmount': 0, 'commodityAmount': 0}, {'id': 7, 'title': 'Receivables', 'equityAmount': 0, 'commodityAmount': 0}, {'id': 8, 'title': 'Adhoc Limit', 'equityAmount': 0, 'commodityAmount': 0}, {'id': 9, 'title': 'Limit at start of the day', 'equityAmount': 0, 'commodityAmount': 0}, {'id': 10, 'title': 'Available Balance', 'equityAmount': 0, 'commodityAmount': 0}]}\n",
            "{'code': 200, 'message': '', 's': 'ok', 'overall': {'count_total': 0, 'pnl_perc': 0, 'total_current_value': 0, 'total_investment': 0, 'total_pl': 0}, 'holdings': []}\n"
          ]
        }
      ]
    },
    {
      "cell_type": "code",
      "source": [
        "\"\"\"\n",
        "2. Transaction Apis : This includes (Tradebook,Orderbook,Positions)\n",
        "\"\"\"\n",
        "\n",
        "print(fyers.tradebook())   ## This will provide all the trade related information\n",
        "\n",
        "print(fyers.orderbook())   ## This will provide the user with all the order realted information\n",
        "\n",
        "print(fyers.positions())   ## This will provide the user with all the positions the user has on his end\n"
      ],
      "metadata": {
        "colab": {
          "base_uri": "https://localhost:8080/"
        },
        "id": "6mYpAog0l9xY",
        "outputId": "4abda3ab-1e1f-4474-ada6-46751d5ef975"
      },
      "execution_count": 42,
      "outputs": [
        {
          "output_type": "stream",
          "name": "stdout",
          "text": [
            "{'code': 200, 'message': '', 's': 'ok', 'tradeBook': []}\n",
            "{'code': 200, 'message': '', 's': 'ok', 'orderBook': []}\n",
            "{'code': 200, 'message': '', 's': 'ok', 'netPositions': [], 'overall': {'count_open': 0, 'count_total': 0, 'pl_realized': 0, 'pl_total': 0, 'pl_unrealized': 0}}\n"
          ]
        }
      ]
    },
    {
      "cell_type": "code",
      "source": [
        "\"\"\"\n",
        "3. Order Placement  : This Apis helps to place order.\n",
        "There are two ways to place order\n",
        "a. single order : wherein you can fire one order at a time\n",
        "b. multi order : this is used to place a basket of order but the basket size can max be 10 symbols\n",
        "\"\"\"\n",
        "\n",
        "## SINGLE ORDER\n",
        "\n",
        "data =  {\n",
        "      \"symbol\":\"NSE:ONGC-EQ\",\n",
        "      \"qty\":1,\n",
        "      \"type\":1,\n",
        "      \"side\":1,\n",
        "      \"productType\":\"INTRADAY\",\n",
        "      \"limitPrice\":0,\n",
        "      \"stopPrice\":0,\n",
        "      \"validity\":\"DAY\",\n",
        "      \"disclosedQty\":0,\n",
        "      \"offlineOrder\":\"False\",\n",
        "      \"stopLoss\":0,\n",
        "      \"takeProfit\":0\n",
        "    }                              ## This is a sample example to place a limit order you can make the further changes based on your requriements\n",
        "\n",
        "print(fyers.place_order(data))\n"
      ],
      "metadata": {
        "colab": {
          "base_uri": "https://localhost:8080/"
        },
        "id": "nJyUupG8mAur",
        "outputId": "bbe8c5ee-3d41-4fdf-ba66-b0fd88212658"
      },
      "execution_count": 43,
      "outputs": [
        {
          "output_type": "stream",
          "name": "stdout",
          "text": [
            "{'code': -50, 'message': 'Invalid input', 's': 'error'}\n"
          ]
        }
      ]
    },
    {
      "cell_type": "code",
      "source": [
        "## MULTI ORDER\n",
        "\n",
        "data = [{ \"symbol\":\"NSE:SBIN-EQ\",\n",
        "  \"qty\":1,\n",
        "  \"type\":1,\n",
        "  \"side\":1,\n",
        "  \"productType\":\"INTRADAY\",\n",
        "  \"limitPrice\":61050,\n",
        "  \"stopPrice\":0 ,\n",
        "  \"disclosedQty\":0,\n",
        "  \"validity\":\"DAY\",\n",
        "  \"offlineOrder\":\"False\",\n",
        "  \"stopLoss\":0,\n",
        "  \"takeProfit\":0\n",
        "},\n",
        "{\n",
        "  \"symbol\":\"NSE:HDFC-EQ\",\n",
        "  \"qty\":1,\n",
        "  \"type\":2,\n",
        "  \"side\":1,\n",
        "  \"productType\":\"INTRADAY\",\n",
        "  \"limitPrice\":0,\n",
        "  \"stopPrice\":0 ,\n",
        "  \"disclosedQty\":0,\n",
        "  \"validity\":\"DAY\",\n",
        "  \"offlineOrder\":\"False\",\n",
        "  \"stopLoss\":0,\n",
        "  \"takeProfit\":0\n",
        "}]                                                ### This takes input as a list containing multiple single order data into it and the execution of the orders goes in the same format as mentioned.\n",
        "\n",
        "print(fyers.place_basket_orders(data))\n"
      ],
      "metadata": {
        "colab": {
          "base_uri": "https://localhost:8080/"
        },
        "id": "TCeS4L8ln5R0",
        "outputId": "7deaf0c1-3102-4bbd-babf-863f46865b42"
      },
      "execution_count": 44,
      "outputs": [
        {
          "output_type": "stream",
          "name": "stdout",
          "text": [
            "{'code': -50, 'message': 'Invalid input', 's': 'error'}\n"
          ]
        }
      ]
    },
    {
      "cell_type": "code",
      "source": [
        "\"\"\"\n",
        "4. Other Transaction : This includes (modify_order,exit_position,cancel_order,convert_positions)\n",
        "\"\"\"\n",
        "\n",
        "## Modify_order request\n",
        "data = {\n",
        "          \"id\":7574657627567,\n",
        "          \"type\":1,\n",
        "          \"limitPrice\": 61049,\n",
        "          \"qty\":1\n",
        "      }\n",
        "\n",
        "print(fyers.modify_order(data))\n"
      ],
      "metadata": {
        "colab": {
          "base_uri": "https://localhost:8080/"
        },
        "id": "LteAFeZcmG8X",
        "outputId": "0d3402bd-29dc-43af-f388-5e6e70d75325"
      },
      "execution_count": 45,
      "outputs": [
        {
          "output_type": "stream",
          "name": "stdout",
          "text": [
            "{'s': 'error', 'code': 500, 'message': 'Bad request'}\n"
          ]
        }
      ]
    },
    {
      "cell_type": "code",
      "source": [
        "## Modify Multi Order\n",
        "\n",
        "data = [\n",
        "    { \"id\":8102710298291,\n",
        "  \"type\":1,\n",
        "  \"limitPrice\": 61049,\n",
        "  \"qty\":0\n",
        "},\n",
        "{\n",
        "  \"id\":8102710298292,\n",
        "  \"type\":1,\n",
        "  \"limitPrice\": 61049,\n",
        "  \"qty\":1\n",
        "}]\n",
        "\n",
        "print(fyers.modify_basket_orders(data))\n"
      ],
      "metadata": {
        "colab": {
          "base_uri": "https://localhost:8080/"
        },
        "id": "ARHLiKcUmnTt",
        "outputId": "0f02846b-b73f-49a1-930e-46c44c82fd52"
      },
      "execution_count": 46,
      "outputs": [
        {
          "output_type": "stream",
          "name": "stdout",
          "text": [
            "{'code': 200, 'message': '', 'data': [{'statusCode': 400, 'body': {'code': -50, 'message': 'Invalid input', 's': 'error'}, 'statusDescription': 'Bad Request'}, {'statusCode': 400, 'body': {'code': -50, 'message': 'Invalid input', 's': 'error'}, 'statusDescription': 'Bad Request'}], 's': 'ok'}\n"
          ]
        }
      ]
    },
    {
      "cell_type": "code",
      "source": [
        "### Cancel_order\n",
        "data = {\"id\":'808058117761'}\n",
        "print(fyers.cancel_order(data))"
      ],
      "metadata": {
        "colab": {
          "base_uri": "https://localhost:8080/"
        },
        "id": "B5a9qHTbmqVf",
        "outputId": "ef83b17e-6665-4a85-85ad-bd9f435a9363"
      },
      "execution_count": 53,
      "outputs": [
        {
          "output_type": "stream",
          "name": "stdout",
          "text": [
            "{'code': -51, 'message': 'invalid order id: 808058117761', 's': 'error', 'id': '808058117761'}\n"
          ]
        }
      ]
    },
    {
      "cell_type": "code",
      "source": [
        "### cancel_multi_order\n",
        "data  =  [\n",
        "{\n",
        "   \"id\":'808058117761'\n",
        " },\n",
        " {\n",
        "   \"id\":'808058117762'\n",
        " }]\n",
        "\n",
        "print(fyers.cancel_basket_orders(data))\n"
      ],
      "metadata": {
        "colab": {
          "base_uri": "https://localhost:8080/"
        },
        "id": "ijNaocRKmvrE",
        "outputId": "df5bc8ba-7710-4218-fe8d-09e718db9e44"
      },
      "execution_count": 52,
      "outputs": [
        {
          "output_type": "stream",
          "name": "stdout",
          "text": [
            "{'code': 200, 'message': '', 'data': [{'statusCode': 400, 'body': {'code': -51, 'message': 'invalid order id: 808058117761', 's': 'error'}, 'statusDescription': 'Bad Request'}, {'statusCode': 400, 'body': {'code': -51, 'message': 'invalid order id: 808058117762', 's': 'error'}, 'statusDescription': 'Bad Request'}], 's': 'ok'}\n"
          ]
        }
      ]
    },
    {
      "cell_type": "code",
      "source": [
        "### Exit Position\n",
        "data  = {\n",
        "     \"id\":\"NSE:SBIN-EQ-INTRADAY\"\n",
        "   }\n",
        "\n",
        "print(fyers.exit_positions(data))\n"
      ],
      "metadata": {
        "colab": {
          "base_uri": "https://localhost:8080/"
        },
        "id": "Bl7sYhtemv49",
        "outputId": "98544083-5811-4d71-b9a0-c02c7695fad9"
      },
      "execution_count": 51,
      "outputs": [
        {
          "output_type": "stream",
          "name": "stdout",
          "text": [
            "{'code': -352, 'message': 'Looks like you have no open positions.', 's': 'error'}\n"
          ]
        }
      ]
    },
    {
      "cell_type": "code",
      "source": [
        "### Convert Position\n",
        "\n",
        "data = {\n",
        "     \"symbol\":\"MCX:SILVERMIC20NOVFUT\",\n",
        "     \"positionSide\":1,\n",
        "     \"convertQty\":1,\n",
        "     \"convertFrom\":\"INTRADAY\",\n",
        "     \"convertTo\":\"CNC\"\n",
        "   }\n",
        "\n",
        "print(fyers.convert_position(data))\n"
      ],
      "metadata": {
        "colab": {
          "base_uri": "https://localhost:8080/"
        },
        "id": "9ofYE1cVmzXe",
        "outputId": "076aa66e-89e2-4928-8255-a0e23afbab80"
      },
      "execution_count": 50,
      "outputs": [
        {
          "output_type": "stream",
          "name": "stdout",
          "text": [
            "{'code': -53, 'message': 'invalid position id: MCX:SILVERMIC20NOVFUT', 's': 'error'}\n"
          ]
        }
      ]
    },
    {
      "cell_type": "code",
      "source": [
        "\"\"\"\n",
        "DATA APIS : This includes following Apis(History,Quotes,MarketDepth)\n",
        "\"\"\"\n",
        "\n",
        "## Historical Data\n",
        "\n",
        "data = {\"symbol\":\"NSE:SBIN-EQ\",\"resolution\":\"D\",\"date_format\":\"0\",\"range_from\":\"1622097600\",\"range_to\":\"1622097685\",\"cont_flag\":\"1\"}\n",
        "\n",
        "print(fyers.history(data))\n"
      ],
      "metadata": {
        "colab": {
          "base_uri": "https://localhost:8080/"
        },
        "id": "0y8HJEO5m13b",
        "outputId": "bc8be54b-54f8-44cf-c618-d017809ee25b"
      },
      "execution_count": 49,
      "outputs": [
        {
          "output_type": "stream",
          "name": "stdout",
          "text": [
            "{'candles': [[1622073600, 413.7, 429.1, 412, 425.2, 73392997]], 'code': 200, 'message': '', 's': 'ok'}\n"
          ]
        }
      ]
    },
    {
      "cell_type": "code",
      "source": [
        "## Quotes\n",
        "\n",
        "data = {\"symbols\":\"NSE:SBIN-EQ\"}\n",
        "print(fyers.quotes(data))\n"
      ],
      "metadata": {
        "colab": {
          "base_uri": "https://localhost:8080/"
        },
        "id": "0S0ppHxGm9nD",
        "outputId": "12e166ca-5a60-4354-d67b-e2e89de85785"
      },
      "execution_count": 48,
      "outputs": [
        {
          "output_type": "stream",
          "name": "stdout",
          "text": [
            "{'message': '', 'code': 200, 'd': [{'n': 'NSE:SBIN-EQ', 'v': {'ask': 842.25, 'bid': 0, 'chp': 1.15, 'ch': 9.55, 'description': 'NSE:SBIN-EQ', 'exchange': 'NSE', 'fyToken': '10100000003045', 'high_price': 845.85, 'low_price': 834.3, 'lp': 842.25, 'open_price': 837, 'original_name': 'NSE:SBIN-EQ', 'prev_close_price': 832.7, 'short_name': 'SBIN-EQ', 'spread': 0, 'symbol': 'NSE:SBIN-EQ', 'tt': '1719273600', 'volume': 20917530}, 's': 'ok'}], 's': 'ok'}\n"
          ]
        }
      ]
    },
    {
      "cell_type": "code",
      "source": [
        "## Market Depth\n",
        "\n",
        "data = {\"symbol\":\"NSE:SBIN-EQ\",\"ohlcv_flag\":\"1\"}\n",
        "print(fyers.depth(data))"
      ],
      "metadata": {
        "colab": {
          "base_uri": "https://localhost:8080/"
        },
        "id": "hLYKcdhqnA-U",
        "outputId": "1726e2e1-2615-4841-8319-f0770c1ee817"
      },
      "execution_count": 47,
      "outputs": [
        {
          "output_type": "stream",
          "name": "stdout",
          "text": [
            "{'d': {'NSE:SBIN-EQ': {'totalbuyqty': 0, 'totalsellqty': 165, 'ask': [{'price': 842.25, 'volume': 165, 'ord': 4}, {'price': 0, 'volume': 0, 'ord': 0}, {'price': 0, 'volume': 0, 'ord': 0}, {'price': 0, 'volume': 0, 'ord': 0}, {'price': 0, 'volume': 0, 'ord': 0}], 'bids': [{'price': 0, 'volume': 0, 'ord': 0}, {'price': 0, 'volume': 0, 'ord': 0}, {'price': 0, 'volume': 0, 'ord': 0}, {'price': 0, 'volume': 0, 'ord': 0}, {'price': 0, 'volume': 0, 'ord': 0}], 'o': 837, 'h': 845.85, 'l': 834.3, 'c': 832.7, 'chp': 1.15, 'tick_Size': 0.05, 'ch': 9.55, 'ltq': 8, 'ltt': 1719311364, 'ltp': 842.25, 'v': 20917530, 'atp': 841.29, 'lower_ckt': 749.45, 'upper_ckt': 915.95, 'expiry': '', 'oi': 0, 'oiflag': False, 'pdoi': 0, 'oipercent': 0}}, 'message': 'Success', 's': 'ok'}\n"
          ]
        }
      ]
    },
    {
      "cell_type": "markdown",
      "source": [
        "# [Request Parameters for Step 1](https://myapi.fyers.in/docsv3#tag/Authentication-and-Login-Flow-User-Apps/paths/~1Authentication%20&%20Login%20Flow%20-%20User%20Apps/patch)"
      ],
      "metadata": {
        "id": "rPsdNJ4pu5Ui"
      }
    },
    {
      "cell_type": "code",
      "source": [
        "# Import the required module from the fyers_apiv3 package\n",
        "from fyers_apiv3 import fyersModel\n",
        "\n",
        "# Replace these values with your actual API credentials\n",
        "redirect_uri = \"https://www.24x7bot.com/my-exchanges/fyers/\"\n",
        "response_type = \"code\"\n",
        "state = \"sample_state\"\n",
        "\n",
        "# Create a session model with the provided credentials\n",
        "session = fyersModel.SessionModel(\n",
        "    client_id=client_id,\n",
        "    secret_key=secret_key,\n",
        "    redirect_uri=redirect_uri,\n",
        "    response_type=response_type\n",
        ")\n",
        "\n",
        "# Generate the auth code using the session model\n",
        "response = session.generate_authcode()\n",
        "\n",
        "# Print the auth code received in the response\n",
        "print(response)\n"
      ],
      "metadata": {
        "colab": {
          "base_uri": "https://localhost:8080/"
        },
        "id": "L6i5585xnDEj",
        "outputId": "64b93e63-8afd-42ec-a4fa-04d05740c02c"
      },
      "execution_count": 34,
      "outputs": [
        {
          "output_type": "stream",
          "name": "stdout",
          "text": [
            "https://api-t1.fyers.in/api/v3/generate-authcode?client_id=2A6LCH4LF8-100&redirect_uri=https%3A%2F%2Fwww.24x7bot.com%2Fmy-exchanges%2Ffyers%2F&response_type=code&state=None\n"
          ]
        }
      ]
    },
    {
      "cell_type": "markdown",
      "source": [
        "# Request Parameters for Step 2"
      ],
      "metadata": {
        "id": "qUpyfnozA-LI"
      }
    },
    {
      "cell_type": "code",
      "source": [
        "# Import the required module from the fyers_apiv3 package\n",
        "from fyers_apiv3 import fyersModel\n",
        "\n",
        "response_type = \"code\"\n",
        "grant_type = \"authorization_code\"\n",
        "\n",
        "# Create a session object to handle the Fyers API authentication and token generation\n",
        "session = fyersModel.SessionModel(\n",
        "    client_id=client_id,\n",
        "    secret_key=secret_key,\n",
        "    redirect_uri=redirect_uri,\n",
        "    response_type=response_type,\n",
        "    grant_type=grant_type\n",
        ")\n",
        "\n",
        "# Set the authorization code in the session object\n",
        "session.set_token(auth_code)\n",
        "\n",
        "# Generate the access token using the authorization code\n",
        "response = session.generate_token()\n",
        "\n",
        "# Print the response, which should contain the access token and other details\n",
        "print(response)"
      ],
      "metadata": {
        "colab": {
          "base_uri": "https://localhost:8080/"
        },
        "id": "u88cru_8uY8e",
        "outputId": "64b5b96c-3435-4549-98fc-4f6cf5194027"
      },
      "execution_count": 54,
      "outputs": [
        {
          "output_type": "stream",
          "name": "stdout",
          "text": [
            "{'s': 'error', 'code': -17, 'message': 'Could not authenticate the user'}\n"
          ]
        }
      ]
    },
    {
      "cell_type": "markdown",
      "source": [
        "# [Profile](https://myapi.fyers.in/docsv3#tag/User/paths/~1User/post)\n",
        "\n",
        "| **Attribute**         | **Data Type** | **Description**                                      |\n",
        "|-----------------------|---------------|------------------------------------------------------|\n",
        "| **name**              | string        | Name of the client                                   |\n",
        "| **display_name**      | string        | Display name, if any, provided by the client         |\n",
        "| **fy_id**             | string        | The client ID of the Fyers user                      |\n",
        "| **image**             | string        | URL link to the user’s profile picture, if any       |\n",
        "| **email_id**          | string        | Email address of the client                          |\n",
        "| **pan**               | string        | PAN of the client                                    |\n",
        "| **pin_change_date**   | string        | Date when last PIN was updated                       |\n",
        "| **pwd_change_date**   | string        | Date when last password was updated                  |\n",
        "| **mobile_number**     | string        | Registered mobile number                             |\n",
        "| **totp**              | boolean       | Status of TOTP                                       |\n",
        "| **pwd_to_expire**     | int           | Number of days until the current password expires    |\n"
      ],
      "metadata": {
        "id": "3QoIyokuCRqu"
      }
    },
    {
      "cell_type": "code",
      "source": [
        "from pprint import pprint as p"
      ],
      "metadata": {
        "id": "yZBWAk-vCYiK"
      },
      "execution_count": 57,
      "outputs": []
    },
    {
      "cell_type": "code",
      "source": [
        "# Initialize the FyersModel instance with your client_id, access_token, and enable async mode\n",
        "fyers = fyersModel.FyersModel(client_id=client_id, is_async=False, token=access_token, log_path=\"\")\n",
        "\n",
        "# Make a request to get the user profile information\n",
        "response = fyers.get_profile()\n",
        "\n",
        "# Print the response received from the Fyers API\n",
        "p(response)"
      ],
      "metadata": {
        "colab": {
          "base_uri": "https://localhost:8080/"
        },
        "id": "VSgg5hM_Btf1",
        "outputId": "36a3b66c-167c-4f88-a98f-3b403332f330"
      },
      "execution_count": 59,
      "outputs": [
        {
          "output_type": "stream",
          "name": "stdout",
          "text": [
            "{'code': 200,\n",
            " 'data': {'PAN': '---------',\n",
            "          'display_name': None,\n",
            "          'email_id': 'gpriyanka0303@gmail.com',\n",
            "          'fy_id': 'YP11263',\n",
            "          'image': 'https://myaccount-docs-prod.fyers.in/Profile_Picture/wsCmpmBOb12Czqt2.jpeg',\n",
            "          'mobile_number': '6306835094',\n",
            "          'name': 'PRIYANKA GUPTA',\n",
            "          'pin_change_date': '06-06-2024 15:39:48',\n",
            "          'pwd_change_date': None,\n",
            "          'pwd_to_expire': 90,\n",
            "          'totp': True},\n",
            " 'message': '',\n",
            " 's': 'ok'}\n"
          ]
        }
      ]
    },
    {
      "cell_type": "markdown",
      "source": [
        "# Funds\n",
        "\n",
        "| **Attribute**       | **Data Type** | **Description**                                             |\n",
        "|---------------------|---------------|-------------------------------------------------------------|\n",
        "| **id**              | int           | Unique identity for a particular fund                       |\n",
        "| **title**           | string        | Each title represents a heading of the ledger               |\n",
        "| **equityAmount**    | float         | The amount in the capital ledger for the above-mentioned title |\n",
        "| **commodityAmount** | float         | The amount in the commodity ledger for the above-mentioned title |\n"
      ],
      "metadata": {
        "id": "nJtrf8llEcoX"
      }
    },
    {
      "cell_type": "code",
      "source": [
        "# Initialize the FyersModel instance with your client_id, access_token, and enable async mode\n",
        "fyers = fyersModel.FyersModel(client_id=client_id, token=access_token,is_async=True, log_path=\"\")\n",
        "\n",
        "# Make a request to get the funds information\n",
        "response = fyers.funds()\n",
        "p(response)"
      ],
      "metadata": {
        "colab": {
          "base_uri": "https://localhost:8080/"
        },
        "id": "2BQ-wdYVCTK_",
        "outputId": "006e5c5b-4a11-4cac-9df2-4063b9f33a41"
      },
      "execution_count": 63,
      "outputs": [
        {
          "output_type": "stream",
          "name": "stdout",
          "text": [
            "<coroutine object FyersServiceAsync.get_async_call at 0x7d136c458f90>\n"
          ]
        }
      ]
    },
    {
      "cell_type": "markdown",
      "source": [
        "# Holdings\n",
        "\n",
        "| **Attribute**                | **Data Type** | **Description**                                                        |\n",
        "|------------------------------|---------------|------------------------------------------------------------------------|\n",
        "| **symbol**                   | string        | Eg: NSE:RCOM-EQ                                                        |\n",
        "| **holdingType**              | string        | Identify the type of holding                                           |\n",
        "| **quantity**                 | int           | The quantity of the symbol which the user has at the beginning of the day |\n",
        "| **remainingQuantity**        | int           | This reflects the quantity - the quantity sold during the day           |\n",
        "| **pl**                       | float         | Profit and loss made                                                   |\n",
        "| **costPrice**                | float         | The original buy price of the holding                                  |\n",
        "| **marketVal**                | float         | The Market value of the current holding                                |\n",
        "| **ltp**                      | float         | LTP is the price from which the next sale of the stocks happens         |\n",
        "| **id**                       | int           | The unique value for each holding                                      |\n",
        "| **fytoken**                  | string        | Fytoken is a unique identifier for every symbol.                       |\n",
        "| **exchange**                 | int           | The exchange in which order is placed.                                 |\n",
        "| **segment**                  | int           | The segment in which the holding is taken.                             |\n",
        "| **isin**                     | string        | Unique ISIN provided by exchange for each symbol                       |\n",
        "| **qty_t1**                   | int           | Quantity t+1 day                                                       |\n",
        "| **remainingPledgeQuantity**  | int           | Remaining Pledged quantity                                             |\n",
        "| **collateralQuantity**       | int           | Pledged quantity                                                       |\n"
      ],
      "metadata": {
        "id": "Jb0JiL7DEaMR"
      }
    },
    {
      "cell_type": "code",
      "source": [
        "# Initialize the FyersModel instance with your client_id, access_token, and enable async mode\n",
        "fyers = fyersModel.FyersModel(client_id=client_id, token=access_token,is_async=False, log_path=\"\")\n",
        "\n",
        "response = fyers.holdings()\n",
        "p(response)"
      ],
      "metadata": {
        "colab": {
          "base_uri": "https://localhost:8080/"
        },
        "id": "HSyypb3SEOGc",
        "outputId": "f9b5ad31-f288-457e-cdc7-1f6a3b71ad82"
      },
      "execution_count": 62,
      "outputs": [
        {
          "output_type": "stream",
          "name": "stdout",
          "text": [
            "{'code': 200,\n",
            " 'holdings': [],\n",
            " 'message': '',\n",
            " 'overall': {'count_total': 0,\n",
            "             'pnl_perc': 0,\n",
            "             'total_current_value': 0,\n",
            "             'total_investment': 0,\n",
            "             'total_pl': 0},\n",
            " 's': 'ok'}\n"
          ]
        }
      ]
    },
    {
      "cell_type": "markdown",
      "source": [
        "# Transaction Info\n",
        "\n",
        "| **Attribute**         | **Data Type** | **Description**                                                                                |\n",
        "|-----------------------|---------------|------------------------------------------------------------------------------------------------|\n",
        "| **id**                | string        | The unique order id assigned for each order                                                    |\n",
        "| **exchOrdId**         | string        | The order id provided by the exchange                                                          |\n",
        "| **symbol**            | string        | The symbol for which order is placed                                                           |\n",
        "| **qty**               | int           | The original order quantity                                                                    |\n",
        "| **remainingQuantity** | int           | The remaining quantity                                                                         |\n",
        "| **filledQty**         | int           | The filled quantity after partial trades                                                       |\n",
        "| **status**            | int           | 1 => Canceled<br>2 => Traded / Filled<br>3 => (Not used currently)<br>4 => Transit<br>5 => Rejected<br>6 => Pending<br>7 => Expired |\n",
        "| **slNo**              | int           | This is used to sort the orders based on the time                                              |\n",
        "| **message**           | string        | The error messages are shown here                                                              |\n",
        "| **segment**           | int           | 10 => E (Equity)<br>11 => D (F&O)<br>12 => C (Currency)<br>20 => M (Commodity)                |\n",
        "| **limitPrice**        | float         | The limit price for the order                                                                  |\n",
        "| **stopPrice**         | float         | The stop price for the order                                                                   |\n",
        "| **productType**       | string        | The product type                                                                               |\n",
        "| **type**              | int           | 1 => Limit Order<br>2 => Market Order<br>3 => Stop Order (SL-M)<br>4 => Stoplimit Order (SL-L) |\n",
        "| **side**              | int           | 1 => Buy<br>-1 => Sell                                                                         |\n",
        "| **disclosedQty**      | int           | Disclosed quantity                                                                             |\n",
        "| **orderValidity**     | string        | DAY<br>IOC                                                                                     |\n",
        "| **orderDateTime**     | string        | The order time as per DD-MMM-YYYY hh:mm:ss in IST                                              |\n",
        "| **parentId**          | string        | The parent order id will be provided only for applicable orders (e.g., BO Leg 2 & 3 and CO Leg 2) |\n",
        "| **tradedPrice**       | float         | The average traded price for the order                                                         |\n",
        "| **source**            | string        | Source from where the order was placed                                                         |\n",
        "| **fytoken**           | string        | Fytoken is a unique identifier for every symbol                                                |\n",
        "| **offlineOrder**      | boolean       | False => When market is open<br>True => When placing AMO order                                 |\n",
        "| **pan**               | string        | PAN of the client                                                                              |\n",
        "| **clientId**          | string        | The client id of the Fyers user                                                                |\n",
        "| **exchange**          | int           | The exchange in which order is placed                                                          |\n",
        "| **instrument**        | int           | Exchange instrument type                                                                       |\n",
        "| **discloseQty**       | int           | Disclosed quantity                                                                             |\n",
        "| **orderTag**          | string        | Order tag provided when placing the order. Note: <br><br>1: will be concatenated at the start of the tag provided by the user. <br>2: will be concatenated at the start of the tag generated internally by Fyers. <br><br>Default value if tag not provided when order is placed is 2:Untagged |\n"
      ],
      "metadata": {
        "id": "VFrU_XsUFUlM"
      }
    },
    {
      "cell_type": "code",
      "source": [
        "# Initialize the FyersModel instance with your client_id, access_token, and enable async mode\n",
        "fyers = fyersModel.FyersModel(client_id=client_id, token=access_token,is_async=False, log_path=\"\")\n",
        "\n",
        "response = fyers.orderbook()\n",
        "p(response)"
      ],
      "metadata": {
        "colab": {
          "base_uri": "https://localhost:8080/"
        },
        "id": "eec_m_XQExEQ",
        "outputId": "f974181b-9fd9-42c1-ab2a-e0dba0333622"
      },
      "execution_count": 64,
      "outputs": [
        {
          "output_type": "stream",
          "name": "stdout",
          "text": [
            "{'code': 200, 'message': '', 'orderBook': [], 's': 'ok'}\n"
          ]
        }
      ]
    },
    {
      "cell_type": "markdown",
      "source": [
        "# Order Filter By Order Id"
      ],
      "metadata": {
        "id": "8ZBo2NBGGAOa"
      }
    },
    {
      "cell_type": "code",
      "source": [
        "# Initialize the FyersModel instance with your client_id, access_token, and enable async mode\n",
        "fyers = fyersModel.FyersModel(client_id=client_id, token=access_token,is_async=False, log_path=\"\")\n",
        "\n",
        "orderId = \"23080444447604\"\n",
        "data = {\"id\":orderId}\n",
        "\n",
        "response = fyers.orderbook(data=data)\n",
        "p(response)"
      ],
      "metadata": {
        "colab": {
          "base_uri": "https://localhost:8080/"
        },
        "id": "ktanOWpmFS1_",
        "outputId": "adcaecf5-759b-4c96-d641-d9af6fda9727"
      },
      "execution_count": 65,
      "outputs": [
        {
          "output_type": "stream",
          "name": "stdout",
          "text": [
            "{'code': -51, 'message': 'invalid order id: 23080444447604', 's': 'error'}\n"
          ]
        }
      ]
    },
    {
      "cell_type": "markdown",
      "source": [
        "# Order Filter By Order tag"
      ],
      "metadata": {
        "id": "_xvcDjAWGOew"
      }
    },
    {
      "cell_type": "code",
      "source": [
        "import requests\n",
        "\n",
        "app_id = 'YP11263'\n",
        "\n",
        "url = \"https://api-t1.fyers.in/api/v3/orders?order_tag=1:Ordertag\"\n",
        "headers = {\n",
        "    \"Authorization\": f\"{app_id}:{access_token}\"\n",
        "}\n",
        "\n",
        "response = requests.get(url, headers=headers)\n",
        "\n",
        "if response.status_code == 200:\n",
        "    print(\"Success:\")\n",
        "    print(response.json())\n",
        "else:\n",
        "    print(\"Failed with status code:\", response.status_code)\n",
        "    print(response.text)"
      ],
      "metadata": {
        "colab": {
          "base_uri": "https://localhost:8080/"
        },
        "id": "n2BqDCevGIq_",
        "outputId": "0be6f394-800f-4d48-d2c5-909314206576"
      },
      "execution_count": 70,
      "outputs": [
        {
          "output_type": "stream",
          "name": "stdout",
          "text": [
            "Failed with status code: 400\n",
            "{\"code\":-54,\"message\":\"order with tag not found: 1:Ordertag\",\"s\":\"error\"}\n"
          ]
        }
      ]
    },
    {
      "cell_type": "markdown",
      "source": [
        "# Positions\n",
        "\n",
        "| **Attribute**          | **Data Type** | **Description**                                                                               |\n",
        "|------------------------|---------------|-----------------------------------------------------------------------------------------------|\n",
        "| **symbol**             | string        | Eg: NSE:SBIN-EQ                                                                               |\n",
        "| **id**                 | string        | The unique value for each position                                                            |\n",
        "| **buyAvg**             | float         | Average buy price                                                                             |\n",
        "| **buyQty**             | int           | Total buy quantity                                                                            |\n",
        "| **sellAvg**            | float         | Average sell price                                                                            |\n",
        "| **sellQty**            | int           | Total sell quantity                                                                           |\n",
        "| **netAvg**             | float         | netAvg                                                                                        |\n",
        "| **netQty**             | int           | Net quantity                                                                                  |\n",
        "| **side**               | int           | The side shows whether the position is long / short                                           |\n",
        "| **qty**                | int           | Absolute value of net quantity                                                                |\n",
        "| **productType**        | string        | The product type of the position                                                              |\n",
        "| **realized_profit**    | float         | The realized profit and loss of the position                                                  |\n",
        "| **pl**                 | float         | The total profit and loss of the position                                                     |\n",
        "| **crossCurrency**      | string        | Y => It is cross currency position<br>N => It is not a cross currency position                |\n",
        "| **rbiRefRate**         | float         | In case of cross currency position, the RBI reference rate required to calculate the profit and loss |\n",
        "| **qtyMulti_com**       | float         | In case of commodity positions, this multiplier is required for profit and loss calculation   |\n",
        "| **segment**            | int           | The segment in which the position is taken                                                    |\n",
        "| **exchange**           | int           | The exchange in which the position is taken                                                   |\n",
        "| **slNo**               | int           | This is used for sorting of positions                                                         |\n",
        "| **ltp**                | float         | LTP is the price from which the next sale of the stocks happens                               |\n",
        "| **fytoken**            | string        | Fytoken is a unique identifier for every symbol                                               |\n",
        "| **cfBuyQty**           | int           | Carry forward buy quantity                                                                    |\n",
        "| **cfSellQty**          | int           | Carry forward sell quantity                                                                   |\n",
        "| **dayBuyQty**          | int           | Day forward buy quantity                                                                      |\n",
        "| **daySellQty**         | int           | Day forward sell quantity                                                                     |\n",
        "| **exchange**           | int           | The exchange in which order is placed                                                         |\n"
      ],
      "metadata": {
        "id": "Y083vQ8MHLbB"
      }
    },
    {
      "cell_type": "code",
      "source": [
        "# Initialize the FyersModel instance with your client_id, access_token, and enable async mode\n",
        "fyers = fyersModel.FyersModel(client_id=client_id, token=access_token,is_async=False, log_path=\"\")\n",
        "\n",
        "response = fyers.positions()\n",
        "p(response)"
      ],
      "metadata": {
        "colab": {
          "base_uri": "https://localhost:8080/"
        },
        "id": "ZAnJJNu8GYiz",
        "outputId": "35f27d35-21a8-4dc6-c211-fd2e8d7e6d29"
      },
      "execution_count": 71,
      "outputs": [
        {
          "output_type": "stream",
          "name": "stdout",
          "text": [
            "{'code': 200,\n",
            " 'message': '',\n",
            " 'netPositions': [],\n",
            " 'overall': {'count_open': 0,\n",
            "             'count_total': 0,\n",
            "             'pl_realized': 0,\n",
            "             'pl_total': 0,\n",
            "             'pl_unrealized': 0},\n",
            " 's': 'ok'}\n"
          ]
        }
      ]
    },
    {
      "cell_type": "markdown",
      "source": [
        "# Trades\n",
        "\n",
        "| **Attribute**       | **Data Type** | **Description**                                                                                                   |\n",
        "|---------------------|---------------|-------------------------------------------------------------------------------------------------------------------|\n",
        "| **symbol**          | string        | Eg: NSE:SBIN-EQ                                                                                                   |\n",
        "| **row**             | int           | The unique value to sort the trades                                                                               |\n",
        "| **orderDateTime**   | string        | The time when the trade occurred in “DD-MM-YYYY hh:mm:ss” format in IST                                            |\n",
        "| **orderNumber**     | string        | The order id for which the trade occurred                                                                         |\n",
        "| **tradeNumber**     | string        | The trade number generated by the exchange                                                                        |\n",
        "| **tradePrice**      | float         | The traded price                                                                                                  |\n",
        "| **tradeValue**      | float         | The total traded value                                                                                            |\n",
        "| **tradedQty**       | int           | The total traded quantity                                                                                         |\n",
        "| **side**            | int           | 1 => Buy<br>-1 => Sell                                                                                            |\n",
        "| **productType**     | string        | The product in which the order was placed                                                                         |\n",
        "| **exchangeOrderNo** | string        | The order number provided by the exchange                                                                         |\n",
        "| **segment**         | int           | The segment in which the order is placed                                                                          |\n",
        "| **exchange**        | int           | The exchange in which the order is placed                                                                         |\n",
        "| **fyToken**         | string        | Fytoken is a unique identifier for every symbol                                                                   |\n",
        "| **orderTag**        | string        | Order tag provided when placing the order. Note: <br><br>1: will be concatenated at the start of the tag provided by user.<br>2: will be concatenated at the start of the tag generated internally by Fyers. <br><br>Default value if tag not provided when order is placed is 1:Untagged |\n"
      ],
      "metadata": {
        "id": "6hMRbedXHiKr"
      }
    },
    {
      "cell_type": "code",
      "source": [
        "# Initialize the FyersModel instance with your client_id, access_token, and enable async mode\n",
        "fyers = fyersModel.FyersModel(client_id=client_id, token=access_token,is_async=False, log_path=\"\")\n",
        "\n",
        "response = fyers.tradebook()\n",
        "p(response)"
      ],
      "metadata": {
        "colab": {
          "base_uri": "https://localhost:8080/"
        },
        "id": "8g06LuJNHVrZ",
        "outputId": "84169493-5f69-4401-e626-037b3b51116d"
      },
      "execution_count": 72,
      "outputs": [
        {
          "output_type": "stream",
          "name": "stdout",
          "text": [
            "{'code': 200, 'message': '', 's': 'ok', 'tradeBook': []}\n"
          ]
        }
      ]
    },
    {
      "cell_type": "markdown",
      "source": [
        "## Product Types Explained\n",
        "\n",
        "---\n",
        "\n",
        "1. **Intraday**:\n",
        "   - Orders bought and sold the same day.\n",
        "   - Order types: Market, Limit, Stop, and Stop Limit.\n",
        "\n",
        "2. **CNC (Cash and Carry)**:\n",
        "   - Orders carried forward to the next day.\n",
        "   - Order types: Market, Limit, Stop, and Stop Limit.\n",
        "\n",
        "3. **Margin**:\n",
        "   - Derivative contracts carried forward.\n",
        "   - Order types: Market, Limit, Stop, and Stop Limit.\n",
        "\n",
        "4. **Cover Order (CO)**:\n",
        "   - Mandatory stopLoss input.\n",
        "   - Order types: Market or Limit.\n",
        "   - Validity: DAY.\n",
        "   - Disclosed quantity: 0.\n",
        "\n",
        "5. **Bracket Order (BO)**:\n",
        "   - Mandatory stopLoss and takeProfit inputs.\n",
        "   - Order types: Market, Limit, Stop, or Stop Limit.\n",
        "   - Validity: DAY.\n",
        "   - Disclosed quantity: 0.\n",
        "\n",
        "## Price Validations\n",
        "\n",
        "---\n",
        "\n",
        "- Prices must conform to exchange tick sizes.\n",
        "- Tick size applies to Limit, Stop, StopLoss, and Target prices.\n",
        "- Tick sizes are available in the symbol master."
      ],
      "metadata": {
        "id": "uwcQeQRMIbzx"
      }
    },
    {
      "cell_type": "markdown",
      "source": [
        "# Order Placement\n",
        "\n",
        "| **Attribute**      | **Data Type** | **Description**                                                                                     |\n",
        "|--------------------|---------------|-----------------------------------------------------------------------------------------------------|\n",
        "| **symbol***        | string        | Eg: NSE:SBIN-EQ                                                                                     |\n",
        "| **qty***           | int           | The quantity should be in multiples of lot size for derivatives.                                    |\n",
        "| **type***          | int           | 1 => Limit Order<br>2 => Market Order<br>3 => Stop Order (SL-M)<br>4 => Stoplimit Order (SL-L)      |\n",
        "| **side***          | int           | 1 => Buy<br>-1 => Sell                                                                              |\n",
        "| **productType***   | string        | CNC => For equity only<br>INTRADAY => Applicable for all segments.<br>MARGIN => Applicable only for derivatives<br>CO => Cover Order<br>BO => Bracket Order |\n",
        "| **limitPrice***    | float         | Default => 0<br>Provide valid price for Limit and Stoplimit orders                                  |\n",
        "| **stopPrice***     | float         | Default => 0<br>Provide valid price for Stop and Stoplimit orders                                   |\n",
        "| **disclosedQty***  | int           | Default => 0<br>Allowed only for Equity                                                             |\n",
        "| **validity***      | string        | IOC => Immediate or Cancel<br>DAY => Valid till the end of the day                                  |\n",
        "| **offlineOrder***  | boolean       | False => When market is open<br>True => When placing AMO order                                      |\n",
        "| **stopLoss***      | float         | Default => 0<br>Provide valid price for CO and BO orders                                            |\n",
        "| **takeProfit***    | float         | Default => 0<br>Provide valid price for BO orders                                                   |\n",
        "| **orderTag**       | string        | (Optional) Tag you want to assign to the specific order                                             |\n"
      ],
      "metadata": {
        "id": "m7s92wmUKs-f"
      }
    },
    {
      "cell_type": "code",
      "source": [
        "# Initialize the FyersModel instance with your client_id, access_token, and enable async mode\n",
        "fyers = fyersModel.FyersModel(client_id=client_id, token=access_token,is_async=False, log_path=\"\")\n",
        "\n",
        "data = {\n",
        "    \"symbol\":\"NSE:IDEA-EQ\",\n",
        "    \"qty\":1,\n",
        "    \"type\":2,\n",
        "    \"side\":1,\n",
        "    \"productType\":\"INTRADAY\",\n",
        "    \"limitPrice\":0,\n",
        "    \"stopPrice\":0,\n",
        "    \"validity\":\"DAY\",\n",
        "    \"disclosedQty\":0,\n",
        "    \"offlineOrder\":False,\n",
        "    \"orderTag\":\"tag1\"\n",
        "}\n",
        "response = fyers.place_order(data=data)\n",
        "p(response)"
      ],
      "metadata": {
        "colab": {
          "base_uri": "https://localhost:8080/"
        },
        "id": "F56RoN_6HpSD",
        "outputId": "e8e719c3-75fb-4235-8480-9587871f8c84"
      },
      "execution_count": 75,
      "outputs": [
        {
          "output_type": "stream",
          "name": "stdout",
          "text": [
            "{'code': -99,\n",
            " 'id': '24062500548014',\n",
            " 'message': \"RED:'MIS' Orders are disallowed after system square off\",\n",
            " 's': 'error'}\n"
          ]
        }
      ]
    },
    {
      "cell_type": "code",
      "source": [],
      "metadata": {
        "id": "45m6XqGqK3oL"
      },
      "execution_count": null,
      "outputs": []
    }
  ]
}