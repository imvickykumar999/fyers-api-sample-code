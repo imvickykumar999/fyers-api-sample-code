{
  "nbformat": 4,
  "nbformat_minor": 0,
  "metadata": {
    "colab": {
      "provenance": [],
      "authorship_tag": "ABX9TyPjMUU4L4yLpMDWNTA30x2d",
      "include_colab_link": true
    },
    "kernelspec": {
      "name": "python3",
      "display_name": "Python 3"
    },
    "language_info": {
      "name": "python"
    }
  },
  "cells": [
    {
      "cell_type": "markdown",
      "metadata": {
        "id": "view-in-github",
        "colab_type": "text"
      },
      "source": [
        "<a href=\"https://colab.research.google.com/github/imvickykumar999/fyers-api-sample-code/blob/sample_v2/fyers_trading_apis.ipynb\" target=\"_parent\"><img src=\"https://colab.research.google.com/assets/colab-badge.svg\" alt=\"Open In Colab\"/></a>"
      ]
    },
    {
      "cell_type": "markdown",
      "source": [
        "# **Running** [Sample_Test_trading_Data](https://github.com/imvickykumar999/fyers-api-sample-code)._py_"
      ],
      "metadata": {
        "id": "3CB4SFsNlS-5"
      }
    },
    {
      "cell_type": "code",
      "execution_count": 3,
      "metadata": {
        "colab": {
          "base_uri": "https://localhost:8080/",
          "height": 1000
        },
        "id": "d2NU-Gk_SkTP",
        "outputId": "25bb9b47-fd27-49f9-a762-18574569351c"
      },
      "outputs": [
        {
          "output_type": "stream",
          "name": "stdout",
          "text": [
            "Collecting fyers-apiv2\n",
            "  Downloading fyers_apiv2-2.0.9-py3-none-any.whl (11 kB)\n",
            "Collecting requests==2.25.1 (from fyers-apiv2)\n",
            "  Downloading requests-2.25.1-py2.py3-none-any.whl (61 kB)\n",
            "\u001b[2K     \u001b[90m━━━━━━━━━━━━━━━━━━━━━━━━━━━━━━━━━━━━━━━━\u001b[0m \u001b[32m61.2/61.2 kB\u001b[0m \u001b[31m2.7 MB/s\u001b[0m eta \u001b[36m0:00:00\u001b[0m\n",
            "\u001b[?25hCollecting tornado==6.1 (from fyers-apiv2)\n",
            "  Downloading tornado-6.1.tar.gz (497 kB)\n",
            "\u001b[2K     \u001b[90m━━━━━━━━━━━━━━━━━━━━━━━━━━━━━━━━━━━━━━━━\u001b[0m \u001b[32m497.4/497.4 kB\u001b[0m \u001b[31m17.6 MB/s\u001b[0m eta \u001b[36m0:00:00\u001b[0m\n",
            "\u001b[?25h  Preparing metadata (setup.py) ... \u001b[?25l\u001b[?25hdone\n",
            "Collecting asyncio==3.4.3 (from fyers-apiv2)\n",
            "  Downloading asyncio-3.4.3-py3-none-any.whl (101 kB)\n",
            "\u001b[2K     \u001b[90m━━━━━━━━━━━━━━━━━━━━━━━━━━━━━━━━━━━━━━━━\u001b[0m \u001b[32m101.8/101.8 kB\u001b[0m \u001b[31m6.1 MB/s\u001b[0m eta \u001b[36m0:00:00\u001b[0m\n",
            "\u001b[?25hCollecting websockets==8.1 (from fyers-apiv2)\n",
            "  Downloading websockets-8.1.tar.gz (58 kB)\n",
            "\u001b[2K     \u001b[90m━━━━━━━━━━━━━━━━━━━━━━━━━━━━━━━━━━━━━━━━\u001b[0m \u001b[32m58.9/58.9 kB\u001b[0m \u001b[31m6.0 MB/s\u001b[0m eta \u001b[36m0:00:00\u001b[0m\n",
            "\u001b[?25h  Preparing metadata (setup.py) ... \u001b[?25l\u001b[?25hdone\n",
            "Collecting websocket-client==1.2.1 (from fyers-apiv2)\n",
            "  Downloading websocket_client-1.2.1-py2.py3-none-any.whl (52 kB)\n",
            "\u001b[2K     \u001b[90m━━━━━━━━━━━━━━━━━━━━━━━━━━━━━━━━━━━━━━━━\u001b[0m \u001b[32m52.8/52.8 kB\u001b[0m \u001b[31m5.2 MB/s\u001b[0m eta \u001b[36m0:00:00\u001b[0m\n",
            "\u001b[?25hCollecting chardet<5,>=3.0.2 (from requests==2.25.1->fyers-apiv2)\n",
            "  Downloading chardet-4.0.0-py2.py3-none-any.whl (178 kB)\n",
            "\u001b[2K     \u001b[90m━━━━━━━━━━━━━━━━━━━━━━━━━━━━━━━━━━━━━━━━\u001b[0m \u001b[32m178.7/178.7 kB\u001b[0m \u001b[31m15.7 MB/s\u001b[0m eta \u001b[36m0:00:00\u001b[0m\n",
            "\u001b[?25hCollecting idna<3,>=2.5 (from requests==2.25.1->fyers-apiv2)\n",
            "  Downloading idna-2.10-py2.py3-none-any.whl (58 kB)\n",
            "\u001b[2K     \u001b[90m━━━━━━━━━━━━━━━━━━━━━━━━━━━━━━━━━━━━━━━━\u001b[0m \u001b[32m58.8/58.8 kB\u001b[0m \u001b[31m7.9 MB/s\u001b[0m eta \u001b[36m0:00:00\u001b[0m\n",
            "\u001b[?25hCollecting urllib3<1.27,>=1.21.1 (from requests==2.25.1->fyers-apiv2)\n",
            "  Downloading urllib3-1.26.19-py2.py3-none-any.whl (143 kB)\n",
            "\u001b[2K     \u001b[90m━━━━━━━━━━━━━━━━━━━━━━━━━━━━━━━━━━━━━━━━\u001b[0m \u001b[32m143.9/143.9 kB\u001b[0m \u001b[31m11.4 MB/s\u001b[0m eta \u001b[36m0:00:00\u001b[0m\n",
            "\u001b[?25hRequirement already satisfied: certifi>=2017.4.17 in /usr/local/lib/python3.10/dist-packages (from requests==2.25.1->fyers-apiv2) (2024.6.2)\n",
            "Building wheels for collected packages: tornado, websockets\n",
            "  Building wheel for tornado (setup.py) ... \u001b[?25l\u001b[?25hdone\n",
            "  Created wheel for tornado: filename=tornado-6.1-cp310-cp310-linux_x86_64.whl size=421979 sha256=413c634931bdcbe259d0755d7e3c1bbbbaa78d037083cd58add483b85c962ddc\n",
            "  Stored in directory: /root/.cache/pip/wheels/80/32/8d/21cf0fa6ee4e083f6530e5b83dfdfa9489a3890d320803f4c7\n",
            "  Building wheel for websockets (setup.py) ... \u001b[?25l\u001b[?25hdone\n",
            "  Created wheel for websockets: filename=websockets-8.1-cp310-cp310-linux_x86_64.whl size=73425 sha256=94b800fbdea20bff44695b2f39916a8430918f427fa38d76169c88f4cf066d4b\n",
            "  Stored in directory: /root/.cache/pip/wheels/98/3f/c7/9993dad06631d258fb8a01677090029dbdbd884a6199c31483\n",
            "Successfully built tornado websockets\n",
            "Installing collected packages: asyncio, websockets, websocket-client, urllib3, tornado, idna, chardet, requests, fyers-apiv2\n",
            "  Attempting uninstall: websocket-client\n",
            "    Found existing installation: websocket-client 1.8.0\n",
            "    Uninstalling websocket-client-1.8.0:\n",
            "      Successfully uninstalled websocket-client-1.8.0\n",
            "  Attempting uninstall: urllib3\n",
            "    Found existing installation: urllib3 2.0.7\n",
            "    Uninstalling urllib3-2.0.7:\n",
            "      Successfully uninstalled urllib3-2.0.7\n",
            "  Attempting uninstall: tornado\n",
            "    Found existing installation: tornado 6.3.3\n",
            "    Uninstalling tornado-6.3.3:\n",
            "      Successfully uninstalled tornado-6.3.3\n",
            "  Attempting uninstall: idna\n",
            "    Found existing installation: idna 3.7\n",
            "    Uninstalling idna-3.7:\n",
            "      Successfully uninstalled idna-3.7\n",
            "  Attempting uninstall: chardet\n",
            "    Found existing installation: chardet 5.2.0\n",
            "    Uninstalling chardet-5.2.0:\n",
            "      Successfully uninstalled chardet-5.2.0\n",
            "  Attempting uninstall: requests\n",
            "    Found existing installation: requests 2.31.0\n",
            "    Uninstalling requests-2.31.0:\n",
            "      Successfully uninstalled requests-2.31.0\n",
            "\u001b[31mERROR: pip's dependency resolver does not currently take into account all the packages that are installed. This behaviour is the source of the following dependency conflicts.\n",
            "bigframes 1.9.0 requires requests>=2.27.1, but you have requests 2.25.1 which is incompatible.\n",
            "google-colab 1.0.0 requires requests==2.31.0, but you have requests 2.25.1 which is incompatible.\n",
            "google-colab 1.0.0 requires tornado==6.3.3, but you have tornado 6.1 which is incompatible.\n",
            "tweepy 4.14.0 requires requests<3,>=2.27.0, but you have requests 2.25.1 which is incompatible.\n",
            "yfinance 0.2.40 requires requests>=2.31, but you have requests 2.25.1 which is incompatible.\u001b[0m\u001b[31m\n",
            "\u001b[0mSuccessfully installed asyncio-3.4.3 chardet-4.0.0 fyers-apiv2-2.0.9 idna-2.10 requests-2.25.1 tornado-6.1 urllib3-1.26.19 websocket-client-1.2.1 websockets-8.1\n"
          ]
        },
        {
          "output_type": "display_data",
          "data": {
            "application/vnd.colab-display-data+json": {
              "pip_warning": {
                "packages": [
                  "asyncio",
                  "tornado"
                ]
              },
              "id": "743ffb6f4b954641b3437d707e41c361"
            }
          },
          "metadata": {}
        }
      ],
      "source": [
        "!pip install fyers-apiv2"
      ]
    },
    {
      "cell_type": "code",
      "source": [
        "import fyers_api  # Use the correct package name\n",
        "\n",
        "help(fyers_api)  # Now this should work"
      ],
      "metadata": {
        "colab": {
          "base_uri": "https://localhost:8080/"
        },
        "id": "ICcnUtXDSn_j",
        "outputId": "c0c47c5c-6b47-44f8-89aa-0112489eba69"
      },
      "execution_count": 4,
      "outputs": [
        {
          "output_type": "stream",
          "name": "stdout",
          "text": [
            "Help on package fyers_api:\n",
            "\n",
            "NAME\n",
            "    fyers_api\n",
            "\n",
            "PACKAGE CONTENTS\n",
            "    Websocket (package)\n",
            "    accessToken\n",
            "    config\n",
            "    fyersFormation\n",
            "    fyersLog\n",
            "    fyersModel\n",
            "    fyersService\n",
            "\n",
            "DATA\n",
            "    name = 'FyersApi'\n",
            "\n",
            "FILE\n",
            "    /usr/local/lib/python3.10/dist-packages/fyers_api/__init__.py\n",
            "\n",
            "\n"
          ]
        }
      ]
    },
    {
      "cell_type": "markdown",
      "source": [
        "**Video** explains how users can authenticate their applications by generating auth codes, exchanging them for access tokens, and using these tokens to make secure API requests.\n",
        "\n",
        "---\n",
        "\n",
        "For the complete demonstration, you can view the video directly [here](https://assets.fyers.in/myapi-dashboard/docs/authentication_user_flow.webm)."
      ],
      "metadata": {
        "id": "2D6fExLDtayF"
      }
    },
    {
      "cell_type": "code",
      "source": [
        "!pip install pyotp"
      ],
      "metadata": {
        "colab": {
          "base_uri": "https://localhost:8080/"
        },
        "id": "YV4Tg7bAZS-Y",
        "outputId": "ff2d76d8-db01-4457-92c7-ed1cd83d39e4"
      },
      "execution_count": 6,
      "outputs": [
        {
          "output_type": "stream",
          "name": "stdout",
          "text": [
            "Collecting pyotp\n",
            "  Downloading pyotp-2.9.0-py3-none-any.whl (13 kB)\n",
            "Installing collected packages: pyotp\n",
            "Successfully installed pyotp-2.9.0\n"
          ]
        }
      ]
    },
    {
      "cell_type": "code",
      "source": [
        "from fyers_api import accessToken"
      ],
      "metadata": {
        "id": "wAiyHjKPYYHo"
      },
      "execution_count": 7,
      "outputs": []
    },
    {
      "cell_type": "code",
      "source": [
        "from fyers_api import fyersModel"
      ],
      "metadata": {
        "id": "M7j_k0eEUxPy"
      },
      "execution_count": 8,
      "outputs": []
    },
    {
      "cell_type": "code",
      "source": [
        "# import webbrowser"
      ],
      "metadata": {
        "id": "Z_nDtc33im-q"
      },
      "execution_count": 32,
      "outputs": []
    },
    {
      "cell_type": "code",
      "source": [
        "# grant_type = \"authorization_code\"                  ## The grant_type always has to be \"authorization_code\"\n",
        "# response_type = \"code\"                             ## The response_type always has to be \"code\"\n",
        "# state = \"sample\""
      ],
      "metadata": {
        "id": "v4F5tcnYip_S"
      },
      "execution_count": 28,
      "outputs": []
    },
    {
      "cell_type": "code",
      "source": [
        "# appSession = accessToken.SessionModel(client_id = client_id, redirect_uri = redirect_uri,response_type=response_type,state=state,secret_key=secret_key,grant_type=grant_type)\n",
        "# appSession"
      ],
      "metadata": {
        "id": "sPa-MAMki4DU"
      },
      "execution_count": 29,
      "outputs": []
    },
    {
      "cell_type": "code",
      "source": [
        "# generateTokenUrl = appSession.generate_authcode()\n",
        "# generateTokenUrl"
      ],
      "metadata": {
        "id": "dNQ4tNH3jXks"
      },
      "execution_count": 30,
      "outputs": []
    },
    {
      "cell_type": "code",
      "source": [
        "# webbrowser.open(generateTokenUrl,new=1)"
      ],
      "metadata": {
        "id": "NpeoIpCTjalW"
      },
      "execution_count": 31,
      "outputs": []
    },
    {
      "cell_type": "code",
      "source": [
        "# auth_code = \"Paste the auth_code generated from the first request\"\n",
        "# appSession.set_token(auth_code)\n",
        "\n",
        "# response = appSession.generate_token()\n",
        "# response"
      ],
      "metadata": {
        "id": "T5Ce1bsRjjFA"
      },
      "execution_count": 14,
      "outputs": []
    },
    {
      "cell_type": "code",
      "source": [
        "# try:\n",
        "#     access_token = response[\"access_token\"]\n",
        "# except Exception as e:\n",
        "#     print(e,response)"
      ],
      "metadata": {
        "id": "h-mJDdHelvq7"
      },
      "execution_count": 15,
      "outputs": []
    },
    {
      "cell_type": "code",
      "source": [
        "## it changes daily, fetch it from : https://www.24x7bot.com/admin/fyersapp/fyers_users/8/change/\n",
        "# access_token = 'eyJ0eXAiOiJKV1QiLCJhbGciOiJIUzI1NiJ9.eyJpc3MiOiJhcGkuZnllcnMuaW4iLCJpYXQiOjE3MTkzMTIxMDAsImV4cCI6MTcxOTM2MTg0MCwibmJmIjoxNzE5MzEyMTAwLCJhdWQiOlsieDowIiwieDoxIiwieDoyIiwiZDoxIiwiZDoyIiwieDoxIiwieDowIl0sInN1YiI6ImFjY2Vzc190b2tlbiIsImF0X2hhc2giOiJnQUFBQUFCbWVwN2tpSWJwM2ZhX0NmMEtfOEd2RUlhQkdhUGFvOEo5SFBRQ2xQeWY5ZXZZRmF2Ykx2Rm5vTnFmRmQzM2N3NHBGdWxSUW9pR0FmUHZXUlVHRFVYVzJoYnpsaDJkZDRGWHFjTU1VdmE4N0JLSHBNVT0iLCJkaXNwbGF5X25hbWUiOiJQUklZQU5LQSBHVVBUQSIsIm9tcyI6IksxIiwiaHNtX2tleSI6IjdhYjY3OTI0NzQ5MDY0Y2E0MmEzOWExNmU0MmIxOTJmY2Q0NTlkZDhlNWU5MDZhMmQ5NzVkNTk4IiwiZnlfaWQiOiJZUDExMjYzIiwiYXBwVHlwZSI6MTAwLCJwb2FfZmxhZyI6Ik4ifQ.OXbJLCQMmr4s1Q5tGDWI7xMSJ1e8Mv9LWTInWjHf0q0'"
      ],
      "metadata": {
        "id": "3177AvC4-oUu"
      },
      "execution_count": 16,
      "outputs": []
    },
    {
      "cell_type": "code",
      "source": [
        "redirect_uri = 'https://www.24x7bot.com/my-exchanges/fyers/'\n",
        "# client_id = '2A6LCH4LF8-100'\n",
        "\n",
        "# secret_key = 'AZQK26LO8W'\n",
        "# FY_ID = 'YP11263'\n",
        "\n",
        "# TOTP_KEY = 'RAW3IWFQZUZSHBSIZO6JRHB2FUDR5UIC'\n",
        "# PIN = '6545'  # User pin for fyers account"
      ],
      "metadata": {
        "id": "3_UC5NEfVTOW"
      },
      "execution_count": 5,
      "outputs": []
    },
    {
      "cell_type": "code",
      "source": [
        "from google.colab import userdata\n",
        "\n",
        "access_token = userdata.get('access_token')\n",
        "client_id = userdata.get('client_id')\n",
        "secret_key = userdata.get('secret_key')\n",
        "FY_ID = userdata.get('FY_ID')\n",
        "TOTP_KEY = userdata.get('TOTP_KEY')\n",
        "PIN = userdata.get('PIN')"
      ],
      "metadata": {
        "id": "iTlKysN3LSRf"
      },
      "execution_count": 33,
      "outputs": []
    },
    {
      "cell_type": "code",
      "source": [
        "fyers = fyersModel.FyersModel(token=access_token,is_async=False,client_id=client_id,log_path=\"\")\n",
        "help(fyers)"
      ],
      "metadata": {
        "colab": {
          "base_uri": "https://localhost:8080/"
        },
        "id": "9jN_8lpcl0sY",
        "outputId": "96905844-2e3c-4910-d08d-244f83497f00"
      },
      "execution_count": 39,
      "outputs": [
        {
          "output_type": "stream",
          "name": "stdout",
          "text": [
            "Help on FyersModel in module fyers_api.fyersModel object:\n",
            "\n",
            "class FyersModel(builtins.object)\n",
            " |  FyersModel(is_async=False, client_id=None, token='', log_path='')\n",
            " |  \n",
            " |  Methods defined here:\n",
            " |  \n",
            " |  __init__(self, is_async=False, client_id=None, token='', log_path='')\n",
            " |      Initialize self.  See help(type(self)) for accurate signature.\n",
            " |  \n",
            " |  cancel_basket_orders(self, data)\n",
            " |  \n",
            " |  cancel_order(self, data)\n",
            " |  \n",
            " |  convert_position(self, data)\n",
            " |  \n",
            " |  create_timestamp(self)\n",
            " |  \n",
            " |  depth(self, data=None)\n",
            " |  \n",
            " |  exit_positions(self, data=None)\n",
            " |  \n",
            " |  funds(self, data=None)\n",
            " |  \n",
            " |  generate_data_token(self, data)\n",
            " |  \n",
            " |  get_orders(self, data)\n",
            " |  \n",
            " |  get_profile(self)\n",
            " |  \n",
            " |  history(self, data=None)\n",
            " |  \n",
            " |  holdings(self, data=None)\n",
            " |  \n",
            " |  market_status(self)\n",
            " |  \n",
            " |  minquantity(self)\n",
            " |  \n",
            " |  modify_basket_orders(self, data)\n",
            " |  \n",
            " |  modify_order(self, data)\n",
            " |  \n",
            " |  orderbook(self, data=None)\n",
            " |  \n",
            " |  place_basket_orders(self, data)\n",
            " |  \n",
            " |  place_order(self, data)\n",
            " |  \n",
            " |  positions(self)\n",
            " |  \n",
            " |  quotes(self, data=None)\n",
            " |  \n",
            " |  tradebook(self, data=None)\n",
            " |  \n",
            " |  ----------------------------------------------------------------------\n",
            " |  Data descriptors defined here:\n",
            " |  \n",
            " |  __dict__\n",
            " |      dictionary for instance variables (if defined)\n",
            " |  \n",
            " |  __weakref__\n",
            " |      list of weak references to the object (if defined)\n",
            "\n"
          ]
        }
      ]
    },
    {
      "cell_type": "code",
      "source": [
        "from pprint import pprint as p"
      ],
      "metadata": {
        "id": "2nTBzFYrLhf-"
      },
      "execution_count": 23,
      "outputs": []
    },
    {
      "cell_type": "code",
      "source": [
        "\"\"\"\n",
        "1. User Apis : This includes (Profile,Funds,Holdings)\n",
        "\"\"\"\n",
        "\n",
        "p(fyers.get_profile())  ## This will provide us with the user related data"
      ],
      "metadata": {
        "colab": {
          "base_uri": "https://localhost:8080/"
        },
        "id": "9Hg7I-vAl43X",
        "outputId": "142f92c9-2379-45bd-c1f7-0d598f9d07dc"
      },
      "execution_count": 24,
      "outputs": [
        {
          "output_type": "stream",
          "name": "stdout",
          "text": [
            "{'code': 200,\n",
            " 'data': {'PAN': '---------',\n",
            "          'display_name': None,\n",
            "          'email_id': 'gpriyanka0303@gmail.com',\n",
            "          'fy_id': 'YP11263',\n",
            "          'image': 'https://myaccount-docs-prod.fyers.in/Profile_Picture/wsCmpmBOb12Czqt2.jpeg',\n",
            "          'mobile_number': '6306835094',\n",
            "          'name': 'PRIYANKA GUPTA',\n",
            "          'pin_change_date': '06-06-2024 15:39:48',\n",
            "          'pwd_change_date': None,\n",
            "          'pwd_to_expire': 90,\n",
            "          'totp': True},\n",
            " 'message': '',\n",
            " 's': 'ok'}\n"
          ]
        }
      ]
    },
    {
      "cell_type": "code",
      "source": [
        "p(fyers.funds())        ## This will provide us with the funds the user has"
      ],
      "metadata": {
        "colab": {
          "base_uri": "https://localhost:8080/"
        },
        "id": "Xm8EoM-CLokc",
        "outputId": "e694fd48-3613-48ba-a83e-9d127eaae30d"
      },
      "execution_count": 26,
      "outputs": [
        {
          "output_type": "stream",
          "name": "stdout",
          "text": [
            "{'code': 200,\n",
            " 'fund_limit': [{'commodityAmount': 0,\n",
            "                 'equityAmount': 0,\n",
            "                 'id': 3,\n",
            "                 'title': 'Clear Balance'},\n",
            "                {'commodityAmount': 0,\n",
            "                 'equityAmount': 0,\n",
            "                 'id': 1,\n",
            "                 'title': 'Total Balance'},\n",
            "                {'commodityAmount': 0,\n",
            "                 'equityAmount': 0,\n",
            "                 'id': 7,\n",
            "                 'title': 'Receivables'},\n",
            "                {'commodityAmount': 0,\n",
            "                 'equityAmount': 0,\n",
            "                 'id': 4,\n",
            "                 'title': 'Realized Profit and Loss'},\n",
            "                {'commodityAmount': 0,\n",
            "                 'equityAmount': 0,\n",
            "                 'id': 2,\n",
            "                 'title': 'Utilized Amount'},\n",
            "                {'commodityAmount': 0,\n",
            "                 'equityAmount': 0,\n",
            "                 'id': 5,\n",
            "                 'title': 'Collaterals'},\n",
            "                {'commodityAmount': 0,\n",
            "                 'equityAmount': 0,\n",
            "                 'id': 8,\n",
            "                 'title': 'Adhoc Limit'},\n",
            "                {'commodityAmount': 0,\n",
            "                 'equityAmount': 0,\n",
            "                 'id': 10,\n",
            "                 'title': 'Available Balance'},\n",
            "                {'commodityAmount': 0,\n",
            "                 'equityAmount': 0,\n",
            "                 'id': 6,\n",
            "                 'title': 'Fund Transfer'},\n",
            "                {'commodityAmount': 0,\n",
            "                 'equityAmount': 0,\n",
            "                 'id': 9,\n",
            "                 'title': 'Limit at start of the day'}],\n",
            " 'message': '',\n",
            " 's': 'ok'}\n"
          ]
        }
      ]
    },
    {
      "cell_type": "code",
      "source": [
        "p(fyers.holdings())    ## This will provide the available holdings the user has"
      ],
      "metadata": {
        "colab": {
          "base_uri": "https://localhost:8080/"
        },
        "id": "6ANGV98nLp6T",
        "outputId": "e9cb07ac-f428-4b7b-b1c5-1074c8d30912"
      },
      "execution_count": 27,
      "outputs": [
        {
          "output_type": "stream",
          "name": "stdout",
          "text": [
            "{'code': 200,\n",
            " 'holdings': [],\n",
            " 'message': '',\n",
            " 'overall': {'count_total': 0,\n",
            "             'pnl_perc': 0,\n",
            "             'pnl_perc_day': 0,\n",
            "             'total_current_value': 0,\n",
            "             'total_investment': 0,\n",
            "             'total_pl': 0,\n",
            "             'total_pl_day': 0},\n",
            " 's': 'ok'}\n"
          ]
        }
      ]
    },
    {
      "cell_type": "code",
      "source": [
        "\"\"\"\n",
        "2. Transaction Apis : This includes (Tradebook,Orderbook,Positions)\n",
        "\"\"\"\n",
        "\n",
        "p(fyers.tradebook())   ## This will provide all the trade related information"
      ],
      "metadata": {
        "colab": {
          "base_uri": "https://localhost:8080/"
        },
        "id": "6mYpAog0l9xY",
        "outputId": "53f3fd40-cba9-4abe-e56e-f755d00268a4"
      },
      "execution_count": 35,
      "outputs": [
        {
          "output_type": "stream",
          "name": "stdout",
          "text": [
            "{'code': 200, 'message': '', 's': 'ok', 'tradeBook': []}\n"
          ]
        }
      ]
    },
    {
      "cell_type": "code",
      "source": [
        "p(fyers.orderbook())   ## This will provide the user with all the order realted information"
      ],
      "metadata": {
        "colab": {
          "base_uri": "https://localhost:8080/"
        },
        "id": "yYTPAkZ5M3xO",
        "outputId": "9dbe3ca4-31e6-45cc-91b7-e75d7e2e0305"
      },
      "execution_count": 36,
      "outputs": [
        {
          "output_type": "stream",
          "name": "stdout",
          "text": [
            "{'code': 200, 'message': '', 'orderBook': [], 's': 'ok'}\n"
          ]
        }
      ]
    },
    {
      "cell_type": "code",
      "source": [
        "p(fyers.positions())   ## This will provide the user with all the positions the user has on his end"
      ],
      "metadata": {
        "colab": {
          "base_uri": "https://localhost:8080/"
        },
        "id": "xKmJ32HuM6k1",
        "outputId": "25f36492-21d2-423b-a26e-cd93439f26bf"
      },
      "execution_count": 37,
      "outputs": [
        {
          "output_type": "stream",
          "name": "stdout",
          "text": [
            "{'code': 200,\n",
            " 'message': '',\n",
            " 'netPositions': [],\n",
            " 'overall': {'count_open': 0,\n",
            "             'count_total': 0,\n",
            "             'pl_realized': 0,\n",
            "             'pl_total': 0,\n",
            "             'pl_unrealized': 0},\n",
            " 's': 'ok'}\n"
          ]
        }
      ]
    },
    {
      "cell_type": "code",
      "source": [
        "\"\"\"\n",
        "3. Order Placement  : This Apis helps to place order.\n",
        "  There are two ways to place order\n",
        "    a. single order : wherein you can fire one order at a time\n",
        "    b. multi order : this is used to place a basket of order but the basket size can max be 10 symbols\n",
        "\"\"\"\n",
        "\n",
        "## SINGLE ORDER\n",
        "data =  {\n",
        "\t\"symbol\":\"NSE:IDEA-EQ\",\n",
        "\t\"qty\":1,\n",
        "\t\"type\":1,\n",
        "\t\"side\":1,\n",
        "\t\"productType\":\"INTRADAY\",\n",
        "\t\"limitPrice\":7.9,\n",
        "\t\"stopPrice\":0,\n",
        "\t\"disclosedQty\":0,\n",
        "\t\"validity\":\"DAY\",\n",
        "\t\"offlineOrder\":'False',\n",
        "\t\"stopLoss\":0,\n",
        "\t\"takeProfit\":0\n",
        "}\n",
        "\n",
        "## This is a sample example to place a limit order you can make the further changes based on your requriements\n",
        "p(fyers.place_order(data))"
      ],
      "metadata": {
        "colab": {
          "base_uri": "https://localhost:8080/"
        },
        "id": "nJyUupG8mAur",
        "outputId": "a26f2e64-dbdf-4ac4-fc1c-560c4d1ed6df"
      },
      "execution_count": 48,
      "outputs": [
        {
          "output_type": "stream",
          "name": "stdout",
          "text": [
            "{'code': -99,\n",
            " 'id': '',\n",
            " 'message': 'RED:RULE:{Check circuit limit including square off '\n",
            "            'order}Current:INR 7.90 LowerCircuit:INR 15.47 UpperCircuit:INR '\n",
            "            '18.90:NSE.IDEA-EQ for C-YP11263 [FYERS_RISK_CUG]',\n",
            " 's': 'error'}\n"
          ]
        }
      ]
    },
    {
      "cell_type": "code",
      "source": [
        "## MULTI ORDER\n",
        "\n",
        "data = [{ \"symbol\":\"NSE:SBIN-EQ\",\n",
        "  \"qty\":1,\n",
        "  \"type\":1,\n",
        "  \"side\":1,\n",
        "  \"productType\":\"INTRADAY\",\n",
        "  \"limitPrice\":61050,\n",
        "  \"stopPrice\":0 ,\n",
        "  \"disclosedQty\":0,\n",
        "  \"validity\":\"DAY\",\n",
        "  \"offlineOrder\":\"False\",\n",
        "  \"stopLoss\":0,\n",
        "  \"takeProfit\":0\n",
        "},\n",
        "{\n",
        "  \"symbol\":\"NSE:HDFC-EQ\",\n",
        "  \"qty\":1,\n",
        "  \"type\":2,\n",
        "  \"side\":1,\n",
        "  \"productType\":\"INTRADAY\",\n",
        "  \"limitPrice\":0,\n",
        "  \"stopPrice\":0 ,\n",
        "  \"disclosedQty\":0,\n",
        "  \"validity\":\"DAY\",\n",
        "  \"offlineOrder\":\"False\",\n",
        "  \"stopLoss\":0,\n",
        "  \"takeProfit\":0\n",
        "}]\n",
        "\n",
        "### This takes input as a list containing multiple single order data into it and the execution of the orders goes in the same format as mentioned.\n",
        "p(fyers.place_basket_orders(data))"
      ],
      "metadata": {
        "colab": {
          "base_uri": "https://localhost:8080/"
        },
        "id": "TCeS4L8ln5R0",
        "outputId": "54b8221f-5cd6-4a1c-c2f9-80973441731e"
      },
      "execution_count": 50,
      "outputs": [
        {
          "output_type": "stream",
          "name": "stdout",
          "text": [
            "{'code': 400,\n",
            " 'data': [{'body': {'code': -99,\n",
            "                    'id': '',\n",
            "                    'message': 'RED:RULE:{Check circuit limit including square '\n",
            "                               'off order}Current:INR 61,050.00 '\n",
            "                               'LowerCircuit:INR 758.05 UpperCircuit:INR '\n",
            "                               '926.45:NSE.SBIN-EQ for C-YP11263 '\n",
            "                               '[FYERS_RISK_CUG]',\n",
            "                    's': 'error'},\n",
            "           'statusCode': 400,\n",
            "           'statusDescription': '400 Bad Request'},\n",
            "          {'body': {'code': -300,\n",
            "                    'id': '',\n",
            "                    'message': 'Orders are not allowed in this symbol.',\n",
            "                    's': 'error'},\n",
            "           'statusCode': 400,\n",
            "           'statusDescription': '400 Bad Request'}],\n",
            " 'message': '',\n",
            " 's': 'error'}\n"
          ]
        }
      ]
    },
    {
      "cell_type": "code",
      "source": [
        "\"\"\"\n",
        "4. Other Transaction : This includes (modify_order,exit_position,cancel_order,convert_positions)\n",
        "\"\"\"\n",
        "\n",
        "## Modify_order request\n",
        "data = {\n",
        "          \"id\":7574657627567,\n",
        "          \"type\":1,\n",
        "          \"limitPrice\": 61049,\n",
        "          \"qty\":1\n",
        "      }\n",
        "\n",
        "p(fyers.modify_order(data))"
      ],
      "metadata": {
        "colab": {
          "base_uri": "https://localhost:8080/"
        },
        "id": "LteAFeZcmG8X",
        "outputId": "e2f0a718-64fa-4389-f86c-a279b7118873"
      },
      "execution_count": 51,
      "outputs": [
        {
          "output_type": "stream",
          "name": "stdout",
          "text": [
            "{'code': -51,\n",
            " 'id': '7574657627567',\n",
            " 'message': 'invalid order id: 7574657627567',\n",
            " 's': 'error'}\n"
          ]
        }
      ]
    },
    {
      "cell_type": "code",
      "source": [
        "## Modify Multi Order\n",
        "\n",
        "data = [\n",
        "    { \"id\":8102710298291,\n",
        "  \"type\":1,\n",
        "  \"limitPrice\": 61049,\n",
        "  \"qty\":0\n",
        "},\n",
        "{\n",
        "  \"id\":8102710298292,\n",
        "  \"type\":1,\n",
        "  \"limitPrice\": 61049,\n",
        "  \"qty\":1\n",
        "}]\n",
        "\n",
        "p(fyers.modify_basket_orders(data))"
      ],
      "metadata": {
        "colab": {
          "base_uri": "https://localhost:8080/"
        },
        "id": "ARHLiKcUmnTt",
        "outputId": "daab4dcc-c555-444b-bee1-971b11189465"
      },
      "execution_count": 52,
      "outputs": [
        {
          "output_type": "stream",
          "name": "stdout",
          "text": [
            "{'code': 400,\n",
            " 'data': [{'body': {'code': -50,\n",
            "                    'id': '8102710298291',\n",
            "                    'message': 'qty: Must be greater than or equal to 1',\n",
            "                    's': 'error'},\n",
            "           'statusCode': 400,\n",
            "           'statusDescription': '400 Bad Request'},\n",
            "          {'body': {'code': -51,\n",
            "                    'id': '8102710298292',\n",
            "                    'message': 'invalid order id: 8102710298292',\n",
            "                    's': 'error'},\n",
            "           'statusCode': 400,\n",
            "           'statusDescription': '400 Bad Request'}],\n",
            " 'message': '',\n",
            " 's': 'error'}\n"
          ]
        }
      ]
    },
    {
      "cell_type": "code",
      "source": [
        "### Cancel_order\n",
        "data = {\"id\":'808058117761'}\n",
        "p(fyers.cancel_order(data))"
      ],
      "metadata": {
        "colab": {
          "base_uri": "https://localhost:8080/"
        },
        "id": "B5a9qHTbmqVf",
        "outputId": "96f72549-332a-47da-ed60-a2987290c937"
      },
      "execution_count": 53,
      "outputs": [
        {
          "output_type": "stream",
          "name": "stdout",
          "text": [
            "{'code': -51,\n",
            " 'id': '808058117761',\n",
            " 'message': 'invalid order id: 808058117761',\n",
            " 's': 'error'}\n"
          ]
        }
      ]
    },
    {
      "cell_type": "code",
      "source": [
        "### cancel_multi_order\n",
        "data  =  [\n",
        "{\n",
        "   \"id\":'808058117761'\n",
        " },\n",
        " {\n",
        "   \"id\":'808058117762'\n",
        " }]\n",
        "\n",
        "p(fyers.cancel_basket_orders(data))"
      ],
      "metadata": {
        "colab": {
          "base_uri": "https://localhost:8080/"
        },
        "id": "ijNaocRKmvrE",
        "outputId": "13b6d6aa-4741-4ca0-ff7d-462e23031a41"
      },
      "execution_count": 54,
      "outputs": [
        {
          "output_type": "stream",
          "name": "stdout",
          "text": [
            "{'code': 400,\n",
            " 'data': [{'body': {'code': -51,\n",
            "                    'id': '808058117761',\n",
            "                    'message': 'invalid order id: 808058117761',\n",
            "                    's': 'error'},\n",
            "           'statusCode': 400,\n",
            "           'statusDescription': '400 Bad Request'},\n",
            "          {'body': {'code': -51,\n",
            "                    'id': '808058117762',\n",
            "                    'message': 'invalid order id: 808058117762',\n",
            "                    's': 'error'},\n",
            "           'statusCode': 400,\n",
            "           'statusDescription': '400 Bad Request'}],\n",
            " 'message': '',\n",
            " 's': 'error'}\n"
          ]
        }
      ]
    },
    {
      "cell_type": "code",
      "source": [
        "### Exit Position\n",
        "data  = {\n",
        "     \"id\":\"NSE:SBIN-EQ-INTRADAY\"\n",
        "   }\n",
        "\n",
        "p(fyers.exit_positions(data))"
      ],
      "metadata": {
        "colab": {
          "base_uri": "https://localhost:8080/"
        },
        "id": "Bl7sYhtemv49",
        "outputId": "67821480-8360-4932-e973-c9f1e3a2e87c"
      },
      "execution_count": 55,
      "outputs": [
        {
          "output_type": "stream",
          "name": "stdout",
          "text": [
            "{'code': 1101, 'message': 'Looks like you have no open positions.', 's': 'ok'}\n"
          ]
        }
      ]
    },
    {
      "cell_type": "code",
      "source": [
        "### Convert Position\n",
        "\n",
        "data = {\n",
        "     \"symbol\":\"MCX:SILVERMIC20NOVFUT\",\n",
        "     \"positionSide\":1,\n",
        "     \"convertQty\":1,\n",
        "     \"convertFrom\":\"INTRADAY\",\n",
        "     \"convertTo\":\"CNC\"\n",
        "   }\n",
        "\n",
        "p(fyers.convert_position(data))"
      ],
      "metadata": {
        "colab": {
          "base_uri": "https://localhost:8080/"
        },
        "id": "9ofYE1cVmzXe",
        "outputId": "5a9fca04-b66f-415e-e120-d15293d1a8ff"
      },
      "execution_count": 56,
      "outputs": [
        {
          "output_type": "stream",
          "name": "stdout",
          "text": [
            "{'code': '-310', 'message': 'Please provide a valid symbol', 's': 'error'}\n"
          ]
        }
      ]
    },
    {
      "cell_type": "code",
      "source": [
        "\"\"\"\n",
        "DATA APIS : This includes following Apis(History,Quotes,MarketDepth)\n",
        "\"\"\"\n",
        "\n",
        "## Historical Data\n",
        "\n",
        "data = {\n",
        "  'cont_flag': '1',\n",
        "  'date_format': '0',\n",
        "  'range_from': '1622097600',\n",
        "  'range_to': '1622097685',\n",
        "  'resolution': 'D',\n",
        "  'symbol': 'NSE:SBIN-EQ'\n",
        "}\n",
        "\n",
        "p(fyers.history(data))"
      ],
      "metadata": {
        "colab": {
          "base_uri": "https://localhost:8080/"
        },
        "id": "0y8HJEO5m13b",
        "outputId": "199f5f1d-536b-4669-c278-23735c8efcd2"
      },
      "execution_count": 57,
      "outputs": [
        {
          "output_type": "stream",
          "name": "stdout",
          "text": [
            "{'candles': [[1622073600, 413.7, 429.1, 412.0, 425.2, 73392997]], 's': 'ok'}\n"
          ]
        }
      ]
    },
    {
      "cell_type": "code",
      "source": [
        "## Quotes\n",
        "\n",
        "data = {\"symbols\":\"NSE:SBIN-EQ\"}\n",
        "p(fyers.quotes(data))"
      ],
      "metadata": {
        "colab": {
          "base_uri": "https://localhost:8080/"
        },
        "id": "0S0ppHxGm9nD",
        "outputId": "807302c5-d4e2-4fbc-d29b-6a66ed915959"
      },
      "execution_count": 58,
      "outputs": [
        {
          "output_type": "stream",
          "name": "stdout",
          "text": [
            "{'code': 200,\n",
            " 'd': [{'n': 'NSE:SBIN-EQ',\n",
            "        's': 'ok',\n",
            "        'v': {'ask': 844.7,\n",
            "              'bid': 844.65,\n",
            "              'ch': 2.45,\n",
            "              'chp': 0.29,\n",
            "              'description': 'NSE:SBIN-EQ',\n",
            "              'exchange': 'NSE',\n",
            "              'fyToken': '10100000003045',\n",
            "              'high_price': 848,\n",
            "              'low_price': 836,\n",
            "              'lp': 844.7,\n",
            "              'open_price': 839.85,\n",
            "              'original_name': 'NSE:SBIN-EQ',\n",
            "              'prev_close_price': 842.25,\n",
            "              'short_name': 'SBIN-EQ',\n",
            "              'spread': 0.05,\n",
            "              'symbol': 'NSE:SBIN-EQ',\n",
            "              'tt': '1719360000',\n",
            "              'volume': 6264391}}],\n",
            " 'message': '',\n",
            " 's': 'ok'}\n"
          ]
        }
      ]
    },
    {
      "cell_type": "code",
      "source": [
        "## Market Depth\n",
        "\n",
        "data = {\"symbol\":\"NSE:SBIN-EQ\",\"ohlcv_flag\":\"1\"}\n",
        "p(fyers.depth(data))"
      ],
      "metadata": {
        "colab": {
          "base_uri": "https://localhost:8080/"
        },
        "id": "hLYKcdhqnA-U",
        "outputId": "27f62519-edeb-4b30-8738-72bcf2433bba"
      },
      "execution_count": 59,
      "outputs": [
        {
          "output_type": "stream",
          "name": "stdout",
          "text": [
            "{'d': {'NSE:SBIN-EQ': {'ask': [{'ord': 1, 'price': 844.75, 'volume': 76},\n",
            "                               {'ord': 7, 'price': 844.8, 'volume': 1378},\n",
            "                               {'ord': 5, 'price': 844.85, 'volume': 487},\n",
            "                               {'ord': 5, 'price': 844.9, 'volume': 1138},\n",
            "                               {'ord': 9, 'price': 844.95, 'volume': 868}],\n",
            "                       'atp': 841.6,\n",
            "                       'bids': [{'ord': 7, 'price': 844.6, 'volume': 5037},\n",
            "                                {'ord': 4, 'price': 844.55, 'volume': 628},\n",
            "                                {'ord': 15, 'price': 844.5, 'volume': 2558},\n",
            "                                {'ord': 4, 'price': 844.45, 'volume': 56},\n",
            "                                {'ord': 5, 'price': 844.4, 'volume': 514}],\n",
            "                       'c': 842.25,\n",
            "                       'ch': 2.35,\n",
            "                       'chp': 0.28,\n",
            "                       'expiry': '',\n",
            "                       'h': 848,\n",
            "                       'l': 836,\n",
            "                       'lower_ckt': 758.05,\n",
            "                       'ltp': 844.6,\n",
            "                       'ltq': 5,\n",
            "                       'ltt': 1719383774,\n",
            "                       'o': 839.85,\n",
            "                       'oi': 0,\n",
            "                       'oiflag': False,\n",
            "                       'oipercent': 0,\n",
            "                       'pdoi': 0,\n",
            "                       'tick_Size': 0.05,\n",
            "                       'totalbuyqty': 749114,\n",
            "                       'totalsellqty': 1624004,\n",
            "                       'upper_ckt': 926.45,\n",
            "                       'v': 6269782}},\n",
            " 'message': 'Success',\n",
            " 's': 'ok'}\n"
          ]
        }
      ]
    },
    {
      "cell_type": "code",
      "source": [
        "!pip install fyers_apiv3"
      ],
      "metadata": {
        "colab": {
          "base_uri": "https://localhost:8080/",
          "height": 1000
        },
        "id": "K1x9JrHcRBPz",
        "outputId": "c491e15d-485f-4ea6-8133-23a239ee08fb"
      },
      "execution_count": 65,
      "outputs": [
        {
          "output_type": "stream",
          "name": "stdout",
          "text": [
            "Collecting fyers_apiv3\n",
            "  Downloading fyers_apiv3-3.1.1-py3-none-any.whl (30 kB)\n",
            "Collecting requests==2.31.0 (from fyers_apiv3)\n",
            "  Downloading requests-2.31.0-py3-none-any.whl (62 kB)\n",
            "\u001b[2K     \u001b[90m━━━━━━━━━━━━━━━━━━━━━━━━━━━━━━━━━━━━━━━━\u001b[0m \u001b[32m62.6/62.6 kB\u001b[0m \u001b[31m3.2 MB/s\u001b[0m eta \u001b[36m0:00:00\u001b[0m\n",
            "\u001b[?25hRequirement already satisfied: asyncio==3.4.3 in /usr/local/lib/python3.10/dist-packages (from fyers_apiv3) (3.4.3)\n",
            "Collecting aiohttp==3.9.3 (from fyers_apiv3)\n",
            "  Downloading aiohttp-3.9.3-cp310-cp310-manylinux_2_17_x86_64.manylinux2014_x86_64.whl (1.2 MB)\n",
            "\u001b[2K     \u001b[90m━━━━━━━━━━━━━━━━━━━━━━━━━━━━━━━━━━━━━━━━\u001b[0m \u001b[32m1.2/1.2 MB\u001b[0m \u001b[31m23.4 MB/s\u001b[0m eta \u001b[36m0:00:00\u001b[0m\n",
            "\u001b[?25hCollecting aws-lambda-powertools==1.25.5 (from fyers_apiv3)\n",
            "  Downloading aws_lambda_powertools-1.25.5-py3-none-any.whl (171 kB)\n",
            "\u001b[2K     \u001b[90m━━━━━━━━━━━━━━━━━━━━━━━━━━━━━━━━━━━━━━━━\u001b[0m \u001b[32m171.8/171.8 kB\u001b[0m \u001b[31m15.8 MB/s\u001b[0m eta \u001b[36m0:00:00\u001b[0m\n",
            "\u001b[?25hCollecting websocket-client==1.6.1 (from fyers_apiv3)\n",
            "  Downloading websocket_client-1.6.1-py3-none-any.whl (56 kB)\n",
            "\u001b[2K     \u001b[90m━━━━━━━━━━━━━━━━━━━━━━━━━━━━━━━━━━━━━━━━\u001b[0m \u001b[32m56.9/56.9 kB\u001b[0m \u001b[31m6.0 MB/s\u001b[0m eta \u001b[36m0:00:00\u001b[0m\n",
            "\u001b[?25hRequirement already satisfied: aiosignal>=1.1.2 in /usr/local/lib/python3.10/dist-packages (from aiohttp==3.9.3->fyers_apiv3) (1.3.1)\n",
            "Requirement already satisfied: attrs>=17.3.0 in /usr/local/lib/python3.10/dist-packages (from aiohttp==3.9.3->fyers_apiv3) (23.2.0)\n",
            "Requirement already satisfied: frozenlist>=1.1.1 in /usr/local/lib/python3.10/dist-packages (from aiohttp==3.9.3->fyers_apiv3) (1.4.1)\n",
            "Requirement already satisfied: multidict<7.0,>=4.5 in /usr/local/lib/python3.10/dist-packages (from aiohttp==3.9.3->fyers_apiv3) (6.0.5)\n",
            "Requirement already satisfied: yarl<2.0,>=1.0 in /usr/local/lib/python3.10/dist-packages (from aiohttp==3.9.3->fyers_apiv3) (1.9.4)\n",
            "Requirement already satisfied: async-timeout<5.0,>=4.0 in /usr/local/lib/python3.10/dist-packages (from aiohttp==3.9.3->fyers_apiv3) (4.0.3)\n",
            "Collecting aws-xray-sdk<3.0.0,>=2.8.0 (from aws-lambda-powertools==1.25.5->fyers_apiv3)\n",
            "  Downloading aws_xray_sdk-2.14.0-py2.py3-none-any.whl (101 kB)\n",
            "\u001b[2K     \u001b[90m━━━━━━━━━━━━━━━━━━━━━━━━━━━━━━━━━━━━━━━━\u001b[0m \u001b[32m101.9/101.9 kB\u001b[0m \u001b[31m10.8 MB/s\u001b[0m eta \u001b[36m0:00:00\u001b[0m\n",
            "\u001b[?25hCollecting boto3<2.0,>=1.18 (from aws-lambda-powertools==1.25.5->fyers_apiv3)\n",
            "  Downloading boto3-1.34.133-py3-none-any.whl (139 kB)\n",
            "\u001b[2K     \u001b[90m━━━━━━━━━━━━━━━━━━━━━━━━━━━━━━━━━━━━━━━━\u001b[0m \u001b[32m139.2/139.2 kB\u001b[0m \u001b[31m15.7 MB/s\u001b[0m eta \u001b[36m0:00:00\u001b[0m\n",
            "\u001b[?25hRequirement already satisfied: fastjsonschema<3.0.0,>=2.14.5 in /usr/local/lib/python3.10/dist-packages (from aws-lambda-powertools==1.25.5->fyers_apiv3) (2.20.0)\n",
            "Collecting jmespath<0.11.0,>=0.10.0 (from aws-lambda-powertools==1.25.5->fyers_apiv3)\n",
            "  Downloading jmespath-0.10.0-py2.py3-none-any.whl (24 kB)\n",
            "Requirement already satisfied: charset-normalizer<4,>=2 in /usr/local/lib/python3.10/dist-packages (from requests==2.31.0->fyers_apiv3) (3.3.2)\n",
            "Requirement already satisfied: idna<4,>=2.5 in /usr/local/lib/python3.10/dist-packages (from requests==2.31.0->fyers_apiv3) (2.10)\n",
            "Requirement already satisfied: urllib3<3,>=1.21.1 in /usr/local/lib/python3.10/dist-packages (from requests==2.31.0->fyers_apiv3) (1.26.19)\n",
            "Requirement already satisfied: certifi>=2017.4.17 in /usr/local/lib/python3.10/dist-packages (from requests==2.31.0->fyers_apiv3) (2024.6.2)\n",
            "Requirement already satisfied: wrapt in /usr/local/lib/python3.10/dist-packages (from aws-xray-sdk<3.0.0,>=2.8.0->aws-lambda-powertools==1.25.5->fyers_apiv3) (1.14.1)\n",
            "Collecting botocore>=1.11.3 (from aws-xray-sdk<3.0.0,>=2.8.0->aws-lambda-powertools==1.25.5->fyers_apiv3)\n",
            "  Downloading botocore-1.34.133-py3-none-any.whl (12.3 MB)\n",
            "\u001b[2K     \u001b[90m━━━━━━━━━━━━━━━━━━━━━━━━━━━━━━━━━━━━━━━━\u001b[0m \u001b[32m12.3/12.3 MB\u001b[0m \u001b[31m42.2 MB/s\u001b[0m eta \u001b[36m0:00:00\u001b[0m\n",
            "\u001b[?25hCollecting s3transfer<0.11.0,>=0.10.0 (from boto3<2.0,>=1.18->aws-lambda-powertools==1.25.5->fyers_apiv3)\n",
            "  Downloading s3transfer-0.10.2-py3-none-any.whl (82 kB)\n",
            "\u001b[2K     \u001b[90m━━━━━━━━━━━━━━━━━━━━━━━━━━━━━━━━━━━━━━━━\u001b[0m \u001b[32m82.7/82.7 kB\u001b[0m \u001b[31m10.3 MB/s\u001b[0m eta \u001b[36m0:00:00\u001b[0m\n",
            "\u001b[?25hRequirement already satisfied: python-dateutil<3.0.0,>=2.1 in /usr/local/lib/python3.10/dist-packages (from botocore>=1.11.3->aws-xray-sdk<3.0.0,>=2.8.0->aws-lambda-powertools==1.25.5->fyers_apiv3) (2.8.2)\n",
            "Requirement already satisfied: six>=1.5 in /usr/local/lib/python3.10/dist-packages (from python-dateutil<3.0.0,>=2.1->botocore>=1.11.3->aws-xray-sdk<3.0.0,>=2.8.0->aws-lambda-powertools==1.25.5->fyers_apiv3) (1.16.0)\n",
            "Installing collected packages: websocket-client, requests, jmespath, botocore, aiohttp, s3transfer, aws-xray-sdk, boto3, aws-lambda-powertools, fyers_apiv3\n",
            "  Attempting uninstall: websocket-client\n",
            "    Found existing installation: websocket-client 1.2.1\n",
            "    Uninstalling websocket-client-1.2.1:\n",
            "      Successfully uninstalled websocket-client-1.2.1\n",
            "  Attempting uninstall: requests\n",
            "    Found existing installation: requests 2.25.1\n",
            "    Uninstalling requests-2.25.1:\n",
            "      Successfully uninstalled requests-2.25.1\n",
            "  Attempting uninstall: aiohttp\n",
            "    Found existing installation: aiohttp 3.9.5\n",
            "    Uninstalling aiohttp-3.9.5:\n",
            "      Successfully uninstalled aiohttp-3.9.5\n",
            "\u001b[31mERROR: pip's dependency resolver does not currently take into account all the packages that are installed. This behaviour is the source of the following dependency conflicts.\n",
            "fyers-apiv2 2.0.9 requires requests==2.25.1, but you have requests 2.31.0 which is incompatible.\n",
            "fyers-apiv2 2.0.9 requires websocket-client==1.2.1, but you have websocket-client 1.6.1 which is incompatible.\n",
            "google-colab 1.0.0 requires tornado==6.3.3, but you have tornado 6.1 which is incompatible.\u001b[0m\u001b[31m\n",
            "\u001b[0mSuccessfully installed aiohttp-3.9.3 aws-lambda-powertools-1.25.5 aws-xray-sdk-2.14.0 boto3-1.34.133 botocore-1.34.133 fyers_apiv3-3.1.1 jmespath-0.10.0 requests-2.31.0 s3transfer-0.10.2 websocket-client-1.6.1\n"
          ]
        },
        {
          "output_type": "display_data",
          "data": {
            "application/vnd.colab-display-data+json": {
              "pip_warning": {
                "packages": [
                  "requests"
                ]
              },
              "id": "d73d5de9bb4a435e98ff12e22442915c"
            }
          },
          "metadata": {}
        }
      ]
    },
    {
      "cell_type": "markdown",
      "source": [
        "# [Request Parameters for Step 1](https://myapi.fyers.in/docsv3#tag/Authentication-and-Login-Flow-User-Apps/paths/~1Authentication%20&%20Login%20Flow%20-%20User%20Apps/patch)"
      ],
      "metadata": {
        "id": "rPsdNJ4pu5Ui"
      }
    },
    {
      "cell_type": "code",
      "source": [
        "# Import the required module from the fyers_apiv3 package\n",
        "from fyers_apiv3 import fyersModel\n",
        "\n",
        "# Replace these values with your actual API credentials\n",
        "redirect_uri = \"https://www.24x7bot.com/my-exchanges/fyers/\"\n",
        "response_type = \"code\"\n",
        "state = \"sample_state\"\n",
        "\n",
        "# Create a session model with the provided credentials\n",
        "session = fyersModel.SessionModel(\n",
        "    client_id=client_id,\n",
        "    secret_key=secret_key,\n",
        "    redirect_uri=redirect_uri,\n",
        "    response_type=response_type\n",
        ")\n",
        "\n",
        "# Generate the auth code using the session model\n",
        "response = session.generate_authcode()\n",
        "\n",
        "# Print the auth code received in the response\n",
        "p(response)"
      ],
      "metadata": {
        "colab": {
          "base_uri": "https://localhost:8080/"
        },
        "id": "L6i5585xnDEj",
        "outputId": "4b6b726e-7709-4182-d69d-eb151bfb3385"
      },
      "execution_count": 66,
      "outputs": [
        {
          "output_type": "stream",
          "name": "stdout",
          "text": [
            "'https://api-t1.fyers.in/api/v3/generate-authcode?client_id=2A6LCH4LF8-100&redirect_uri=https%3A%2F%2Fwww.24x7bot.com%2Fmy-exchanges%2Ffyers%2F&response_type=code&state=None'\n"
          ]
        }
      ]
    },
    {
      "cell_type": "markdown",
      "source": [
        "# Request Parameters for Step 2"
      ],
      "metadata": {
        "id": "qUpyfnozA-LI"
      }
    },
    {
      "cell_type": "code",
      "source": [
        "# Import the required module from the fyers_apiv3 package\n",
        "from fyers_apiv3 import fyersModel\n",
        "\n",
        "response_type = \"code\"\n",
        "grant_type = \"authorization_code\"\n",
        "\n",
        "# Create a session object to handle the Fyers API authentication and token generation\n",
        "session = fyersModel.SessionModel(\n",
        "    client_id=client_id,\n",
        "    secret_key=secret_key,\n",
        "    redirect_uri=redirect_uri,\n",
        "    response_type=response_type,\n",
        "    grant_type=grant_type\n",
        ")\n",
        "\n",
        "# Set the authorization code in the session object\n",
        "session.set_token('auth_code')\n",
        "\n",
        "# Generate the access token using the authorization code\n",
        "response = session.generate_token()\n",
        "\n",
        "# Print the response, which should contain the access token and other details\n",
        "p(response)"
      ],
      "metadata": {
        "colab": {
          "base_uri": "https://localhost:8080/"
        },
        "id": "u88cru_8uY8e",
        "outputId": "a852e01a-50a6-4872-84fb-338520296a29"
      },
      "execution_count": 68,
      "outputs": [
        {
          "output_type": "stream",
          "name": "stdout",
          "text": [
            "{'code': -17, 'message': 'Could not authenticate the user', 's': 'error'}\n"
          ]
        }
      ]
    },
    {
      "cell_type": "markdown",
      "source": [
        "# [Profile](https://myapi.fyers.in/docsv3#tag/User/paths/~1User/post)\n",
        "\n",
        "| **Attribute**         | **Data Type** | **Description**                                      |\n",
        "|-----------------------|---------------|------------------------------------------------------|\n",
        "| **name**              | string        | Name of the client                                   |\n",
        "| **display_name**      | string        | Display name, if any, provided by the client         |\n",
        "| **fy_id**             | string        | The client ID of the Fyers user                      |\n",
        "| **image**             | string        | URL link to the user’s profile picture, if any       |\n",
        "| **email_id**          | string        | Email address of the client                          |\n",
        "| **pan**               | string        | PAN of the client                                    |\n",
        "| **pin_change_date**   | string        | Date when last PIN was updated                       |\n",
        "| **pwd_change_date**   | string        | Date when last password was updated                  |\n",
        "| **mobile_number**     | string        | Registered mobile number                             |\n",
        "| **totp**              | boolean       | Status of TOTP                                       |\n",
        "| **pwd_to_expire**     | int           | Number of days until the current password expires    |\n"
      ],
      "metadata": {
        "id": "3QoIyokuCRqu"
      }
    },
    {
      "cell_type": "code",
      "source": [
        "# Initialize the FyersModel instance with your client_id, access_token, and enable async mode\n",
        "fyers = fyersModel.FyersModel(client_id=client_id, is_async=False, token=access_token, log_path=\"\")\n",
        "\n",
        "# Make a request to get the user profile information\n",
        "response = fyers.get_profile()\n",
        "\n",
        "# Print the response received from the Fyers API\n",
        "p(response)"
      ],
      "metadata": {
        "colab": {
          "base_uri": "https://localhost:8080/"
        },
        "id": "VSgg5hM_Btf1",
        "outputId": "9d02eaa6-9f4c-49d6-e17b-e371d7afd7a5"
      },
      "execution_count": 69,
      "outputs": [
        {
          "output_type": "stream",
          "name": "stdout",
          "text": [
            "{'code': 200,\n",
            " 'data': {'PAN': '---------',\n",
            "          'display_name': None,\n",
            "          'email_id': 'gpriyanka0303@gmail.com',\n",
            "          'fy_id': 'YP11263',\n",
            "          'image': 'https://myaccount-docs-prod.fyers.in/Profile_Picture/wsCmpmBOb12Czqt2.jpeg',\n",
            "          'mobile_number': '6306835094',\n",
            "          'name': 'PRIYANKA GUPTA',\n",
            "          'pin_change_date': '06-06-2024 15:39:48',\n",
            "          'pwd_change_date': None,\n",
            "          'pwd_to_expire': 90,\n",
            "          'totp': True},\n",
            " 'message': '',\n",
            " 's': 'ok'}\n"
          ]
        }
      ]
    },
    {
      "cell_type": "code",
      "source": [
        "import requests\n",
        "app_id = '2A6LCH4LF8-100'\n",
        "\n",
        "def construct_url(base_url, **params):\n",
        "    url = base_url + \"?\"\n",
        "    url += \"&\".join([f\"{key}={value}\" for key, value in params.items()])\n",
        "    return url\n",
        "\n",
        "def postman_request(endpoint='profile', **params):\n",
        "    base_url = f\"https://api-t1.fyers.in/api/v3/{endpoint}\"\n",
        "    url = construct_url(base_url, **params)\n",
        "    headers = {\n",
        "        \"Authorization\": f\"{app_id}:{access_token}\"\n",
        "    }\n",
        "\n",
        "    response = requests.get(url, headers=headers)\n",
        "\n",
        "    if response.status_code == 200:\n",
        "        return response.json()\n",
        "    else:\n",
        "        print(\"Failed with status code:\", response.status_code)\n",
        "        return response.text"
      ],
      "metadata": {
        "id": "LWyUFhivZee8"
      },
      "execution_count": 70,
      "outputs": []
    },
    {
      "cell_type": "markdown",
      "source": [
        "## [Equivalent Postman Request](https://warped-comet-915880.postman.co/workspace/Team-Workspace~021e59ad-6229-436e-8a1a-b8db03fab185/request/34005341-796b35a9-2936-47db-9e19-77f84958e1d6?action=share&creator=34005341&ctx=documentation&active-environment=34005341-c5b2da72-a948-4796-89d5-9f531b08025f)"
      ],
      "metadata": {
        "id": "sPSP7axwZ0dt"
      }
    },
    {
      "cell_type": "code",
      "source": [
        "postman_request()"
      ],
      "metadata": {
        "colab": {
          "base_uri": "https://localhost:8080/"
        },
        "id": "a1RDqqMHiJJY",
        "outputId": "34f7dd2b-c723-4e20-f7ad-ce317f1c867e"
      },
      "execution_count": 71,
      "outputs": [
        {
          "output_type": "execute_result",
          "data": {
            "text/plain": [
              "{'s': 'ok',\n",
              " 'code': 200,\n",
              " 'message': '',\n",
              " 'data': {'fy_id': 'YP11263',\n",
              "  'name': 'PRIYANKA GUPTA',\n",
              "  'image': 'https://myaccount-docs-prod.fyers.in/Profile_Picture/wsCmpmBOb12Czqt2.jpeg',\n",
              "  'display_name': None,\n",
              "  'pin_change_date': '06-06-2024 15:39:48',\n",
              "  'email_id': 'gpriyanka0303@gmail.com',\n",
              "  'pwd_change_date': None,\n",
              "  'PAN': '---------',\n",
              "  'mobile_number': '6306835094',\n",
              "  'totp': True,\n",
              "  'pwd_to_expire': 90}}"
            ]
          },
          "metadata": {},
          "execution_count": 71
        }
      ]
    },
    {
      "cell_type": "markdown",
      "source": [
        "# Funds\n",
        "\n",
        "| **Attribute**       | **Data Type** | **Description**                                             |\n",
        "|---------------------|---------------|-------------------------------------------------------------|\n",
        "| **id**              | int           | Unique identity for a particular fund                       |\n",
        "| **title**           | string        | Each title represents a heading of the ledger               |\n",
        "| **equityAmount**    | float         | The amount in the capital ledger for the above-mentioned title |\n",
        "| **commodityAmount** | float         | The amount in the commodity ledger for the above-mentioned title |\n"
      ],
      "metadata": {
        "id": "nJtrf8llEcoX"
      }
    },
    {
      "cell_type": "code",
      "source": [
        "# Initialize the FyersModel instance with your client_id, access_token, and enable async mode\n",
        "fyers = fyersModel.FyersModel(client_id=client_id, token=access_token,is_async=True, log_path=\"\")\n",
        "\n",
        "# Make a request to get the funds information\n",
        "response = fyers.funds()\n",
        "p(response)"
      ],
      "metadata": {
        "colab": {
          "base_uri": "https://localhost:8080/"
        },
        "id": "2BQ-wdYVCTK_",
        "outputId": "0eb3f1d3-bb98-4384-f35f-3ebc83f49736"
      },
      "execution_count": 72,
      "outputs": [
        {
          "output_type": "stream",
          "name": "stdout",
          "text": [
            "<coroutine object FyersServiceAsync.get_async_call at 0x7d45be7ca340>\n"
          ]
        }
      ]
    },
    {
      "cell_type": "code",
      "source": [
        "postman_request('funds')"
      ],
      "metadata": {
        "colab": {
          "base_uri": "https://localhost:8080/"
        },
        "id": "30Nc5t-KaI9R",
        "outputId": "50cdc5d2-0df1-45f3-d93d-08ed635fda30"
      },
      "execution_count": 73,
      "outputs": [
        {
          "output_type": "execute_result",
          "data": {
            "text/plain": [
              "{'code': 200,\n",
              " 'message': '',\n",
              " 's': 'ok',\n",
              " 'fund_limit': [{'id': 1,\n",
              "   'title': 'Total Balance',\n",
              "   'equityAmount': 0,\n",
              "   'commodityAmount': 0},\n",
              "  {'id': 2,\n",
              "   'title': 'Utilized Amount',\n",
              "   'equityAmount': 0,\n",
              "   'commodityAmount': 0},\n",
              "  {'id': 3, 'title': 'Clear Balance', 'equityAmount': 0, 'commodityAmount': 0},\n",
              "  {'id': 4,\n",
              "   'title': 'Realized Profit and Loss',\n",
              "   'equityAmount': 0,\n",
              "   'commodityAmount': 0},\n",
              "  {'id': 5, 'title': 'Collaterals', 'equityAmount': 0, 'commodityAmount': 0},\n",
              "  {'id': 6, 'title': 'Fund Transfer', 'equityAmount': 0, 'commodityAmount': 0},\n",
              "  {'id': 7, 'title': 'Receivables', 'equityAmount': 0, 'commodityAmount': 0},\n",
              "  {'id': 8, 'title': 'Adhoc Limit', 'equityAmount': 0, 'commodityAmount': 0},\n",
              "  {'id': 9,\n",
              "   'title': 'Limit at start of the day',\n",
              "   'equityAmount': 0,\n",
              "   'commodityAmount': 0},\n",
              "  {'id': 10,\n",
              "   'title': 'Available Balance',\n",
              "   'equityAmount': 0,\n",
              "   'commodityAmount': 0}]}"
            ]
          },
          "metadata": {},
          "execution_count": 73
        }
      ]
    },
    {
      "cell_type": "markdown",
      "source": [
        "# Holdings\n",
        "\n",
        "| **Attribute**                | **Data Type** | **Description**                                                        |\n",
        "|------------------------------|---------------|------------------------------------------------------------------------|\n",
        "| **symbol**                   | string        | Eg: NSE:RCOM-EQ                                                        |\n",
        "| **holdingType**              | string        | Identify the type of holding                                           |\n",
        "| **quantity**                 | int           | The quantity of the symbol which the user has at the beginning of the day |\n",
        "| **remainingQuantity**        | int           | This reflects the quantity - the quantity sold during the day           |\n",
        "| **pl**                       | float         | Profit and loss made                                                   |\n",
        "| **costPrice**                | float         | The original buy price of the holding                                  |\n",
        "| **marketVal**                | float         | The Market value of the current holding                                |\n",
        "| **ltp**                      | float         | LTP is the price from which the next sale of the stocks happens         |\n",
        "| **id**                       | int           | The unique value for each holding                                      |\n",
        "| **fytoken**                  | string        | Fytoken is a unique identifier for every symbol.                       |\n",
        "| **exchange**                 | int           | The exchange in which order is placed.                                 |\n",
        "| **segment**                  | int           | The segment in which the holding is taken.                             |\n",
        "| **isin**                     | string        | Unique ISIN provided by exchange for each symbol                       |\n",
        "| **qty_t1**                   | int           | Quantity t+1 day                                                       |\n",
        "| **remainingPledgeQuantity**  | int           | Remaining Pledged quantity                                             |\n",
        "| **collateralQuantity**       | int           | Pledged quantity                                                       |\n"
      ],
      "metadata": {
        "id": "Jb0JiL7DEaMR"
      }
    },
    {
      "cell_type": "code",
      "source": [
        "# Initialize the FyersModel instance with your client_id, access_token, and enable async mode\n",
        "fyers = fyersModel.FyersModel(client_id=client_id, token=access_token,is_async=False, log_path=\"\")\n",
        "\n",
        "response = fyers.holdings()\n",
        "p(response)"
      ],
      "metadata": {
        "colab": {
          "base_uri": "https://localhost:8080/"
        },
        "id": "HSyypb3SEOGc",
        "outputId": "30eefe94-a2a7-42cd-e4ee-48f343a131ec"
      },
      "execution_count": 74,
      "outputs": [
        {
          "output_type": "stream",
          "name": "stdout",
          "text": [
            "{'code': 200,\n",
            " 'holdings': [],\n",
            " 'message': '',\n",
            " 'overall': {'count_total': 0,\n",
            "             'pnl_perc': 0,\n",
            "             'total_current_value': 0,\n",
            "             'total_investment': 0,\n",
            "             'total_pl': 0},\n",
            " 's': 'ok'}\n"
          ]
        },
        {
          "output_type": "stream",
          "name": "stderr",
          "text": [
            "Exception ignored in: <coroutine object FyersServiceAsync.get_async_call at 0x7d45be7ca340>\n",
            "Traceback (most recent call last):\n",
            "  File \"/usr/local/lib/python3.10/dist-packages/google/colab/_variable_inspector.py\", line 27, in run\n",
            "KeyError: '__builtins__'\n",
            "Exception ignored in: <coroutine object FyersServiceAsync.get_async_call at 0x7d45be7ca340>\n",
            "Traceback (most recent call last):\n",
            "  File \"/usr/local/lib/python3.10/dist-packages/google/colab/_variable_inspector.py\", line 27, in run\n",
            "KeyError: '__builtins__'\n"
          ]
        }
      ]
    },
    {
      "cell_type": "code",
      "source": [
        "postman_request('holdings')"
      ],
      "metadata": {
        "colab": {
          "base_uri": "https://localhost:8080/"
        },
        "id": "NVyFT0gaghZk",
        "outputId": "f3b95da2-749e-4c07-d0e5-07be4f66c963"
      },
      "execution_count": 75,
      "outputs": [
        {
          "output_type": "execute_result",
          "data": {
            "text/plain": [
              "{'code': 200,\n",
              " 'message': '',\n",
              " 's': 'ok',\n",
              " 'overall': {'count_total': 0,\n",
              "  'pnl_perc': 0,\n",
              "  'total_current_value': 0,\n",
              "  'total_investment': 0,\n",
              "  'total_pl': 0},\n",
              " 'holdings': []}"
            ]
          },
          "metadata": {},
          "execution_count": 75
        }
      ]
    },
    {
      "cell_type": "markdown",
      "source": [
        "# Transaction Info\n",
        "\n",
        "| **Attribute**         | **Data Type** | **Description**                                                                                |\n",
        "|-----------------------|---------------|------------------------------------------------------------------------------------------------|\n",
        "| **id**                | string        | The unique order id assigned for each order                                                    |\n",
        "| **exchOrdId**         | string        | The order id provided by the exchange                                                          |\n",
        "| **symbol**            | string        | The symbol for which order is placed                                                           |\n",
        "| **qty**               | int           | The original order quantity                                                                    |\n",
        "| **remainingQuantity** | int           | The remaining quantity                                                                         |\n",
        "| **filledQty**         | int           | The filled quantity after partial trades                                                       |\n",
        "| **status**            | int           | 1 => Canceled<br>2 => Traded / Filled<br>3 => (Not used currently)<br>4 => Transit<br>5 => Rejected<br>6 => Pending<br>7 => Expired |\n",
        "| **slNo**              | int           | This is used to sort the orders based on the time                                              |\n",
        "| **message**           | string        | The error messages are shown here                                                              |\n",
        "| **segment**           | int           | 10 => E (Equity)<br>11 => D (F&O)<br>12 => C (Currency)<br>20 => M (Commodity)                |\n",
        "| **limitPrice**        | float         | The limit price for the order                                                                  |\n",
        "| **stopPrice**         | float         | The stop price for the order                                                                   |\n",
        "| **productType**       | string        | The product type                                                                               |\n",
        "| **type**              | int           | 1 => Limit Order<br>2 => Market Order<br>3 => Stop Order (SL-M)<br>4 => Stoplimit Order (SL-L) |\n",
        "| **side**              | int           | 1 => Buy<br>-1 => Sell                                                                         |\n",
        "| **disclosedQty**      | int           | Disclosed quantity                                                                             |\n",
        "| **orderValidity**     | string        | DAY<br>IOC                                                                                     |\n",
        "| **orderDateTime**     | string        | The order time as per DD-MMM-YYYY hh:mm:ss in IST                                              |\n",
        "| **parentId**          | string        | The parent order id will be provided only for applicable orders (e.g., BO Leg 2 & 3 and CO Leg 2) |\n",
        "| **tradedPrice**       | float         | The average traded price for the order                                                         |\n",
        "| **source**            | string        | Source from where the order was placed                                                         |\n",
        "| **fytoken**           | string        | Fytoken is a unique identifier for every symbol                                                |\n",
        "| **offlineOrder**      | boolean       | False => When market is open<br>True => When placing AMO order                                 |\n",
        "| **pan**               | string        | PAN of the client                                                                              |\n",
        "| **clientId**          | string        | The client id of the Fyers user                                                                |\n",
        "| **exchange**          | int           | The exchange in which order is placed                                                          |\n",
        "| **instrument**        | int           | Exchange instrument type                                                                       |\n",
        "| **discloseQty**       | int           | Disclosed quantity                                                                             |\n",
        "| **orderTag**          | string        | Order tag provided when placing the order. Note: <br><br>1: will be concatenated at the start of the tag provided by the user. <br>2: will be concatenated at the start of the tag generated internally by Fyers. <br><br>Default value if tag not provided when order is placed is 2:Untagged |\n"
      ],
      "metadata": {
        "id": "VFrU_XsUFUlM"
      }
    },
    {
      "cell_type": "code",
      "source": [
        "# Initialize the FyersModel instance with your client_id, access_token, and enable async mode\n",
        "fyers = fyersModel.FyersModel(client_id=client_id, token=access_token,is_async=False, log_path=\"\")\n",
        "\n",
        "response = fyers.orderbook()\n",
        "p(response)"
      ],
      "metadata": {
        "colab": {
          "base_uri": "https://localhost:8080/"
        },
        "id": "eec_m_XQExEQ",
        "outputId": "3ab6b042-fba2-4486-e2f2-4a2cfceb4123"
      },
      "execution_count": 76,
      "outputs": [
        {
          "output_type": "stream",
          "name": "stdout",
          "text": [
            "{'code': 200,\n",
            " 'message': '',\n",
            " 'orderBook': [{'ch': 0.36,\n",
            "                'chp': 2.094240837696335,\n",
            "                'clientId': 'YP11263',\n",
            "                'description': 'VODAFONE IDEA LIMITED',\n",
            "                'disclosedQty': 0,\n",
            "                'ex_sym': 'IDEA',\n",
            "                'exchOrdId': '',\n",
            "                'exchange': 10,\n",
            "                'filledQty': 0,\n",
            "                'fyToken': '101000000014366',\n",
            "                'id': '24062600294302',\n",
            "                'instrument': 0,\n",
            "                'limitPrice': 7.9,\n",
            "                'lp': 17.55,\n",
            "                'message': 'RED:RULE:{Check circuit limit including square off '\n",
            "                           'order}Current:INR 7.90 LowerCircuit:INR 15.47 '\n",
            "                           'UpperCircuit:INR 18.90:NSE.IDEA-EQ for C-YP11263 '\n",
            "                           '[FYERS_RISK_CUG]',\n",
            "                'offlineOrder': False,\n",
            "                'orderDateTime': '26-Jun-2024 12:01:51',\n",
            "                'orderNumStatus': '24062600294302:5',\n",
            "                'orderTag': '2:Untagged',\n",
            "                'orderValidity': 'DAY',\n",
            "                'pan': 'DGHPG5874E',\n",
            "                'productType': 'INTRADAY',\n",
            "                'qty': 1,\n",
            "                'remainingQuantity': 0,\n",
            "                'segment': 10,\n",
            "                'side': 1,\n",
            "                'slNo': 1,\n",
            "                'source': 'API',\n",
            "                'status': 5,\n",
            "                'stopPrice': 0,\n",
            "                'symbol': 'NSE:IDEA-EQ',\n",
            "                'tradedPrice': 0,\n",
            "                'type': 1},\n",
            "               {'ch': 3,\n",
            "                'chp': 0.3561887800534283,\n",
            "                'clientId': 'YP11263',\n",
            "                'description': 'STATE BANK OF INDIA',\n",
            "                'disclosedQty': 0,\n",
            "                'ex_sym': 'SBIN',\n",
            "                'exchOrdId': '',\n",
            "                'exchange': 10,\n",
            "                'filledQty': 0,\n",
            "                'fyToken': '10100000003045',\n",
            "                'id': '24062600294751',\n",
            "                'instrument': 0,\n",
            "                'limitPrice': 61050,\n",
            "                'lp': 845.25,\n",
            "                'message': 'RED:RULE:{Check circuit limit including square off '\n",
            "                           'order}Current:INR 61,050.00 LowerCircuit:INR '\n",
            "                           '758.05 UpperCircuit:INR 926.45:NSE.SBIN-EQ for '\n",
            "                           'C-YP11263 [FYERS_RISK_CUG]',\n",
            "                'offlineOrder': False,\n",
            "                'orderDateTime': '26-Jun-2024 12:02:10',\n",
            "                'orderNumStatus': '24062600294751:5',\n",
            "                'orderTag': '2:Untagged',\n",
            "                'orderValidity': 'DAY',\n",
            "                'pan': 'DGHPG5874E',\n",
            "                'productType': 'INTRADAY',\n",
            "                'qty': 1,\n",
            "                'remainingQuantity': 0,\n",
            "                'segment': 10,\n",
            "                'side': 1,\n",
            "                'slNo': 2,\n",
            "                'source': 'API',\n",
            "                'status': 5,\n",
            "                'stopPrice': 0,\n",
            "                'symbol': 'NSE:SBIN-EQ',\n",
            "                'tradedPrice': 0,\n",
            "                'type': 1},\n",
            "               {'ch': 3,\n",
            "                'chp': 0.3561887800534283,\n",
            "                'clientId': 'YP11263',\n",
            "                'description': 'STATE BANK OF INDIA',\n",
            "                'disclosedQty': 0,\n",
            "                'ex_sym': 'SBIN',\n",
            "                'exchOrdId': '',\n",
            "                'exchange': 10,\n",
            "                'filledQty': 0,\n",
            "                'fyToken': '10100000003045',\n",
            "                'id': '24062600295232',\n",
            "                'instrument': 0,\n",
            "                'limitPrice': 61050,\n",
            "                'lp': 845.25,\n",
            "                'message': 'RED:RULE:{Check circuit limit including square off '\n",
            "                           'order}Current:INR 61,050.00 LowerCircuit:INR '\n",
            "                           '758.05 UpperCircuit:INR 926.45:NSE.SBIN-EQ for '\n",
            "                           'C-YP11263 [FYERS_RISK_CUG]',\n",
            "                'offlineOrder': False,\n",
            "                'orderDateTime': '26-Jun-2024 12:02:35',\n",
            "                'orderNumStatus': '24062600295232:5',\n",
            "                'orderTag': '2:Untagged',\n",
            "                'orderValidity': 'DAY',\n",
            "                'pan': 'DGHPG5874E',\n",
            "                'productType': 'INTRADAY',\n",
            "                'qty': 1,\n",
            "                'remainingQuantity': 0,\n",
            "                'segment': 10,\n",
            "                'side': 1,\n",
            "                'slNo': 3,\n",
            "                'source': 'API',\n",
            "                'status': 5,\n",
            "                'stopPrice': 0,\n",
            "                'symbol': 'NSE:SBIN-EQ',\n",
            "                'tradedPrice': 0,\n",
            "                'type': 1}],\n",
            " 's': 'ok'}\n"
          ]
        }
      ]
    },
    {
      "cell_type": "code",
      "source": [
        "postman_request('orders')"
      ],
      "metadata": {
        "colab": {
          "base_uri": "https://localhost:8080/"
        },
        "id": "R5Rq-v7xifwy",
        "outputId": "8a04d725-2e80-4655-b901-e08b61081662"
      },
      "execution_count": 77,
      "outputs": [
        {
          "output_type": "execute_result",
          "data": {
            "text/plain": [
              "{'code': 200,\n",
              " 'message': '',\n",
              " 's': 'ok',\n",
              " 'orderBook': [{'clientId': 'YP11263',\n",
              "   'exchange': 10,\n",
              "   'fyToken': '101000000014366',\n",
              "   'id': '24062600294302',\n",
              "   'instrument': 0,\n",
              "   'offlineOrder': False,\n",
              "   'source': 'API',\n",
              "   'status': 5,\n",
              "   'type': 1,\n",
              "   'pan': 'DGHPG5874E',\n",
              "   'limitPrice': 7.9,\n",
              "   'productType': 'INTRADAY',\n",
              "   'qty': 1,\n",
              "   'disclosedQty': 0,\n",
              "   'remainingQuantity': 0,\n",
              "   'segment': 10,\n",
              "   'symbol': 'NSE:IDEA-EQ',\n",
              "   'description': 'VODAFONE IDEA LIMITED',\n",
              "   'ex_sym': 'IDEA',\n",
              "   'orderDateTime': '26-Jun-2024 12:01:51',\n",
              "   'side': 1,\n",
              "   'orderValidity': 'DAY',\n",
              "   'stopPrice': 0,\n",
              "   'tradedPrice': 0,\n",
              "   'filledQty': 0,\n",
              "   'exchOrdId': '',\n",
              "   'message': 'RED:RULE:{Check circuit limit including square off order}Current:INR 7.90 LowerCircuit:INR 15.47 UpperCircuit:INR 18.90:NSE.IDEA-EQ for C-YP11263 [FYERS_RISK_CUG]',\n",
              "   'ch': 0.36,\n",
              "   'chp': 2.094240837696335,\n",
              "   'lp': 17.55,\n",
              "   'orderNumStatus': '24062600294302:5',\n",
              "   'slNo': 1,\n",
              "   'orderTag': '2:Untagged'},\n",
              "  {'clientId': 'YP11263',\n",
              "   'exchange': 10,\n",
              "   'fyToken': '10100000003045',\n",
              "   'id': '24062600294751',\n",
              "   'instrument': 0,\n",
              "   'offlineOrder': False,\n",
              "   'source': 'API',\n",
              "   'status': 5,\n",
              "   'type': 1,\n",
              "   'pan': 'DGHPG5874E',\n",
              "   'limitPrice': 61050,\n",
              "   'productType': 'INTRADAY',\n",
              "   'qty': 1,\n",
              "   'disclosedQty': 0,\n",
              "   'remainingQuantity': 0,\n",
              "   'segment': 10,\n",
              "   'symbol': 'NSE:SBIN-EQ',\n",
              "   'description': 'STATE BANK OF INDIA',\n",
              "   'ex_sym': 'SBIN',\n",
              "   'orderDateTime': '26-Jun-2024 12:02:10',\n",
              "   'side': 1,\n",
              "   'orderValidity': 'DAY',\n",
              "   'stopPrice': 0,\n",
              "   'tradedPrice': 0,\n",
              "   'filledQty': 0,\n",
              "   'exchOrdId': '',\n",
              "   'message': 'RED:RULE:{Check circuit limit including square off order}Current:INR 61,050.00 LowerCircuit:INR 758.05 UpperCircuit:INR 926.45:NSE.SBIN-EQ for C-YP11263 [FYERS_RISK_CUG]',\n",
              "   'ch': 2.65,\n",
              "   'chp': 0.3146334223805283,\n",
              "   'lp': 844.9,\n",
              "   'orderNumStatus': '24062600294751:5',\n",
              "   'slNo': 2,\n",
              "   'orderTag': '2:Untagged'},\n",
              "  {'clientId': 'YP11263',\n",
              "   'exchange': 10,\n",
              "   'fyToken': '10100000003045',\n",
              "   'id': '24062600295232',\n",
              "   'instrument': 0,\n",
              "   'offlineOrder': False,\n",
              "   'source': 'API',\n",
              "   'status': 5,\n",
              "   'type': 1,\n",
              "   'pan': 'DGHPG5874E',\n",
              "   'limitPrice': 61050,\n",
              "   'productType': 'INTRADAY',\n",
              "   'qty': 1,\n",
              "   'disclosedQty': 0,\n",
              "   'remainingQuantity': 0,\n",
              "   'segment': 10,\n",
              "   'symbol': 'NSE:SBIN-EQ',\n",
              "   'description': 'STATE BANK OF INDIA',\n",
              "   'ex_sym': 'SBIN',\n",
              "   'orderDateTime': '26-Jun-2024 12:02:35',\n",
              "   'side': 1,\n",
              "   'orderValidity': 'DAY',\n",
              "   'stopPrice': 0,\n",
              "   'tradedPrice': 0,\n",
              "   'filledQty': 0,\n",
              "   'exchOrdId': '',\n",
              "   'message': 'RED:RULE:{Check circuit limit including square off order}Current:INR 61,050.00 LowerCircuit:INR 758.05 UpperCircuit:INR 926.45:NSE.SBIN-EQ for C-YP11263 [FYERS_RISK_CUG]',\n",
              "   'ch': 2.65,\n",
              "   'chp': 0.3146334223805283,\n",
              "   'lp': 844.9,\n",
              "   'orderNumStatus': '24062600295232:5',\n",
              "   'slNo': 3,\n",
              "   'orderTag': '2:Untagged'}]}"
            ]
          },
          "metadata": {},
          "execution_count": 77
        }
      ]
    },
    {
      "cell_type": "markdown",
      "source": [
        "# Order Filter By Order Id"
      ],
      "metadata": {
        "id": "8ZBo2NBGGAOa"
      }
    },
    {
      "cell_type": "code",
      "source": [
        "# Initialize the FyersModel instance with your client_id, access_token, and enable async mode\n",
        "fyers = fyersModel.FyersModel(client_id=client_id, token=access_token,is_async=False, log_path=\"\")\n",
        "\n",
        "orderId = \"24062600294751\"\n",
        "data = {\"id\":orderId}\n",
        "\n",
        "response = fyers.orderbook(data=data)\n",
        "p(response)"
      ],
      "metadata": {
        "colab": {
          "base_uri": "https://localhost:8080/"
        },
        "id": "ktanOWpmFS1_",
        "outputId": "b0fa9f49-1730-4cbd-e8ed-bcadb824530d"
      },
      "execution_count": 80,
      "outputs": [
        {
          "output_type": "stream",
          "name": "stdout",
          "text": [
            "{'code': 200,\n",
            " 'message': '',\n",
            " 'orderBook': [{'ch': 0,\n",
            "                'chp': 0,\n",
            "                'clientId': 'YP11263',\n",
            "                'description': 'STATE BANK OF INDIA',\n",
            "                'disclosedQty': 0,\n",
            "                'ex_sym': 'SBIN',\n",
            "                'exchOrdId': '',\n",
            "                'exchange': 10,\n",
            "                'filledQty': 0,\n",
            "                'fyToken': '10100000003045',\n",
            "                'id': '24062600294751',\n",
            "                'instrument': 0,\n",
            "                'limitPrice': 61050,\n",
            "                'lp': 0,\n",
            "                'message': 'RED:RULE:{Check circuit limit including square off '\n",
            "                           'order}Current:INR 61,050.00 LowerCircuit:INR '\n",
            "                           '758.05 UpperCircuit:INR 926.45:NSE.SBIN-EQ for '\n",
            "                           'C-YP11263 [FYERS_RISK_CUG]',\n",
            "                'offlineOrder': False,\n",
            "                'orderDateTime': '26-Jun-2024 12:02:10',\n",
            "                'orderNumStatus': '24062600294751:5',\n",
            "                'orderTag': '2:Untagged',\n",
            "                'orderValidity': 'DAY',\n",
            "                'pan': 'DGHPG5874E',\n",
            "                'productType': 'INTRADAY',\n",
            "                'qty': 1,\n",
            "                'remainingQuantity': 0,\n",
            "                'segment': 10,\n",
            "                'side': 1,\n",
            "                'slNo': 1,\n",
            "                'source': 'API',\n",
            "                'status': 5,\n",
            "                'stopPrice': 0,\n",
            "                'symbol': 'NSE:SBIN-EQ',\n",
            "                'tradedPrice': 0,\n",
            "                'type': 1}],\n",
            " 's': 'ok'}\n"
          ]
        }
      ]
    },
    {
      "cell_type": "code",
      "source": [
        "postman_request('orders', id='24062600294751')"
      ],
      "metadata": {
        "colab": {
          "base_uri": "https://localhost:8080/"
        },
        "id": "ro_jaPufly71",
        "outputId": "548c5d49-6c53-45c1-9046-94bc135c8219"
      },
      "execution_count": 81,
      "outputs": [
        {
          "output_type": "execute_result",
          "data": {
            "text/plain": [
              "{'code': 200,\n",
              " 'message': '',\n",
              " 's': 'ok',\n",
              " 'orderBook': [{'clientId': 'YP11263',\n",
              "   'exchange': 10,\n",
              "   'fyToken': '10100000003045',\n",
              "   'id': '24062600294751',\n",
              "   'instrument': 0,\n",
              "   'offlineOrder': False,\n",
              "   'source': 'API',\n",
              "   'status': 5,\n",
              "   'type': 1,\n",
              "   'pan': 'DGHPG5874E',\n",
              "   'limitPrice': 61050,\n",
              "   'productType': 'INTRADAY',\n",
              "   'qty': 1,\n",
              "   'disclosedQty': 0,\n",
              "   'remainingQuantity': 0,\n",
              "   'segment': 10,\n",
              "   'symbol': 'NSE:SBIN-EQ',\n",
              "   'description': 'STATE BANK OF INDIA',\n",
              "   'ex_sym': 'SBIN',\n",
              "   'orderDateTime': '26-Jun-2024 12:02:10',\n",
              "   'side': 1,\n",
              "   'orderValidity': 'DAY',\n",
              "   'stopPrice': 0,\n",
              "   'tradedPrice': 0,\n",
              "   'filledQty': 0,\n",
              "   'exchOrdId': '',\n",
              "   'message': 'RED:RULE:{Check circuit limit including square off order}Current:INR 61,050.00 LowerCircuit:INR 758.05 UpperCircuit:INR 926.45:NSE.SBIN-EQ for C-YP11263 [FYERS_RISK_CUG]',\n",
              "   'ch': 0,\n",
              "   'chp': 0,\n",
              "   'lp': 0,\n",
              "   'orderNumStatus': '24062600294751:5',\n",
              "   'slNo': 1,\n",
              "   'orderTag': '2:Untagged'}]}"
            ]
          },
          "metadata": {},
          "execution_count": 81
        }
      ]
    },
    {
      "cell_type": "markdown",
      "source": [
        "# Order Filter By Order tag"
      ],
      "metadata": {
        "id": "_xvcDjAWGOew"
      }
    },
    {
      "cell_type": "code",
      "source": [
        "postman_request('orders', order_tag='2:Untagged')"
      ],
      "metadata": {
        "colab": {
          "base_uri": "https://localhost:8080/"
        },
        "id": "n2BqDCevGIq_",
        "outputId": "8e237569-e833-4f3c-a863-871e0ef4a539"
      },
      "execution_count": 82,
      "outputs": [
        {
          "output_type": "execute_result",
          "data": {
            "text/plain": [
              "{'code': 200,\n",
              " 'message': '',\n",
              " 's': 'ok',\n",
              " 'orderBook': [{'clientId': 'YP11263',\n",
              "   'exchange': 10,\n",
              "   'fyToken': '101000000014366',\n",
              "   'id': '24062600294302',\n",
              "   'instrument': 0,\n",
              "   'offlineOrder': False,\n",
              "   'source': 'API',\n",
              "   'status': 5,\n",
              "   'type': 1,\n",
              "   'pan': 'DGHPG5874E',\n",
              "   'limitPrice': 7.9,\n",
              "   'productType': 'INTRADAY',\n",
              "   'qty': 1,\n",
              "   'disclosedQty': 0,\n",
              "   'remainingQuantity': 0,\n",
              "   'segment': 10,\n",
              "   'symbol': 'NSE:IDEA-EQ',\n",
              "   'description': 'VODAFONE IDEA LIMITED',\n",
              "   'ex_sym': 'IDEA',\n",
              "   'orderDateTime': '26-Jun-2024 12:01:51',\n",
              "   'side': 1,\n",
              "   'orderValidity': 'DAY',\n",
              "   'stopPrice': 0,\n",
              "   'tradedPrice': 0,\n",
              "   'filledQty': 0,\n",
              "   'exchOrdId': '',\n",
              "   'message': 'RED:RULE:{Check circuit limit including square off order}Current:INR 7.90 LowerCircuit:INR 15.47 UpperCircuit:INR 18.90:NSE.IDEA-EQ for C-YP11263 [FYERS_RISK_CUG]',\n",
              "   'ch': 0,\n",
              "   'chp': 0,\n",
              "   'lp': 0,\n",
              "   'orderNumStatus': '24062600294302:5',\n",
              "   'slNo': 1,\n",
              "   'orderTag': '2:Untagged'},\n",
              "  {'clientId': 'YP11263',\n",
              "   'exchange': 10,\n",
              "   'fyToken': '10100000003045',\n",
              "   'id': '24062600294751',\n",
              "   'instrument': 0,\n",
              "   'offlineOrder': False,\n",
              "   'source': 'API',\n",
              "   'status': 5,\n",
              "   'type': 1,\n",
              "   'pan': 'DGHPG5874E',\n",
              "   'limitPrice': 61050,\n",
              "   'productType': 'INTRADAY',\n",
              "   'qty': 1,\n",
              "   'disclosedQty': 0,\n",
              "   'remainingQuantity': 0,\n",
              "   'segment': 10,\n",
              "   'symbol': 'NSE:SBIN-EQ',\n",
              "   'description': 'STATE BANK OF INDIA',\n",
              "   'ex_sym': 'SBIN',\n",
              "   'orderDateTime': '26-Jun-2024 12:02:10',\n",
              "   'side': 1,\n",
              "   'orderValidity': 'DAY',\n",
              "   'stopPrice': 0,\n",
              "   'tradedPrice': 0,\n",
              "   'filledQty': 0,\n",
              "   'exchOrdId': '',\n",
              "   'message': 'RED:RULE:{Check circuit limit including square off order}Current:INR 61,050.00 LowerCircuit:INR 758.05 UpperCircuit:INR 926.45:NSE.SBIN-EQ for C-YP11263 [FYERS_RISK_CUG]',\n",
              "   'ch': 0,\n",
              "   'chp': 0,\n",
              "   'lp': 0,\n",
              "   'orderNumStatus': '24062600294751:5',\n",
              "   'slNo': 2,\n",
              "   'orderTag': '2:Untagged'},\n",
              "  {'clientId': 'YP11263',\n",
              "   'exchange': 10,\n",
              "   'fyToken': '10100000003045',\n",
              "   'id': '24062600295232',\n",
              "   'instrument': 0,\n",
              "   'offlineOrder': False,\n",
              "   'source': 'API',\n",
              "   'status': 5,\n",
              "   'type': 1,\n",
              "   'pan': 'DGHPG5874E',\n",
              "   'limitPrice': 61050,\n",
              "   'productType': 'INTRADAY',\n",
              "   'qty': 1,\n",
              "   'disclosedQty': 0,\n",
              "   'remainingQuantity': 0,\n",
              "   'segment': 10,\n",
              "   'symbol': 'NSE:SBIN-EQ',\n",
              "   'description': 'STATE BANK OF INDIA',\n",
              "   'ex_sym': 'SBIN',\n",
              "   'orderDateTime': '26-Jun-2024 12:02:35',\n",
              "   'side': 1,\n",
              "   'orderValidity': 'DAY',\n",
              "   'stopPrice': 0,\n",
              "   'tradedPrice': 0,\n",
              "   'filledQty': 0,\n",
              "   'exchOrdId': '',\n",
              "   'message': 'RED:RULE:{Check circuit limit including square off order}Current:INR 61,050.00 LowerCircuit:INR 758.05 UpperCircuit:INR 926.45:NSE.SBIN-EQ for C-YP11263 [FYERS_RISK_CUG]',\n",
              "   'ch': 0,\n",
              "   'chp': 0,\n",
              "   'lp': 0,\n",
              "   'orderNumStatus': '24062600295232:5',\n",
              "   'slNo': 3,\n",
              "   'orderTag': '2:Untagged'}]}"
            ]
          },
          "metadata": {},
          "execution_count": 82
        }
      ]
    },
    {
      "cell_type": "markdown",
      "source": [
        "# Positions\n",
        "\n",
        "| **Attribute**          | **Data Type** | **Description**                                                                               |\n",
        "|------------------------|---------------|-----------------------------------------------------------------------------------------------|\n",
        "| **symbol**             | string        | Eg: NSE:SBIN-EQ                                                                               |\n",
        "| **id**                 | string        | The unique value for each position                                                            |\n",
        "| **buyAvg**             | float         | Average buy price                                                                             |\n",
        "| **buyQty**             | int           | Total buy quantity                                                                            |\n",
        "| **sellAvg**            | float         | Average sell price                                                                            |\n",
        "| **sellQty**            | int           | Total sell quantity                                                                           |\n",
        "| **netAvg**             | float         | netAvg                                                                                        |\n",
        "| **netQty**             | int           | Net quantity                                                                                  |\n",
        "| **side**               | int           | The side shows whether the position is long / short                                           |\n",
        "| **qty**                | int           | Absolute value of net quantity                                                                |\n",
        "| **productType**        | string        | The product type of the position                                                              |\n",
        "| **realized_profit**    | float         | The realized profit and loss of the position                                                  |\n",
        "| **pl**                 | float         | The total profit and loss of the position                                                     |\n",
        "| **crossCurrency**      | string        | Y => It is cross currency position<br>N => It is not a cross currency position                |\n",
        "| **rbiRefRate**         | float         | In case of cross currency position, the RBI reference rate required to calculate the profit and loss |\n",
        "| **qtyMulti_com**       | float         | In case of commodity positions, this multiplier is required for profit and loss calculation   |\n",
        "| **segment**            | int           | The segment in which the position is taken                                                    |\n",
        "| **exchange**           | int           | The exchange in which the position is taken                                                   |\n",
        "| **slNo**               | int           | This is used for sorting of positions                                                         |\n",
        "| **ltp**                | float         | LTP is the price from which the next sale of the stocks happens                               |\n",
        "| **fytoken**            | string        | Fytoken is a unique identifier for every symbol                                               |\n",
        "| **cfBuyQty**           | int           | Carry forward buy quantity                                                                    |\n",
        "| **cfSellQty**          | int           | Carry forward sell quantity                                                                   |\n",
        "| **dayBuyQty**          | int           | Day forward buy quantity                                                                      |\n",
        "| **daySellQty**         | int           | Day forward sell quantity                                                                     |\n",
        "| **exchange**           | int           | The exchange in which order is placed                                                         |\n"
      ],
      "metadata": {
        "id": "Y083vQ8MHLbB"
      }
    },
    {
      "cell_type": "code",
      "source": [
        "# Initialize the FyersModel instance with your client_id, access_token, and enable async mode\n",
        "fyers = fyersModel.FyersModel(client_id=client_id, token=access_token,is_async=False, log_path=\"\")\n",
        "\n",
        "response = fyers.positions()\n",
        "p(response)"
      ],
      "metadata": {
        "colab": {
          "base_uri": "https://localhost:8080/"
        },
        "id": "ZAnJJNu8GYiz",
        "outputId": "6e38fe4a-9d2b-4285-c316-a4b77b065683"
      },
      "execution_count": 83,
      "outputs": [
        {
          "output_type": "stream",
          "name": "stdout",
          "text": [
            "{'code': 200,\n",
            " 'message': '',\n",
            " 'netPositions': [],\n",
            " 'overall': {'count_open': 0,\n",
            "             'count_total': 0,\n",
            "             'pl_realized': 0,\n",
            "             'pl_total': 0,\n",
            "             'pl_unrealized': 0},\n",
            " 's': 'ok'}\n"
          ]
        }
      ]
    },
    {
      "cell_type": "code",
      "source": [
        "postman_request('positions')"
      ],
      "metadata": {
        "colab": {
          "base_uri": "https://localhost:8080/"
        },
        "id": "zOgDs8jll5Pe",
        "outputId": "76a0a277-13c9-4973-b5da-361effec4d80"
      },
      "execution_count": 85,
      "outputs": [
        {
          "output_type": "execute_result",
          "data": {
            "text/plain": [
              "{'code': 200,\n",
              " 'message': '',\n",
              " 's': 'ok',\n",
              " 'netPositions': [],\n",
              " 'overall': {'count_open': 0,\n",
              "  'count_total': 0,\n",
              "  'pl_realized': 0,\n",
              "  'pl_total': 0,\n",
              "  'pl_unrealized': 0}}"
            ]
          },
          "metadata": {},
          "execution_count": 85
        }
      ]
    },
    {
      "cell_type": "markdown",
      "source": [
        "# Trades\n",
        "\n",
        "| **Attribute**       | **Data Type** | **Description**                                                                                                   |\n",
        "|---------------------|---------------|-------------------------------------------------------------------------------------------------------------------|\n",
        "| **symbol**          | string        | Eg: NSE:SBIN-EQ                                                                                                   |\n",
        "| **row**             | int           | The unique value to sort the trades                                                                               |\n",
        "| **orderDateTime**   | string        | The time when the trade occurred in “DD-MM-YYYY hh:mm:ss” format in IST                                            |\n",
        "| **orderNumber**     | string        | The order id for which the trade occurred                                                                         |\n",
        "| **tradeNumber**     | string        | The trade number generated by the exchange                                                                        |\n",
        "| **tradePrice**      | float         | The traded price                                                                                                  |\n",
        "| **tradeValue**      | float         | The total traded value                                                                                            |\n",
        "| **tradedQty**       | int           | The total traded quantity                                                                                         |\n",
        "| **side**            | int           | 1 => Buy<br>-1 => Sell                                                                                            |\n",
        "| **productType**     | string        | The product in which the order was placed                                                                         |\n",
        "| **exchangeOrderNo** | string        | The order number provided by the exchange                                                                         |\n",
        "| **segment**         | int           | The segment in which the order is placed                                                                          |\n",
        "| **exchange**        | int           | The exchange in which the order is placed                                                                         |\n",
        "| **fyToken**         | string        | Fytoken is a unique identifier for every symbol                                                                   |\n",
        "| **orderTag**        | string        | Order tag provided when placing the order. Note: <br><br>1: will be concatenated at the start of the tag provided by user.<br>2: will be concatenated at the start of the tag generated internally by Fyers. <br><br>Default value if tag not provided when order is placed is 1:Untagged |\n"
      ],
      "metadata": {
        "id": "6hMRbedXHiKr"
      }
    },
    {
      "cell_type": "code",
      "source": [
        "# Initialize the FyersModel instance with your client_id, access_token, and enable async mode\n",
        "fyers = fyersModel.FyersModel(client_id=client_id, token=access_token,is_async=False, log_path=\"\")\n",
        "\n",
        "response = fyers.tradebook()\n",
        "p(response)"
      ],
      "metadata": {
        "colab": {
          "base_uri": "https://localhost:8080/"
        },
        "id": "8g06LuJNHVrZ",
        "outputId": "8fdbdbbd-eb85-4878-ebca-381820628871"
      },
      "execution_count": 86,
      "outputs": [
        {
          "output_type": "stream",
          "name": "stdout",
          "text": [
            "{'code': 200, 'message': '', 's': 'ok', 'tradeBook': []}\n"
          ]
        }
      ]
    },
    {
      "cell_type": "code",
      "source": [
        "postman_request('tradebook')"
      ],
      "metadata": {
        "colab": {
          "base_uri": "https://localhost:8080/"
        },
        "id": "9A7hXBjWmB2G",
        "outputId": "a7b0f44a-20af-49f2-f151-c48fa6ea5ce6"
      },
      "execution_count": 87,
      "outputs": [
        {
          "output_type": "execute_result",
          "data": {
            "text/plain": [
              "{'code': 200, 'message': '', 's': 'ok', 'tradeBook': []}"
            ]
          },
          "metadata": {},
          "execution_count": 87
        }
      ]
    },
    {
      "cell_type": "markdown",
      "source": [
        "## Product Types Explained\n",
        "\n",
        "---\n",
        "\n",
        "1. **Intraday**:\n",
        "   - Orders bought and sold the same day.\n",
        "   - Order types: Market, Limit, Stop, and Stop Limit.\n",
        "\n",
        "2. **CNC (Cash and Carry)**:\n",
        "   - Orders carried forward to the next day.\n",
        "   - Order types: Market, Limit, Stop, and Stop Limit.\n",
        "\n",
        "3. **Margin**:\n",
        "   - Derivative contracts carried forward.\n",
        "   - Order types: Market, Limit, Stop, and Stop Limit.\n",
        "\n",
        "4. **Cover Order (CO)**:\n",
        "   - Mandatory stopLoss input.\n",
        "   - Order types: Market or Limit.\n",
        "   - Validity: DAY.\n",
        "   - Disclosed quantity: 0.\n",
        "\n",
        "5. **Bracket Order (BO)**:\n",
        "   - Mandatory stopLoss and takeProfit inputs.\n",
        "   - Order types: Market, Limit, Stop, or Stop Limit.\n",
        "   - Validity: DAY.\n",
        "   - Disclosed quantity: 0.\n",
        "\n",
        "## Price Validations\n",
        "\n",
        "---\n",
        "\n",
        "- Prices must conform to exchange tick sizes.\n",
        "- Tick size applies to Limit, Stop, StopLoss, and Target prices.\n",
        "- Tick sizes are available in the symbol master."
      ],
      "metadata": {
        "id": "uwcQeQRMIbzx"
      }
    },
    {
      "cell_type": "markdown",
      "source": [
        "# Order Placement\n",
        "\n",
        "| **Attribute**      | **Data Type** | **Description**                                                                                     |\n",
        "|--------------------|---------------|-----------------------------------------------------------------------------------------------------|\n",
        "| **symbol***        | string        | Eg: NSE:SBIN-EQ                                                                                     |\n",
        "| **qty***           | int           | The quantity should be in multiples of lot size for derivatives.                                    |\n",
        "| **type***          | int           | 1 => Limit Order<br>2 => Market Order<br>3 => Stop Order (SL-M)<br>4 => Stoplimit Order (SL-L)      |\n",
        "| **side***          | int           | 1 => Buy<br>-1 => Sell                                                                              |\n",
        "| **productType***   | string        | CNC => For equity only<br>INTRADAY => Applicable for all segments.<br>MARGIN => Applicable only for derivatives<br>CO => Cover Order<br>BO => Bracket Order |\n",
        "| **limitPrice***    | float         | Default => 0<br>Provide valid price for Limit and Stoplimit orders                                  |\n",
        "| **stopPrice***     | float         | Default => 0<br>Provide valid price for Stop and Stoplimit orders                                   |\n",
        "| **disclosedQty***  | int           | Default => 0<br>Allowed only for Equity                                                             |\n",
        "| **validity***      | string        | IOC => Immediate or Cancel<br>DAY => Valid till the end of the day                                  |\n",
        "| **offlineOrder***  | boolean       | False => When market is open<br>True => When placing AMO order                                      |\n",
        "| **stopLoss***      | float         | Default => 0<br>Provide valid price for CO and BO orders                                            |\n",
        "| **takeProfit***    | float         | Default => 0<br>Provide valid price for BO orders                                                   |\n",
        "| **orderTag**       | string        | (Optional) Tag you want to assign to the specific order                                             |\n"
      ],
      "metadata": {
        "id": "m7s92wmUKs-f"
      }
    },
    {
      "cell_type": "code",
      "source": [
        "# Initialize the FyersModel instance with your client_id, access_token, and enable async mode\n",
        "fyers = fyersModel.FyersModel(client_id=client_id, token=access_token,is_async=False, log_path=\"\")\n",
        "\n",
        "data = {\n",
        "    \"symbol\":\"NSE:IDEA-EQ\",\n",
        "    \"qty\":1,\n",
        "    \"type\":2,\n",
        "    \"side\":1,\n",
        "    \"productType\":\"INTRADAY\",\n",
        "    \"limitPrice\":0,\n",
        "    \"stopPrice\":0,\n",
        "    \"validity\":\"DAY\",\n",
        "    \"disclosedQty\":0,\n",
        "    \"offlineOrder\":False,\n",
        "    \"orderTag\":\"tag1\"\n",
        "}\n",
        "\n",
        "response = fyers.place_order(data=data)\n",
        "p(response)"
      ],
      "metadata": {
        "id": "F56RoN_6HpSD",
        "colab": {
          "base_uri": "https://localhost:8080/"
        },
        "outputId": "83e6011c-1082-4a82-8271-9ad3fb1e1063"
      },
      "execution_count": 91,
      "outputs": [
        {
          "output_type": "stream",
          "name": "stdout",
          "text": [
            "{'code': -99,\n",
            " 'id': '24062600312065',\n",
            " 'message': 'RED:Margin Shortfall:INR 3.52 Available:INR 0.00 for C-YP11263 '\n",
            "            '[FYERS_RISK_CUG]',\n",
            " 's': 'error'}\n"
          ]
        }
      ]
    },
    {
      "cell_type": "markdown",
      "source": [
        "### Key Parameters Explained:\n",
        "- **symbol**: The ticker symbol of the stock (`NSE:IDEA-EQ` in this case).\n",
        "- **qty**: The quantity of the stock to buy or sell.\n",
        "- **type**: The type of order (1 for Limit Order).\n",
        "- **side**: The side of the order (1 for Buy, -1 for Sell).\n",
        "- **productType**: The type of product (INTRADAY in this case).\n",
        "- **limitPrice**: The limit price for the order.\n",
        "- **stopPrice**: The stop price for stop orders (set to 0 if not applicable).\n",
        "- **disclosedQty**: The quantity to disclose to the market (0 means full quantity is disclosed).\n",
        "- **validity**: The validity of the order (DAY means the order is valid for the trading day).\n",
        "- **offlineOrder**: Indicates if the order is an AMO (After Market Order).\n",
        "- **stopLoss**: The stop loss price for CO and BO orders (set to 0 if not applicable).\n",
        "- **takeProfit**: The take profit price for BO orders (set to 0 if not applicable)."
      ],
      "metadata": {
        "id": "ZOtm51RIKHWG"
      }
    },
    {
      "cell_type": "markdown",
      "source": [
        "---\n",
        "\n",
        "This format (`<symbol>-EQ`) indicates the stock symbols for equity shares listed on the NSE. For a comprehensive list, you can refer to the NSE India website or platforms like [Screener.in](https://www.screener.in/).\n",
        "\n",
        "- **SBIN-EQ**: State Bank of India\n",
        "- **TCS-EQ**: Tata Consultancy Services\n",
        "- **RELIANCE-EQ**: Reliance Industries\n",
        "- **HDFCBANK-EQ**: HDFC Bank\n",
        "- **INFY-EQ**: Infosys\n",
        "- **ICICIBANK-EQ**: ICICI Bank\n",
        "- **BHARTIARTL-EQ**: Bharti Airtel\n",
        "- **ITC-EQ**: ITC Limited\n",
        "- **KOTAKBANK-EQ**: Kotak Mahindra Bank\n",
        "- **HINDUNILVR-EQ**: Hindustan Unilever\n",
        "- **LT-EQ**: Larsen & Toubro\n",
        "- **AXISBANK-EQ**: Axis Bank\n",
        "- **WIPRO-EQ**: Wipro\n",
        "- **MARUTI-EQ**: Maruti Suzuki India\n",
        "\n",
        "---\n",
        "\n",
        "The National Stock Exchange of India (NSE) uses various suffixes to denote different types of securities and trading mechanisms. Here are some common suffixes and their meanings:\n",
        "\n",
        "1. **EQ**: Stands for Equity. This suffix is used for securities that are traded under the normal market segment and allow both intraday and delivery-based transactions.\n",
        "   \n",
        "2. **BE**: Book Entry. This suffix is used for securities that are traded under the Trade-for-Trade segment, where each trade results in delivery and cannot be squared off intraday.\n",
        "   \n",
        "3. **BL**: Block Deals. This series is meant for large block deals or bulk orders of shares that are typically traded in a single transaction.\n",
        "   \n",
        "4. **BT**: This suffix is used for securities that provide an exit route for small investors looking to sell physical shares.\n",
        "   \n",
        "5. **GC**: Government Securities. This series is specifically meant for trading government securities (G-Secs) and treasury bills.\n",
        "   \n",
        "6. **IL**: Institutional Investors. This series is used for securities that are primarily traded by institutional investors.\n",
        "   \n",
        "7. **IQ**: Qualified Institutional Investors. This series allows trading by qualified institutional investors without the approval of the depositories.\n",
        "\n",
        "These suffixes help in categorizing securities and understanding the type of transactions permitted for each category.\n",
        "\n",
        "For a detailed list and further information, you can visit the [NSE India](https://www.nseindia.com) website or refer to resources like [Tickertape](https://www.tickertape.in) and the [NSE Securities Information](https://www.nseindia.com/market-data/securities-available-for-trading) page."
      ],
      "metadata": {
        "id": "dpaiPkY2Mym0"
      }
    },
    {
      "cell_type": "markdown",
      "source": [
        "---\n",
        "\n",
        "To understand the difference between a **limit order** and a **stop order**, especially in the context of prioritizing price over the speed of execution, let's delve into their definitions and functionalities:\n",
        "\n",
        "### Limit Order\n",
        "\n",
        "**Definition**: A limit order is an order to buy or sell a security at a specific price or better.\n",
        "\n",
        "**Key Characteristics**:\n",
        "- **Price Control**: Ensures the order will only be executed at the specified limit price or a better price (lower for buy orders, higher for sell orders).\n",
        "- **Execution**: Not guaranteed to be executed if the market price does not reach the limit price. The priority is on the price, not the speed of execution.\n",
        "- **Use Case**: Useful when you want to ensure that you do not pay more (for a buy) or receive less (for a sell) than the desired price. Suitable for less liquid stocks or when you have a specific target price in mind.\n",
        "\n",
        "**Example**:\n",
        "- You place a limit order to buy 100 shares at $45. The order will only execute if the stock price drops to $45 or lower. If the stock does not reach $45, the order remains unfilled.\n",
        "\n",
        "### Stop Order (Stop-Loss Order)\n",
        "\n",
        "**Definition**: A stop order becomes a market order once the stop price is reached. It is primarily used to limit losses or protect profits.\n",
        "\n",
        "**Key Characteristics**:\n",
        "- **Trigger Price**: The order is inactive until the stop price is reached. Once the stop price is hit, it becomes a market order and executes at the best available price.\n",
        "- **Execution**: Execution is guaranteed once the stop price is reached, but the price at which it executes can be different from the stop price due to market conditions. The priority is on execution speed once triggered.\n",
        "- **Use Case**: Useful for protecting against significant losses or locking in profits. Commonly used in volatile markets where price movements can be swift and substantial.\n",
        "\n",
        "**Example**:\n",
        "- You own a stock currently trading at $50. You place a stop order to sell if the price drops to $45. If the price hits $45, the order converts to a market order and will sell at the next available price, which could be slightly above or below $45.\n",
        "\n",
        "### Comparison in Terms of Price Priority and Speed\n",
        "\n",
        "- **Limit Order**:\n",
        "  - **Price Priority**: High. The order will only execute at the specified limit price or better.\n",
        "  - **Speed of Execution**: Low. Execution is not guaranteed if the price does not reach the limit.\n",
        "\n",
        "- **Stop Order**:\n",
        "  - **Price Priority**: Low. Once the stop price is hit, the execution price can vary.\n",
        "  - **Speed of Execution**: High. Converts to a market order and executes immediately once triggered.\n",
        "\n",
        "### Example to Highlight Differences\n",
        "\n",
        "Suppose you own a stock currently trading at $50:\n",
        "- **Limit Order**:\n",
        "  - You set a **sell limit order** at $55. The stock must rise to $55 for the order to execute. If it never reaches $55, the order remains unfilled. Here, the priority is getting the price you want ($55) rather than how quickly the order executes.\n",
        "\n",
        "- **Stop Order**:\n",
        "  - You set a **sell stop order** at $45. If the stock price falls to $45, the order becomes a market order and sells at the next available price. This might be $44.90 or $44.50 depending on market conditions at the time. Here, the priority is on executing the order quickly to prevent further losses, rather than the exact price.\n",
        "\n",
        "### Summary\n",
        "\n",
        "- **Limit Order**: Prioritizes price over speed. It is ideal when you have a target price and can wait for the market to reach it.\n",
        "- **Stop Order**: Prioritizes speed over price. It is ideal for protecting against significant losses by triggering a market order once the stop price is reached.\n",
        "\n",
        "For further reading, you can refer to:\n",
        "1. [Investopedia - Limit Order](https://www.investopedia.com/terms/l/limitorder.asp)\n",
        "2. [Investopedia - Stop Order](https://www.investopedia.com/terms/s/stoporder.asp)"
      ],
      "metadata": {
        "id": "Evc5un3luASy"
      }
    },
    {
      "cell_type": "code",
      "source": [
        "# Install necessary libraries if not already installed\n",
        "# !pip install matplotlib pandas fyers-apiv2\n",
        "\n",
        "import matplotlib.pyplot as plt\n",
        "import pandas as pd\n",
        "import os\n",
        "from fyers_api import fyersModel\n",
        "\n",
        "# Replace with your actual client ID and access token\n",
        "client_id = \"2A6LCH4LF8-100\"\n",
        "access_token = \"eyJ0eXAiOiJKV1QiLCJhbGciOiJIUzI1NiJ9.eyJpc3MiOiJhcGkuZnllcnMuaW4iLCJpYXQiOjE3MTkzODEwNDMsImV4cCI6MTcxOTQ0ODI0MywibmJmIjoxNzE5MzgxMDQzLCJhdWQiOlsieDowIiwieDoxIiwieDoyIiwiZDoxIiwiZDoyIiwieDoxIiwieDowIl0sInN1YiI6ImFjY2Vzc190b2tlbiIsImF0X2hhc2giOiJnQUFBQUFCbWU2d3pYTWdfalBvSXUtOVFhR0RndC04WlBIZ2tfYnpCRi1EcTB3WUFvUFFrU1JmWkJYd3dPbHloekJsdU9YR09qX2lKWTVOaWtESGpnQUd3c2taSjQ0WlVqY2NkaXBMRFJZc08yZFJvc3dYdHNEcz0iLCJkaXNwbGF5X25hbWUiOiJQUklZQU5LQSBHVVBUQSIsIm9tcyI6IksxIiwiaHNtX2tleSI6IjdhYjY3OTI0NzQ5MDY0Y2E0MmEzOWExNmU0MmIxOTJmY2Q0NTlkZDhlNWU5MDZhMmQ5NzVkNTk4IiwiZnlfaWQiOiJZUDExMjYzIiwiYXBwVHlwZSI6MTAwLCJwb2FfZmxhZyI6Ik4ifQ.NImvNXjlj9YZPZfUS3PYzP0N9Q0KLlR_9QduqGt0Zoc\"\n",
        "\n",
        "log_path = os.path.join(os.getcwd(), \"fyers_logs\")\n",
        "\n",
        "# Create the directory if it doesn't exist\n",
        "os.makedirs(log_path, exist_ok=True)\n",
        "\n",
        "# Initialize the FyersModel instance with your client_id, access_token, and enable async mode\n",
        "fyers = fyersModel.FyersModel(client_id=client_id, is_async=False, token=access_token, log_path=log_path)\n",
        "\n",
        "# Define the data for the API request\n",
        "data = {\n",
        "    \"symbol\": \"NSE:SBIN-EQ\",\n",
        "    \"resolution\": \"D\",\n",
        "    \"date_format\": \"0\",\n",
        "    \"range_from\": \"1690895316\",\n",
        "    \"range_to\": \"1691068173\",\n",
        "    \"cont_flag\": \"1\"\n",
        "}\n",
        "\n",
        "# Fetch the historical data\n",
        "response = fyers.history(data=data)\n",
        "print(response)\n",
        "\n",
        "# Check if the response is successful\n",
        "if response['s'] == 'ok':\n",
        "    # Extract the candle data\n",
        "    candles = response['candles']\n",
        "\n",
        "    # Convert the response data to a DataFrame\n",
        "    columns = ['timestamp', 'open', 'high', 'low', 'close', 'volume']\n",
        "    df = pd.DataFrame(candles, columns=columns)\n",
        "\n",
        "    # Convert timestamp to datetime\n",
        "    df['timestamp'] = pd.to_datetime(df['timestamp'], unit='s')\n",
        "\n",
        "    # Convert range_from and range_to to numeric before converting to datetime\n",
        "    range_from = pd.to_numeric(data[\"range_from\"])\n",
        "    range_to = pd.to_numeric(data[\"range_to\"])\n",
        "\n",
        "    # Plotting the candlestick chart\n",
        "    fig, ax = plt.subplots(figsize=(10, 5))\n",
        "\n",
        "    for index, row in df.iterrows():\n",
        "        color = 'green' if row['close'] >= row['open'] else 'red'\n",
        "        ax.plot([row['timestamp'], row['timestamp']], [row['low'], row['high']], color='black')\n",
        "        ax.plot([row['timestamp'], row['timestamp']], [row['open'], row['close']], color=color, linewidth=5)\n",
        "\n",
        "    # Add additional details to the title\n",
        "    ax.set_title(f'Candlestick Chart for {data[\"symbol\"]} \\nDate Range: {pd.to_datetime(range_from, unit=\"s\").strftime(\"%Y-%m-%d\")} to {pd.to_datetime(range_to, unit=\"s\").strftime(\"%Y-%m-%d\")}')\n",
        "    ax.set_xlabel('Date')\n",
        "    ax.set_ylabel('Price')\n",
        "    ax.grid(True)\n",
        "\n",
        "    plt.show()\n",
        "else:\n",
        "    print(\"Failed to fetch data:\", response)\n"
      ],
      "metadata": {
        "id": "45m6XqGqK3oL",
        "colab": {
          "base_uri": "https://localhost:8080/",
          "height": 1000
        },
        "outputId": "bdcc3f0f-e988-4214-d9f6-1b8886903b0a"
      },
      "execution_count": 2,
      "outputs": [
        {
          "output_type": "stream",
          "name": "stdout",
          "text": [
            "Requirement already satisfied: matplotlib in /usr/local/lib/python3.10/dist-packages (3.7.1)\n",
            "Requirement already satisfied: pandas in /usr/local/lib/python3.10/dist-packages (2.0.3)\n",
            "Collecting fyers-apiv2\n",
            "  Downloading fyers_apiv2-2.0.9-py3-none-any.whl (11 kB)\n",
            "Requirement already satisfied: contourpy>=1.0.1 in /usr/local/lib/python3.10/dist-packages (from matplotlib) (1.2.1)\n",
            "Requirement already satisfied: cycler>=0.10 in /usr/local/lib/python3.10/dist-packages (from matplotlib) (0.12.1)\n",
            "Requirement already satisfied: fonttools>=4.22.0 in /usr/local/lib/python3.10/dist-packages (from matplotlib) (4.53.0)\n",
            "Requirement already satisfied: kiwisolver>=1.0.1 in /usr/local/lib/python3.10/dist-packages (from matplotlib) (1.4.5)\n",
            "Requirement already satisfied: numpy>=1.20 in /usr/local/lib/python3.10/dist-packages (from matplotlib) (1.25.2)\n",
            "Requirement already satisfied: packaging>=20.0 in /usr/local/lib/python3.10/dist-packages (from matplotlib) (24.1)\n",
            "Requirement already satisfied: pillow>=6.2.0 in /usr/local/lib/python3.10/dist-packages (from matplotlib) (9.4.0)\n",
            "Requirement already satisfied: pyparsing>=2.3.1 in /usr/local/lib/python3.10/dist-packages (from matplotlib) (3.1.2)\n",
            "Requirement already satisfied: python-dateutil>=2.7 in /usr/local/lib/python3.10/dist-packages (from matplotlib) (2.8.2)\n",
            "Requirement already satisfied: pytz>=2020.1 in /usr/local/lib/python3.10/dist-packages (from pandas) (2023.4)\n",
            "Requirement already satisfied: tzdata>=2022.1 in /usr/local/lib/python3.10/dist-packages (from pandas) (2024.1)\n",
            "Collecting requests==2.25.1 (from fyers-apiv2)\n",
            "  Downloading requests-2.25.1-py2.py3-none-any.whl (61 kB)\n",
            "\u001b[2K     \u001b[90m━━━━━━━━━━━━━━━━━━━━━━━━━━━━━━━━━━━━━━━━\u001b[0m \u001b[32m61.2/61.2 kB\u001b[0m \u001b[31m1.9 MB/s\u001b[0m eta \u001b[36m0:00:00\u001b[0m\n",
            "\u001b[?25hCollecting tornado==6.1 (from fyers-apiv2)\n",
            "  Downloading tornado-6.1.tar.gz (497 kB)\n",
            "\u001b[2K     \u001b[90m━━━━━━━━━━━━━━━━━━━━━━━━━━━━━━━━━━━━━━━━\u001b[0m \u001b[32m497.4/497.4 kB\u001b[0m \u001b[31m5.9 MB/s\u001b[0m eta \u001b[36m0:00:00\u001b[0m\n",
            "\u001b[?25h  Preparing metadata (setup.py) ... \u001b[?25l\u001b[?25hdone\n",
            "Collecting asyncio==3.4.3 (from fyers-apiv2)\n",
            "  Downloading asyncio-3.4.3-py3-none-any.whl (101 kB)\n",
            "\u001b[2K     \u001b[90m━━━━━━━━━━━━━━━━━━━━━━━━━━━━━━━━━━━━━━━━\u001b[0m \u001b[32m101.8/101.8 kB\u001b[0m \u001b[31m6.2 MB/s\u001b[0m eta \u001b[36m0:00:00\u001b[0m\n",
            "\u001b[?25hCollecting websockets==8.1 (from fyers-apiv2)\n",
            "  Downloading websockets-8.1.tar.gz (58 kB)\n",
            "\u001b[2K     \u001b[90m━━━━━━━━━━━━━━━━━━━━━━━━━━━━━━━━━━━━━━━━\u001b[0m \u001b[32m58.9/58.9 kB\u001b[0m \u001b[31m5.2 MB/s\u001b[0m eta \u001b[36m0:00:00\u001b[0m\n",
            "\u001b[?25h  Preparing metadata (setup.py) ... \u001b[?25l\u001b[?25hdone\n",
            "Collecting websocket-client==1.2.1 (from fyers-apiv2)\n",
            "  Downloading websocket_client-1.2.1-py2.py3-none-any.whl (52 kB)\n",
            "\u001b[2K     \u001b[90m━━━━━━━━━━━━━━━━━━━━━━━━━━━━━━━━━━━━━━━━\u001b[0m \u001b[32m52.8/52.8 kB\u001b[0m \u001b[31m5.8 MB/s\u001b[0m eta \u001b[36m0:00:00\u001b[0m\n",
            "\u001b[?25hCollecting chardet<5,>=3.0.2 (from requests==2.25.1->fyers-apiv2)\n",
            "  Downloading chardet-4.0.0-py2.py3-none-any.whl (178 kB)\n",
            "\u001b[2K     \u001b[90m━━━━━━━━━━━━━━━━━━━━━━━━━━━━━━━━━━━━━━━━\u001b[0m \u001b[32m178.7/178.7 kB\u001b[0m \u001b[31m6.9 MB/s\u001b[0m eta \u001b[36m0:00:00\u001b[0m\n",
            "\u001b[?25hCollecting idna<3,>=2.5 (from requests==2.25.1->fyers-apiv2)\n",
            "  Downloading idna-2.10-py2.py3-none-any.whl (58 kB)\n",
            "\u001b[2K     \u001b[90m━━━━━━━━━━━━━━━━━━━━━━━━━━━━━━━━━━━━━━━━\u001b[0m \u001b[32m58.8/58.8 kB\u001b[0m \u001b[31m6.4 MB/s\u001b[0m eta \u001b[36m0:00:00\u001b[0m\n",
            "\u001b[?25hCollecting urllib3<1.27,>=1.21.1 (from requests==2.25.1->fyers-apiv2)\n",
            "  Downloading urllib3-1.26.19-py2.py3-none-any.whl (143 kB)\n",
            "\u001b[2K     \u001b[90m━━━━━━━━━━━━━━━━━━━━━━━━━━━━━━━━━━━━━━━━\u001b[0m \u001b[32m143.9/143.9 kB\u001b[0m \u001b[31m6.2 MB/s\u001b[0m eta \u001b[36m0:00:00\u001b[0m\n",
            "\u001b[?25hRequirement already satisfied: certifi>=2017.4.17 in /usr/local/lib/python3.10/dist-packages (from requests==2.25.1->fyers-apiv2) (2024.6.2)\n",
            "Requirement already satisfied: six>=1.5 in /usr/local/lib/python3.10/dist-packages (from python-dateutil>=2.7->matplotlib) (1.16.0)\n",
            "Building wheels for collected packages: tornado, websockets\n",
            "  Building wheel for tornado (setup.py) ... \u001b[?25l\u001b[?25hdone\n",
            "  Created wheel for tornado: filename=tornado-6.1-cp310-cp310-linux_x86_64.whl size=421977 sha256=4d6d6c5ce5073cb9ab30be2a11971ee84fd116a011664bd0445f33b1c544de1a\n",
            "  Stored in directory: /root/.cache/pip/wheels/80/32/8d/21cf0fa6ee4e083f6530e5b83dfdfa9489a3890d320803f4c7\n",
            "  Building wheel for websockets (setup.py) ... \u001b[?25l\u001b[?25hdone\n",
            "  Created wheel for websockets: filename=websockets-8.1-cp310-cp310-linux_x86_64.whl size=73428 sha256=6bd80c4621000e706434223512ab10f0b84833068a28be3a6bd0f6e6a06e125e\n",
            "  Stored in directory: /root/.cache/pip/wheels/98/3f/c7/9993dad06631d258fb8a01677090029dbdbd884a6199c31483\n",
            "Successfully built tornado websockets\n",
            "Installing collected packages: asyncio, websockets, websocket-client, urllib3, tornado, idna, chardet, requests, fyers-apiv2\n",
            "  Attempting uninstall: websocket-client\n",
            "    Found existing installation: websocket-client 1.8.0\n",
            "    Uninstalling websocket-client-1.8.0:\n",
            "      Successfully uninstalled websocket-client-1.8.0\n",
            "  Attempting uninstall: urllib3\n",
            "    Found existing installation: urllib3 2.0.7\n",
            "    Uninstalling urllib3-2.0.7:\n",
            "      Successfully uninstalled urllib3-2.0.7\n",
            "  Attempting uninstall: tornado\n",
            "    Found existing installation: tornado 6.3.3\n",
            "    Uninstalling tornado-6.3.3:\n",
            "      Successfully uninstalled tornado-6.3.3\n",
            "  Attempting uninstall: idna\n",
            "    Found existing installation: idna 3.7\n",
            "    Uninstalling idna-3.7:\n",
            "      Successfully uninstalled idna-3.7\n",
            "  Attempting uninstall: chardet\n",
            "    Found existing installation: chardet 5.2.0\n",
            "    Uninstalling chardet-5.2.0:\n",
            "      Successfully uninstalled chardet-5.2.0\n",
            "  Attempting uninstall: requests\n",
            "    Found existing installation: requests 2.31.0\n",
            "    Uninstalling requests-2.31.0:\n",
            "      Successfully uninstalled requests-2.31.0\n",
            "\u001b[31mERROR: pip's dependency resolver does not currently take into account all the packages that are installed. This behaviour is the source of the following dependency conflicts.\n",
            "bigframes 1.9.0 requires requests>=2.27.1, but you have requests 2.25.1 which is incompatible.\n",
            "google-colab 1.0.0 requires requests==2.31.0, but you have requests 2.25.1 which is incompatible.\n",
            "google-colab 1.0.0 requires tornado==6.3.3, but you have tornado 6.1 which is incompatible.\n",
            "tweepy 4.14.0 requires requests<3,>=2.27.0, but you have requests 2.25.1 which is incompatible.\n",
            "yfinance 0.2.40 requires requests>=2.31, but you have requests 2.25.1 which is incompatible.\u001b[0m\u001b[31m\n",
            "\u001b[0mSuccessfully installed asyncio-3.4.3 chardet-4.0.0 fyers-apiv2-2.0.9 idna-2.10 requests-2.25.1 tornado-6.1 urllib3-1.26.19 websocket-client-1.2.1 websockets-8.1\n"
          ]
        },
        {
          "output_type": "display_data",
          "data": {
            "application/vnd.colab-display-data+json": {
              "pip_warning": {
                "packages": [
                  "asyncio",
                  "tornado"
                ]
              },
              "id": "8f6bda48111749b9a3fddecb0c0c3922"
            }
          },
          "metadata": {}
        },
        {
          "output_type": "stream",
          "name": "stdout",
          "text": [
            "{'s': 'ok', 'candles': [[1690848000, 620.2, 620.85, 610.6, 611.85, 13493453], [1690934400, 609.85, 610.5, 594.1, 598.45, 14977497], [1691020800, 598.7, 600.85, 585.0, 590.5, 27774877]]}\n"
          ]
        },
        {
          "output_type": "display_data",
          "data": {
            "text/plain": [
              "<Figure size 1000x500 with 1 Axes>"
            ],
            "image/png": "[encoded data removed]"
          },
          "metadata": {}
        }
      ]
    },
    {
      "cell_type": "code",
      "source": [],
      "metadata": {
        "id": "Q_Kb12bzgDv0"
      },
      "execution_count": null,
      "outputs": []
    }
  ]
}